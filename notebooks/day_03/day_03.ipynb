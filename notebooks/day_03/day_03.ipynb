{
 "cells": [
  {
   "cell_type": "markdown",
   "metadata": {},
   "source": [
    "# Differential expression analysis\n"
   ]
  },
  {
   "cell_type": "markdown",
   "metadata": {},
   "source": [
    "You have run the nf-core/rnaseq pipeline and checked the first quality control metrics of your fastq files. This was, however, only the primary analysis and we want to take it further.\n",
    "\n",
    "Due to the computational demand of the pipeline, you only ran the pipeline on two of the 16 samples in the study yesterday. We provide you an essential output of nf-core/rnaseq pipeline in the `data` folder: It contains the combined epression matrix as produced by Salmon, which provides transcript levels for each gene (rows) and each sample (columns).\n"
   ]
  },
  {
   "cell_type": "markdown",
   "metadata": {},
   "source": [
    "We would now like to understand exactly the difference between the expression in our groups of mice. \n",
    "Which pipeline would you use for this?"
   ]
  },
  {
   "cell_type": "markdown",
   "metadata": {
    "vscode": {
     "languageId": "shellscript"
    }
   },
   "source": "differentialabundance"
  },
  {
   "cell_type": "markdown",
   "metadata": {},
   "source": [
    "Have a close look at the pipeline's \"Usage\" page on the [nf-core docs](nf-co.re). You will need to create a samplesheet (based on the column names in the provided matrix)."
   ]
  },
  {
   "cell_type": "code",
   "metadata": {
    "vscode": {
     "languageId": "shellscript"
    },
    "ExecuteTime": {
     "end_time": "2025-10-01T08:50:49.788757Z",
     "start_time": "2025-10-01T08:50:49.779961Z"
    }
   },
   "source": [
    "from enum import unique\n",
    "\n",
    "import pandas as pd\n",
    "import numpy as np\n",
    "\n",
    "sample_sheet = pd.read_csv('../day_02/sample_sheet_all.csv', index_col=0)\n",
    "conditions = pd.read_csv('../day_02/conditions.csv', index_col=0)\n",
    "sample_sheet['Treatment'] = np.where(conditions.loc[sample_sheet.index, 'condition: oxy'], 'oxy', 'Sal')\n",
    "sample_sheet['Genotype'] = np.where(conditions.loc[sample_sheet.index, 'genotype: sham'], 'Sham', 'SNI')\n",
    "\n",
    "sample_sheet['Condition'] = sample_sheet['Genotype'] + '_' + sample_sheet['Treatment']\n",
    "sample_sheet['Condition_count'] = sample_sheet.groupby('Condition').cumcount() + 1\n",
    "sample_sheet['sample'] = sample_sheet['Condition'] + '_' + sample_sheet['Condition_count'].astype(str)\n",
    "sample_sheet.index = sample_sheet['sample']\n",
    "sample_sheet = sample_sheet.drop(columns=['Condition_count'])\n",
    "sample_sheet['Condition'].to_csv('sample_sheet.csv', index=True)"
   ],
   "outputs": [],
   "execution_count": 13
  },
  {
   "metadata": {
    "ExecuteTime": {
     "end_time": "2025-10-01T07:55:07.185599Z",
     "start_time": "2025-10-01T07:55:07.177707Z"
    }
   },
   "cell_type": "code",
   "source": "sample_sheet",
   "outputs": [
    {
     "data": {
      "text/plain": [
       "                                                       fastq_1  \\\n",
       "sample                                                           \n",
       "SRR23195516  fetch_out/fastq/SRX19144486_SRR23195516_1.fast...   \n",
       "SRR23195511  fetch_out/fastq/SRX19144488_SRR23195511_1.fast...   \n",
       "SRR23195517                                                NaN   \n",
       "SRR23195505                                                NaN   \n",
       "SRR23195508                                                NaN   \n",
       "SRR23195519                                                NaN   \n",
       "SRR23195509                                                NaN   \n",
       "SRR23195514                                                NaN   \n",
       "SRR23195510                                                NaN   \n",
       "SRR23195512                                                NaN   \n",
       "SRR23195520                                                NaN   \n",
       "SRR23195506                                                NaN   \n",
       "SRR23195518                                                NaN   \n",
       "SRR23195507                                                NaN   \n",
       "SRR23195513                                                NaN   \n",
       "SRR23195515                                                NaN   \n",
       "\n",
       "                                                       fastq_2 strandedness  \\\n",
       "sample                                                                        \n",
       "SRR23195516  fetch_out/fastq/SRX19144486_SRR23195516_2.fast...         auto   \n",
       "SRR23195511  fetch_out/fastq/SRX19144488_SRR23195511_2.fast...         auto   \n",
       "SRR23195517                                                NaN         auto   \n",
       "SRR23195505                                                NaN         auto   \n",
       "SRR23195508                                                NaN         auto   \n",
       "SRR23195519                                                NaN         auto   \n",
       "SRR23195509                                                NaN         auto   \n",
       "SRR23195514                                                NaN         auto   \n",
       "SRR23195510                                                NaN         auto   \n",
       "SRR23195512                                                NaN         auto   \n",
       "SRR23195520                                                NaN         auto   \n",
       "SRR23195506                                                NaN         auto   \n",
       "SRR23195518                                                NaN         auto   \n",
       "SRR23195507                                                NaN         auto   \n",
       "SRR23195513                                                NaN         auto   \n",
       "SRR23195515                                                NaN         auto   \n",
       "\n",
       "            Condition Genotype  \n",
       "sample                          \n",
       "SRR23195516       oxy      sni  \n",
       "SRR23195511       oxy     sham  \n",
       "SRR23195517       oxy      sni  \n",
       "SRR23195505       sal      sni  \n",
       "SRR23195508       oxy      sni  \n",
       "SRR23195519       oxy     sham  \n",
       "SRR23195509       oxy      sni  \n",
       "SRR23195514       oxy     sham  \n",
       "SRR23195510       sal      sni  \n",
       "SRR23195512       sal     sham  \n",
       "SRR23195520       sal     sham  \n",
       "SRR23195506       oxy     sham  \n",
       "SRR23195518       sal      sni  \n",
       "SRR23195507       sal     sham  \n",
       "SRR23195513       sal      sni  \n",
       "SRR23195515       sal     sham  "
      ],
      "text/html": [
       "<div>\n",
       "<style scoped>\n",
       "    .dataframe tbody tr th:only-of-type {\n",
       "        vertical-align: middle;\n",
       "    }\n",
       "\n",
       "    .dataframe tbody tr th {\n",
       "        vertical-align: top;\n",
       "    }\n",
       "\n",
       "    .dataframe thead th {\n",
       "        text-align: right;\n",
       "    }\n",
       "</style>\n",
       "<table border=\"1\" class=\"dataframe\">\n",
       "  <thead>\n",
       "    <tr style=\"text-align: right;\">\n",
       "      <th></th>\n",
       "      <th>fastq_1</th>\n",
       "      <th>fastq_2</th>\n",
       "      <th>strandedness</th>\n",
       "      <th>Condition</th>\n",
       "      <th>Genotype</th>\n",
       "    </tr>\n",
       "    <tr>\n",
       "      <th>sample</th>\n",
       "      <th></th>\n",
       "      <th></th>\n",
       "      <th></th>\n",
       "      <th></th>\n",
       "      <th></th>\n",
       "    </tr>\n",
       "  </thead>\n",
       "  <tbody>\n",
       "    <tr>\n",
       "      <th>SRR23195516</th>\n",
       "      <td>fetch_out/fastq/SRX19144486_SRR23195516_1.fast...</td>\n",
       "      <td>fetch_out/fastq/SRX19144486_SRR23195516_2.fast...</td>\n",
       "      <td>auto</td>\n",
       "      <td>oxy</td>\n",
       "      <td>sni</td>\n",
       "    </tr>\n",
       "    <tr>\n",
       "      <th>SRR23195511</th>\n",
       "      <td>fetch_out/fastq/SRX19144488_SRR23195511_1.fast...</td>\n",
       "      <td>fetch_out/fastq/SRX19144488_SRR23195511_2.fast...</td>\n",
       "      <td>auto</td>\n",
       "      <td>oxy</td>\n",
       "      <td>sham</td>\n",
       "    </tr>\n",
       "    <tr>\n",
       "      <th>SRR23195517</th>\n",
       "      <td>NaN</td>\n",
       "      <td>NaN</td>\n",
       "      <td>auto</td>\n",
       "      <td>oxy</td>\n",
       "      <td>sni</td>\n",
       "    </tr>\n",
       "    <tr>\n",
       "      <th>SRR23195505</th>\n",
       "      <td>NaN</td>\n",
       "      <td>NaN</td>\n",
       "      <td>auto</td>\n",
       "      <td>sal</td>\n",
       "      <td>sni</td>\n",
       "    </tr>\n",
       "    <tr>\n",
       "      <th>SRR23195508</th>\n",
       "      <td>NaN</td>\n",
       "      <td>NaN</td>\n",
       "      <td>auto</td>\n",
       "      <td>oxy</td>\n",
       "      <td>sni</td>\n",
       "    </tr>\n",
       "    <tr>\n",
       "      <th>SRR23195519</th>\n",
       "      <td>NaN</td>\n",
       "      <td>NaN</td>\n",
       "      <td>auto</td>\n",
       "      <td>oxy</td>\n",
       "      <td>sham</td>\n",
       "    </tr>\n",
       "    <tr>\n",
       "      <th>SRR23195509</th>\n",
       "      <td>NaN</td>\n",
       "      <td>NaN</td>\n",
       "      <td>auto</td>\n",
       "      <td>oxy</td>\n",
       "      <td>sni</td>\n",
       "    </tr>\n",
       "    <tr>\n",
       "      <th>SRR23195514</th>\n",
       "      <td>NaN</td>\n",
       "      <td>NaN</td>\n",
       "      <td>auto</td>\n",
       "      <td>oxy</td>\n",
       "      <td>sham</td>\n",
       "    </tr>\n",
       "    <tr>\n",
       "      <th>SRR23195510</th>\n",
       "      <td>NaN</td>\n",
       "      <td>NaN</td>\n",
       "      <td>auto</td>\n",
       "      <td>sal</td>\n",
       "      <td>sni</td>\n",
       "    </tr>\n",
       "    <tr>\n",
       "      <th>SRR23195512</th>\n",
       "      <td>NaN</td>\n",
       "      <td>NaN</td>\n",
       "      <td>auto</td>\n",
       "      <td>sal</td>\n",
       "      <td>sham</td>\n",
       "    </tr>\n",
       "    <tr>\n",
       "      <th>SRR23195520</th>\n",
       "      <td>NaN</td>\n",
       "      <td>NaN</td>\n",
       "      <td>auto</td>\n",
       "      <td>sal</td>\n",
       "      <td>sham</td>\n",
       "    </tr>\n",
       "    <tr>\n",
       "      <th>SRR23195506</th>\n",
       "      <td>NaN</td>\n",
       "      <td>NaN</td>\n",
       "      <td>auto</td>\n",
       "      <td>oxy</td>\n",
       "      <td>sham</td>\n",
       "    </tr>\n",
       "    <tr>\n",
       "      <th>SRR23195518</th>\n",
       "      <td>NaN</td>\n",
       "      <td>NaN</td>\n",
       "      <td>auto</td>\n",
       "      <td>sal</td>\n",
       "      <td>sni</td>\n",
       "    </tr>\n",
       "    <tr>\n",
       "      <th>SRR23195507</th>\n",
       "      <td>NaN</td>\n",
       "      <td>NaN</td>\n",
       "      <td>auto</td>\n",
       "      <td>sal</td>\n",
       "      <td>sham</td>\n",
       "    </tr>\n",
       "    <tr>\n",
       "      <th>SRR23195513</th>\n",
       "      <td>NaN</td>\n",
       "      <td>NaN</td>\n",
       "      <td>auto</td>\n",
       "      <td>sal</td>\n",
       "      <td>sni</td>\n",
       "    </tr>\n",
       "    <tr>\n",
       "      <th>SRR23195515</th>\n",
       "      <td>NaN</td>\n",
       "      <td>NaN</td>\n",
       "      <td>auto</td>\n",
       "      <td>sal</td>\n",
       "      <td>sham</td>\n",
       "    </tr>\n",
       "  </tbody>\n",
       "</table>\n",
       "</div>"
      ]
     },
     "execution_count": 9,
     "metadata": {},
     "output_type": "execute_result"
    }
   ],
   "execution_count": 9
  },
  {
   "cell_type": "markdown",
   "metadata": {},
   "source": [
    "Please paste here the command you used. You may need to inspect the provided expression matrix more closely and create additional files, like a samplesheet (based on the column names) or a contrast file (there happens to also be one in `data/` that you can use)."
   ]
  },
  {
   "cell_type": "code",
   "metadata": {
    "vscode": {
     "languageId": "shellscript"
    },
    "ExecuteTime": {
     "end_time": "2025-10-01T08:54:53.735873Z",
     "start_time": "2025-10-01T08:52:26.157654Z"
    }
   },
   "source": [
    " !nextflow run nf-core/differentialabundance \\\n",
    "     --input sample_sheet.csv \\\n",
    "     --contrasts data/contrasts.csv \\\n",
    "     --matrix data/salmon.merged.gene_counts.tsv \\\n",
    "     --outdir differentialabundance_out  \\\n",
    "     -profile rnaseq,docker,arm"
   ],
   "outputs": [
    {
     "name": "stdout",
     "output_type": "stream",
     "text": [
      "\r\n",
      "\u001B[1m\u001B[38;5;232m\u001B[48;5;43m N E X T F L O W \u001B[0;2m  ~  \u001B[mversion 25.04.7\u001B[m\r\n",
      "\u001B[K\r\n",
      "Launching\u001B[35m `https://github.com/nf-core/differentialabundance` \u001B[0;2m[\u001B[0;1;36mdeadly_tuckerman\u001B[0;2m] DSL2 - \u001B[36mrevision: \u001B[0;36m3dd360fed0 [master]\u001B[m\r\n",
      "\u001B[K\r\n",
      "\u001B[33mWARN: Access to undefined parameter `monochromeLogs` -- Initialise it to a default value eg. `params.monochromeLogs = some_value`\u001B[39m\u001B[K\r\n",
      "\r\n",
      "\r\n",
      "-\u001B[2m----------------------------------------------------\u001B[0m-\r\n",
      "                                        \u001B[0;32m,--.\u001B[0;30m/\u001B[0;32m,-.\u001B[0m\r\n",
      "\u001B[0;34m        ___     __   __   __   ___     \u001B[0;32m/,-._.--~'\u001B[0m\r\n",
      "\u001B[0;34m  |\\ | |__  __ /  ` /  \\ |__) |__         \u001B[0;33m}  {\u001B[0m\r\n",
      "\u001B[0;34m  | \\| |       \\__, \\__/ |  \\ |___     \u001B[0;32m\\`-._,-`-,\u001B[0m\r\n",
      "                                        \u001B[0;32m`._,._,'\u001B[0m\r\n",
      "\u001B[0;35m  nf-core/differentialabundance v1.5.0-g3dd360f\u001B[0m\r\n",
      "-\u001B[2m----------------------------------------------------\u001B[0m-\r\n",
      "\u001B[1mCore Nextflow options\u001B[0m\r\n",
      "  \u001B[0;34mrevision                    : \u001B[0;32mmaster\u001B[0m\r\n",
      "  \u001B[0;34mrunName                     : \u001B[0;32mdeadly_tuckerman\u001B[0m\r\n",
      "  \u001B[0;34mcontainerEngine             : \u001B[0;32mdocker\u001B[0m\r\n",
      "  \u001B[0;34mcontainer                   : \u001B[0;32m[RMARKDOWNNOTEBOOK:biocontainers/r-shinyngs:1.8.8--r43hdfd78af_0]\u001B[0m\r\n",
      "  \u001B[0;34mlaunchDir                   : \u001B[0;32m/Users/patrick/Studium_Local/3.Sem/computational-workflows-2025/notebooks/day_03\u001B[0m\r\n",
      "  \u001B[0;34mworkDir                     : \u001B[0;32m/Users/patrick/Studium_Local/3.Sem/computational-workflows-2025/notebooks/day_03/work\u001B[0m\r\n",
      "  \u001B[0;34mprojectDir                  : \u001B[0;32m/Users/patrick/.nextflow/assets/nf-core/differentialabundance\u001B[0m\r\n",
      "  \u001B[0;34muserName                    : \u001B[0;32mpatrick\u001B[0m\r\n",
      "  \u001B[0;34mprofile                     : \u001B[0;32mrnaseq,docker,arm\u001B[0m\r\n",
      "  \u001B[0;34mconfigFiles                 : \u001B[0;32m\u001B[0m\r\n",
      "\r\n",
      "\u001B[1mInput/output options\u001B[0m\r\n",
      "  \u001B[0;34minput                       : \u001B[0;32msample_sheet.csv\u001B[0m\r\n",
      "  \u001B[0;34mcontrasts                   : \u001B[0;32mdata/contrasts.csv\u001B[0m\r\n",
      "  \u001B[0;34moutdir                      : \u001B[0;32mdifferentialabundance_out\u001B[0m\r\n",
      "\r\n",
      "\u001B[1mAbundance values\u001B[0m\r\n",
      "  \u001B[0;34mmatrix                      : \u001B[0;32mdata/salmon.merged.gene_counts.tsv\u001B[0m\r\n",
      "  \u001B[0;34maffy_cel_files_archive      : \u001B[0;32mnull\u001B[0m\r\n",
      "  \u001B[0;34mquerygse                    : \u001B[0;32mnull\u001B[0m\r\n",
      "\r\n",
      "\u001B[1mAffy input options\u001B[0m\r\n",
      "  \u001B[0;34maffy_cdfname                : \u001B[0;32mnull\u001B[0m\r\n",
      "\r\n",
      "\u001B[1mExploratory analysis\u001B[0m\r\n",
      "  \u001B[0;34mexploratory_log2_assays     : \u001B[0;32mraw,normalised\u001B[0m\r\n",
      "\r\n",
      "\u001B[1mDifferential analysis\u001B[0m\r\n",
      "  \u001B[0;34mdifferential_file_suffix    : \u001B[0;32m.deseq2.results.tsv\u001B[0m\r\n",
      "\r\n",
      "\u001B[1mLimma specific options (microarray only)\u001B[0m\r\n",
      "  \u001B[0;34mlimma_spacing               : \u001B[0;32mnull\u001B[0m\r\n",
      "  \u001B[0;34mlimma_block                 : \u001B[0;32mnull\u001B[0m\r\n",
      "  \u001B[0;34mlimma_correlation           : \u001B[0;32mnull\u001B[0m\r\n",
      "\r\n",
      "\u001B[1mgprofiler2\u001B[0m\r\n",
      "  \u001B[0;34mgprofiler2_correction_method: \u001B[0;32mgSCS\u001B[0m\r\n",
      "  \u001B[0;34mgprofiler2_background_file  : \u001B[0;32mauto\u001B[0m\r\n",
      "\r\n",
      "\u001B[1mShiny app settings\u001B[0m\r\n",
      "  \u001B[0;34mshinyngs_shinyapps_account  : \u001B[0;32mnull\u001B[0m\r\n",
      "  \u001B[0;34mshinyngs_shinyapps_app_name : \u001B[0;32mnull\u001B[0m\r\n",
      "\r\n",
      "\u001B[1mOptions related to gene set analysis\u001B[0m\r\n",
      "  \u001B[0;34mgene_sets_files             : \u001B[0;32mnull\u001B[0m\r\n",
      "\r\n",
      "\u001B[1mReporting options\u001B[0m\r\n",
      "  \u001B[0;34mreport_title                : \u001B[0;32mnull\u001B[0m\r\n",
      "  \u001B[0;34mreport_author               : \u001B[0;32mnull\u001B[0m\r\n",
      "  \u001B[0;34mreport_description          : \u001B[0;32mnull\u001B[0m\r\n",
      "\r\n",
      "\u001B[1mInstitutional config options\u001B[0m\r\n",
      "  \u001B[0;34mconfig_profile_name         : \u001B[0;32mRNA-seq profile\u001B[0m\r\n",
      "  \u001B[0;34mconfig_profile_description  : \u001B[0;32mSettings for RNA-seq analysis\u001B[0m\r\n",
      "\r\n",
      "!! Only displaying parameters that differ from the pipeline defaults !!\r\n",
      "-\u001B[2m----------------------------------------------------\u001B[0m-\r\n",
      "If you use nf-core/differentialabundance for your analysis please cite:\r\n",
      "\r\n",
      "* The pipeline\r\n",
      "  https://doi.org/10.5281/zenodo.7568000\r\n",
      "\r\n",
      "* The nf-core framework\r\n",
      "  https://doi.org/10.1038/s41587-020-0439-x\r\n",
      "\r\n",
      "* Software dependencies\r\n",
      "  https://github.com/nf-core/differentialabundance/blob/master/CITATIONS.md\r\n",
      "-\u001B[2m----------------------------------------------------\u001B[0m-\r\n",
      "\u001B[33mWARN: Access to undefined parameter `gtf` -- Initialise it to a default value eg. `params.gtf = some_value`\u001B[39m\u001B[K\r\n",
      "\u001B[2m[\u001B[0;34m-        \u001B[0;2m] \u001B[0;2mNFC…RENTIALABUNDANCE:\u001B[mVALIDATOR -\u001B[K\r\n",
      "\u001B[2m[\u001B[0;34m-        \u001B[0;2m] \u001B[0;2mNFC…NDANCE:\u001B[mCUSTOM_MATRIXFILTER -\u001B[K\r\n",
      "\u001B[2m[\u001B[0;34m-        \u001B[0;2m] \u001B[0;2mNFC…NTIALABUNDANCE:\u001B[mDESEQ2_NORM -\u001B[K\r\n",
      "\u001B[2m[\u001B[0;34m-        \u001B[0;2m] \u001B[0;2mNFC…NDANCE:\u001B[mDESEQ2_DIFFERENTIAL -\u001B[K\r\n",
      "\u001B[2m[\u001B[0;34m-        \u001B[0;2m] \u001B[0;2mNFC…ABUNDANCE:\u001B[mFILTER_DIFFTABLE -\u001B[K\r\n",
      "\u001B[2m[\u001B[0;34m-        \u001B[0;2m] \u001B[0;2mNFC…ABUNDANCE:\u001B[mPLOT_EXPLORATORY -\u001B[K\r\n",
      "\u001B[2m[\u001B[0;34m-        \u001B[0;2m] \u001B[0;2mNFC…BUNDANCE:\u001B[mPLOT_DIFFERENTIAL -\u001B[K\r\n",
      "\u001B[2m[\u001B[0;34m-        \u001B[0;2m] \u001B[0;2mNFC…TIALABUNDANCE:\u001B[mSHINYNGS_APP -\u001B[K\r\n",
      "\u001B[2m[\u001B[0;34m-        \u001B[0;2m] \u001B[0;2mNFC…BUNDANCE:\u001B[mRMARKDOWNNOTEBOOK -\u001B[K\r\n",
      "\u001B[2m[\u001B[0;34m-        \u001B[0;2m] \u001B[0;2mNFC…UNDANCE:\u001B[mMAKE_REPORT_BUNDLE -\u001B[K\r\n",
      "\u001B[11A\r\n",
      "\u001B[2mexecutor >  local (1)\u001B[m\u001B[K\r\n",
      "\u001B[2m[\u001B[0;34m6f/d72fc0\u001B[0;2m] \u001B[0;2m\u001B[mNFC…LIDATOR\u001B[33;2m (\u001B[0;33msample_sheet.csv\u001B[2m)\u001B[m\u001B[2m |\u001B[m 0 of 1\u001B[K\r\n",
      "\u001B[2m[\u001B[0;34m-        \u001B[0;2m] \u001B[0;2mNFC…NDANCE:\u001B[mCUSTOM_MATRIXFILTER -\u001B[K\r\n",
      "\u001B[2m[\u001B[0;34m-        \u001B[0;2m] \u001B[0;2mNFC…NTIALABUNDANCE:\u001B[mDESEQ2_NORM -\u001B[K\r\n",
      "\u001B[2m[\u001B[0;34m-        \u001B[0;2m] \u001B[0;2mNFC…NDANCE:\u001B[mDESEQ2_DIFFERENTIAL -\u001B[K\r\n",
      "\u001B[2m[\u001B[0;34m-        \u001B[0;2m] \u001B[0;2mNFC…ABUNDANCE:\u001B[mFILTER_DIFFTABLE -\u001B[K\r\n",
      "\u001B[2m[\u001B[0;34m-        \u001B[0;2m] \u001B[0;2mNFC…ABUNDANCE:\u001B[mPLOT_EXPLORATORY -\u001B[K\r\n",
      "\u001B[2m[\u001B[0;34m-        \u001B[0;2m] \u001B[0;2mNFC…BUNDANCE:\u001B[mPLOT_DIFFERENTIAL -\u001B[K\r\n",
      "\u001B[2m[\u001B[0;34m-        \u001B[0;2m] \u001B[0;2mNFC…TIALABUNDANCE:\u001B[mSHINYNGS_APP -\u001B[K\r\n",
      "\u001B[2m[\u001B[0;34m-        \u001B[0;2m] \u001B[0;2mNFC…BUNDANCE:\u001B[mRMARKDOWNNOTEBOOK -\u001B[K\r\n",
      "\u001B[2m[\u001B[0;34m-        \u001B[0;2m] \u001B[0;2mNFC…UNDANCE:\u001B[mMAKE_REPORT_BUNDLE -\u001B[K\r\n",
      "\u001B[12A\r\n",
      "\u001B[2mexecutor >  local (2)\u001B[m\u001B[K\r\n",
      "\u001B[2m[\u001B[0;34m6f/d72fc0\u001B[0;2m] \u001B[0;2m\u001B[mNFC…LIDATOR\u001B[33;2m (\u001B[0;33msample_sheet.csv\u001B[2m)\u001B[m\u001B[2m |\u001B[m 1 of 1\u001B[32m ✔\u001B[m\u001B[K\r\n",
      "\u001B[2m[\u001B[0;34me8/1acfa3\u001B[0;2m] \u001B[0;2m\u001B[mNFC…_MATRIXFILTER\u001B[33;2m (\u001B[0;33m[id:study]\u001B[2m)\u001B[m\u001B[2m |\u001B[m 0 of 1\u001B[K\r\n",
      "\u001B[2m[\u001B[0;34m-        \u001B[0;2m] \u001B[0;2mNFC…NTIALABUNDANCE:\u001B[mDESEQ2_NORM -\u001B[K\r\n",
      "\u001B[2m[\u001B[0;34m-        \u001B[0;2m] \u001B[0;2mNFC…NDANCE:\u001B[mDESEQ2_DIFFERENTIAL -\u001B[K\r\n",
      "\u001B[2m[\u001B[0;34m-        \u001B[0;2m] \u001B[0;2mNFC…ABUNDANCE:\u001B[mFILTER_DIFFTABLE -\u001B[K\r\n",
      "\u001B[2m[\u001B[0;34m-        \u001B[0;2m] \u001B[0;2mNFC…ABUNDANCE:\u001B[mPLOT_EXPLORATORY -\u001B[K\r\n",
      "\u001B[2m[\u001B[0;34m-        \u001B[0;2m] \u001B[0;2mNFC…BUNDANCE:\u001B[mPLOT_DIFFERENTIAL -\u001B[K\r\n",
      "\u001B[2m[\u001B[0;34m-        \u001B[0;2m] \u001B[0;2mNFC…TIALABUNDANCE:\u001B[mSHINYNGS_APP -\u001B[K\r\n",
      "\u001B[2m[\u001B[0;34m-        \u001B[0;2m] \u001B[0;2mNFC…BUNDANCE:\u001B[mRMARKDOWNNOTEBOOK -\u001B[K\r\n",
      "\u001B[2m[\u001B[0;34m-        \u001B[0;2m] \u001B[0;2mNFC…UNDANCE:\u001B[mMAKE_REPORT_BUNDLE -\u001B[K\r\n",
      "\u001B[12A\r\n",
      "\u001B[2mexecutor >  local (2)\u001B[m\u001B[K\r\n",
      "\u001B[2m[\u001B[0;34m6f/d72fc0\u001B[0;2m] \u001B[0;2m\u001B[mNFC…LIDATOR\u001B[33;2m (\u001B[0;33msample_sheet.csv\u001B[2m)\u001B[m\u001B[2m |\u001B[m 1 of 1\u001B[32m ✔\u001B[m\u001B[K\r\n",
      "\u001B[2m[\u001B[0;34me8/1acfa3\u001B[0;2m] \u001B[0;2m\u001B[mNFC…_MATRIXFILTER\u001B[33;2m (\u001B[0;33m[id:study]\u001B[2m)\u001B[m\u001B[2m |\u001B[m 0 of 1\u001B[K\r\n",
      "\u001B[2m[\u001B[0;34m-        \u001B[0;2m] \u001B[0;2mNFC…NTIALABUNDANCE:\u001B[mDESEQ2_NORM -\u001B[K\r\n",
      "\u001B[2m[\u001B[0;34m-        \u001B[0;2m] \u001B[0;2mNFC…NDANCE:\u001B[mDESEQ2_DIFFERENTIAL -\u001B[K\r\n",
      "\u001B[2m[\u001B[0;34m-        \u001B[0;2m] \u001B[0;2mNFC…ABUNDANCE:\u001B[mFILTER_DIFFTABLE -\u001B[K\r\n",
      "\u001B[2m[\u001B[0;34m-        \u001B[0;2m] \u001B[0;2mNFC…ABUNDANCE:\u001B[mPLOT_EXPLORATORY -\u001B[K\r\n",
      "\u001B[2m[\u001B[0;34m-        \u001B[0;2m] \u001B[0;2mNFC…BUNDANCE:\u001B[mPLOT_DIFFERENTIAL -\u001B[K\r\n",
      "\u001B[2m[\u001B[0;34m-        \u001B[0;2m] \u001B[0;2mNFC…TIALABUNDANCE:\u001B[mSHINYNGS_APP -\u001B[K\r\n",
      "\u001B[2m[\u001B[0;34m-        \u001B[0;2m] \u001B[0;2mNFC…BUNDANCE:\u001B[mRMARKDOWNNOTEBOOK -\u001B[K\r\n",
      "\u001B[2m[\u001B[0;34m-        \u001B[0;2m] \u001B[0;2mNFC…UNDANCE:\u001B[mMAKE_REPORT_BUNDLE -\u001B[K\r\n",
      "\u001B[12A\r\n",
      "\u001B[2mexecutor >  local (5)\u001B[m\u001B[K\r\n",
      "\u001B[2m[\u001B[0;34m6f/d72fc0\u001B[0;2m] \u001B[0;2m\u001B[mNFC…LIDATOR\u001B[33;2m (\u001B[0;33msample_sheet.csv\u001B[2m)\u001B[m\u001B[2m |\u001B[m 1 of 1\u001B[32m ✔\u001B[m\u001B[K\r\n",
      "\u001B[2m[\u001B[0;34me8/1acfa3\u001B[0;2m] \u001B[0;2m\u001B[mNFC…_MATRIXFILTER\u001B[33;2m (\u001B[0;33m[id:study]\u001B[2m)\u001B[m\u001B[2m |\u001B[m 1 of 1\u001B[32m ✔\u001B[m\u001B[K\r\n",
      "\u001B[2m[\u001B[0;34m98/35945b\u001B[0;2m] \u001B[0;2mNFC…arget:SNI_oxy, blocking:\u001B[m])\u001B[2m |\u001B[m 0 of 1\u001B[K\r\n",
      "\u001B[2m[\u001B[0;34me1/add27e\u001B[0;2m] \u001B[0;2mNFC…arget:SNI_oxy, blocking:\u001B[m])\u001B[2m |\u001B[m 0 of 2\u001B[K\r\n",
      "\u001B[2m[\u001B[0;34m-        \u001B[0;2m] \u001B[0;2mNFC…ABUNDANCE:\u001B[mFILTER_DIFFTABLE -\u001B[K\r\n",
      "\u001B[2m[\u001B[0;34m-        \u001B[0;2m] \u001B[0;2mNFC…ABUNDANCE:\u001B[mPLOT_EXPLORATORY -\u001B[K\r\n",
      "\u001B[2m[\u001B[0;34m-        \u001B[0;2m] \u001B[0;2mNFC…BUNDANCE:\u001B[mPLOT_DIFFERENTIAL -\u001B[K\r\n",
      "\u001B[2m[\u001B[0;34m-        \u001B[0;2m] \u001B[0;2mNFC…TIALABUNDANCE:\u001B[mSHINYNGS_APP -\u001B[K\r\n",
      "\u001B[2m[\u001B[0;34m-        \u001B[0;2m] \u001B[0;2mNFC…BUNDANCE:\u001B[mRMARKDOWNNOTEBOOK -\u001B[K\r\n",
      "\u001B[2m[\u001B[0;34m-        \u001B[0;2m] \u001B[0;2mNFC…UNDANCE:\u001B[mMAKE_REPORT_BUNDLE -\u001B[K\r\n",
      "\u001B[12A\r\n",
      "\u001B[2mexecutor >  local (5)\u001B[m\u001B[K\r\n",
      "\u001B[2m[\u001B[0;34m6f/d72fc0\u001B[0;2m] \u001B[0;2m\u001B[mNFC…LIDATOR\u001B[33;2m (\u001B[0;33msample_sheet.csv\u001B[2m)\u001B[m\u001B[2m |\u001B[m 1 of 1\u001B[32m ✔\u001B[m\u001B[K\r\n",
      "\u001B[2m[\u001B[0;34me8/1acfa3\u001B[0;2m] \u001B[0;2m\u001B[mNFC…_MATRIXFILTER\u001B[33;2m (\u001B[0;33m[id:study]\u001B[2m)\u001B[m\u001B[2m |\u001B[m 1 of 1\u001B[32m ✔\u001B[m\u001B[K\r\n",
      "\u001B[2m[\u001B[0;34m98/35945b\u001B[0;2m] \u001B[0;2mNFC…arget:SNI_oxy, blocking:\u001B[m])\u001B[2m |\u001B[m 1 of 1\u001B[32m ✔\u001B[m\u001B[K\r\n",
      "\u001B[2m[\u001B[0;34me1/add27e\u001B[0;2m] \u001B[0;2mNFC…arget:SNI_oxy, blocking:\u001B[m])\u001B[2m |\u001B[m 0 of 2\u001B[K\r\n",
      "\u001B[2m[\u001B[0;34m-        \u001B[0;2m] \u001B[0;2mNFC…ABUNDANCE:\u001B[mFILTER_DIFFTABLE -\u001B[K\r\n",
      "\u001B[2m[\u001B[0;34m-        \u001B[0;2m] \u001B[0;2mNFC…ABUNDANCE:\u001B[mPLOT_EXPLORATORY\u001B[2m |\u001B[m 0 of 1\u001B[K\r\n",
      "\u001B[2m[\u001B[0;34m-        \u001B[0;2m] \u001B[0;2mNFC…BUNDANCE:\u001B[mPLOT_DIFFERENTIAL -\u001B[K\r\n",
      "\u001B[2m[\u001B[0;34m-        \u001B[0;2m] \u001B[0;2mNFC…TIALABUNDANCE:\u001B[mSHINYNGS_APP -\u001B[K\r\n",
      "\u001B[2m[\u001B[0;34m-        \u001B[0;2m] \u001B[0;2mNFC…BUNDANCE:\u001B[mRMARKDOWNNOTEBOOK -\u001B[K\r\n",
      "\u001B[2m[\u001B[0;34m-        \u001B[0;2m] \u001B[0;2mNFC…UNDANCE:\u001B[mMAKE_REPORT_BUNDLE -\u001B[K\r\n",
      "\u001B[12A\r\n",
      "\u001B[2mexecutor >  local (7)\u001B[m\u001B[K\r\n",
      "\u001B[2m[\u001B[0;34m6f/d72fc0\u001B[0;2m] \u001B[0;2m\u001B[mNFC…LIDATOR\u001B[33;2m (\u001B[0;33msample_sheet.csv\u001B[2m)\u001B[m\u001B[2m |\u001B[m 1 of 1\u001B[32m ✔\u001B[m\u001B[K\r\n",
      "\u001B[2m[\u001B[0;34me8/1acfa3\u001B[0;2m] \u001B[0;2m\u001B[mNFC…_MATRIXFILTER\u001B[33;2m (\u001B[0;33m[id:study]\u001B[2m)\u001B[m\u001B[2m |\u001B[m 1 of 1\u001B[32m ✔\u001B[m\u001B[K\r\n",
      "\u001B[2m[\u001B[0;34m98/35945b\u001B[0;2m] \u001B[0;2mNFC…arget:SNI_oxy, blocking:\u001B[m])\u001B[2m |\u001B[m 1 of 1\u001B[32m ✔\u001B[m\u001B[K\r\n",
      "\u001B[2m[\u001B[0;34m65/cfc97c\u001B[0;2m] \u001B[0;2mNFC…rget:Sham_oxy, blocking:\u001B[m])\u001B[2m |\u001B[m 2 of 2\u001B[32m ✔\u001B[m\u001B[K\r\n",
      "\u001B[2m[\u001B[0;34m8e/63d8b2\u001B[0;2m] \u001B[0;2mNFC…DANCE:\u001B[mFILTER_DIFFTABLE\u001B[33;2m (\u001B[0;33m1\u001B[2m)\u001B[m\u001B[2m |\u001B[m 0 of 2\u001B[K\r\n",
      "\u001B[2m[\u001B[0;34m49/f87a1b\u001B[0;2m] \u001B[0;2m\u001B[mNFC…OT_EXPLORATORY\u001B[33;2m (\u001B[0;33mCondition\u001B[2m)\u001B[m\u001B[2m |\u001B[m 0 of 1\u001B[K\r\n",
      "\u001B[2m[\u001B[0;34m-        \u001B[0;2m] \u001B[0;2mNFC…BUNDANCE:\u001B[mPLOT_DIFFERENTIAL\u001B[2m |\u001B[m 0 of 2\u001B[K\r\n",
      "\u001B[2m[\u001B[0;34m-        \u001B[0;2m] \u001B[0;2mNFC…TIALABUNDANCE:\u001B[mSHINYNGS_APP\u001B[2m |\u001B[m 0 of 1\u001B[K\r\n",
      "\u001B[2m[\u001B[0;34m-        \u001B[0;2m] \u001B[0;2mNFC…BUNDANCE:\u001B[mRMARKDOWNNOTEBOOK -\u001B[K\r\n",
      "\u001B[2m[\u001B[0;34m-        \u001B[0;2m] \u001B[0;2mNFC…UNDANCE:\u001B[mMAKE_REPORT_BUNDLE -\u001B[K\r\n",
      "\u001B[12A\r\n",
      "\u001B[2mexecutor >  local (8)\u001B[m\u001B[K\r\n",
      "\u001B[2m[\u001B[0;34m6f/d72fc0\u001B[0;2m] \u001B[0;2m\u001B[mNFC…LIDATOR\u001B[33;2m (\u001B[0;33msample_sheet.csv\u001B[2m)\u001B[m\u001B[2m |\u001B[m 1 of 1\u001B[32m ✔\u001B[m\u001B[K\r\n",
      "\u001B[2m[\u001B[0;34me8/1acfa3\u001B[0;2m] \u001B[0;2m\u001B[mNFC…_MATRIXFILTER\u001B[33;2m (\u001B[0;33m[id:study]\u001B[2m)\u001B[m\u001B[2m |\u001B[m 1 of 1\u001B[32m ✔\u001B[m\u001B[K\r\n",
      "\u001B[2m[\u001B[0;34m98/35945b\u001B[0;2m] \u001B[0;2mNFC…arget:SNI_oxy, blocking:\u001B[m])\u001B[2m |\u001B[m 1 of 1\u001B[32m ✔\u001B[m\u001B[K\r\n",
      "\u001B[2m[\u001B[0;34m65/cfc97c\u001B[0;2m] \u001B[0;2mNFC…rget:Sham_oxy, blocking:\u001B[m])\u001B[2m |\u001B[m 2 of 2\u001B[32m ✔\u001B[m\u001B[K\r\n",
      "\u001B[2m[\u001B[0;34m67/0e55a2\u001B[0;2m] \u001B[0;2mNFC…DANCE:\u001B[mFILTER_DIFFTABLE\u001B[33;2m (\u001B[0;33m2\u001B[2m)\u001B[m\u001B[2m |\u001B[m 1 of 2\u001B[K\r\n",
      "\u001B[2m[\u001B[0;34m49/f87a1b\u001B[0;2m] \u001B[0;2m\u001B[mNFC…OT_EXPLORATORY\u001B[33;2m (\u001B[0;33mCondition\u001B[2m)\u001B[m\u001B[2m |\u001B[m 0 of 1\u001B[K\r\n",
      "\u001B[2m[\u001B[0;34m-        \u001B[0;2m] \u001B[0;2mNFC…BUNDANCE:\u001B[mPLOT_DIFFERENTIAL\u001B[2m |\u001B[m 0 of 2\u001B[K\r\n",
      "\u001B[2m[\u001B[0;34m-        \u001B[0;2m] \u001B[0;2mNFC…TIALABUNDANCE:\u001B[mSHINYNGS_APP\u001B[2m |\u001B[m 0 of 1\u001B[K\r\n",
      "\u001B[2m[\u001B[0;34m-        \u001B[0;2m] \u001B[0;2mNFC…BUNDANCE:\u001B[mRMARKDOWNNOTEBOOK -\u001B[K\r\n",
      "\u001B[2m[\u001B[0;34m-        \u001B[0;2m] \u001B[0;2mNFC…UNDANCE:\u001B[mMAKE_REPORT_BUNDLE -\u001B[K\r\n",
      "\u001B[12A\r\n",
      "\u001B[2mexecutor >  local (8)\u001B[m\u001B[K\r\n",
      "\u001B[2m[\u001B[0;34m6f/d72fc0\u001B[0;2m] \u001B[0;2m\u001B[mNFC…LIDATOR\u001B[33;2m (\u001B[0;33msample_sheet.csv\u001B[2m)\u001B[m\u001B[2m |\u001B[m 1 of 1\u001B[32m ✔\u001B[m\u001B[K\r\n",
      "\u001B[2m[\u001B[0;34me8/1acfa3\u001B[0;2m] \u001B[0;2m\u001B[mNFC…_MATRIXFILTER\u001B[33;2m (\u001B[0;33m[id:study]\u001B[2m)\u001B[m\u001B[2m |\u001B[m 1 of 1\u001B[32m ✔\u001B[m\u001B[K\r\n",
      "\u001B[2m[\u001B[0;34m98/35945b\u001B[0;2m] \u001B[0;2mNFC…arget:SNI_oxy, blocking:\u001B[m])\u001B[2m |\u001B[m 1 of 1\u001B[32m ✔\u001B[m\u001B[K\r\n",
      "\u001B[2m[\u001B[0;34m65/cfc97c\u001B[0;2m] \u001B[0;2mNFC…rget:Sham_oxy, blocking:\u001B[m])\u001B[2m |\u001B[m 2 of 2\u001B[32m ✔\u001B[m\u001B[K\r\n",
      "\u001B[2m[\u001B[0;34m67/0e55a2\u001B[0;2m] \u001B[0;2mNFC…DANCE:\u001B[mFILTER_DIFFTABLE\u001B[33;2m (\u001B[0;33m2\u001B[2m)\u001B[m\u001B[2m |\u001B[m 2 of 2\u001B[32m ✔\u001B[m\u001B[K\r\n",
      "\u001B[2m[\u001B[0;34m49/f87a1b\u001B[0;2m] \u001B[0;2m\u001B[mNFC…OT_EXPLORATORY\u001B[33;2m (\u001B[0;33mCondition\u001B[2m)\u001B[m\u001B[2m |\u001B[m 0 of 1\u001B[K\r\n",
      "\u001B[2m[\u001B[0;34m-        \u001B[0;2m] \u001B[0;2mNFC…BUNDANCE:\u001B[mPLOT_DIFFERENTIAL\u001B[2m |\u001B[m 0 of 2\u001B[K\r\n",
      "\u001B[2m[\u001B[0;34m-        \u001B[0;2m] \u001B[0;2mNFC…TIALABUNDANCE:\u001B[mSHINYNGS_APP\u001B[2m |\u001B[m 0 of 1\u001B[K\r\n",
      "\u001B[2m[\u001B[0;34m-        \u001B[0;2m] \u001B[0;2mNFC…BUNDANCE:\u001B[mRMARKDOWNNOTEBOOK -\u001B[K\r\n",
      "\u001B[2m[\u001B[0;34m-        \u001B[0;2m] \u001B[0;2mNFC…UNDANCE:\u001B[mMAKE_REPORT_BUNDLE -\u001B[K\r\n",
      "\u001B[12A\r\n",
      "\u001B[2mexecutor >  local (9)\u001B[m\u001B[K\r\n",
      "\u001B[2m[\u001B[0;34m6f/d72fc0\u001B[0;2m] \u001B[0;2m\u001B[mNFC…LIDATOR\u001B[33;2m (\u001B[0;33msample_sheet.csv\u001B[2m)\u001B[m\u001B[2m |\u001B[m 1 of 1\u001B[32m ✔\u001B[m\u001B[K\r\n",
      "\u001B[2m[\u001B[0;34me8/1acfa3\u001B[0;2m] \u001B[0;2m\u001B[mNFC…_MATRIXFILTER\u001B[33;2m (\u001B[0;33m[id:study]\u001B[2m)\u001B[m\u001B[2m |\u001B[m 1 of 1\u001B[32m ✔\u001B[m\u001B[K\r\n",
      "\u001B[2m[\u001B[0;34m98/35945b\u001B[0;2m] \u001B[0;2mNFC…arget:SNI_oxy, blocking:\u001B[m])\u001B[2m |\u001B[m 1 of 1\u001B[32m ✔\u001B[m\u001B[K\r\n",
      "\u001B[2m[\u001B[0;34m65/cfc97c\u001B[0;2m] \u001B[0;2mNFC…rget:Sham_oxy, blocking:\u001B[m])\u001B[2m |\u001B[m 2 of 2\u001B[32m ✔\u001B[m\u001B[K\r\n",
      "\u001B[2m[\u001B[0;34m67/0e55a2\u001B[0;2m] \u001B[0;2mNFC…DANCE:\u001B[mFILTER_DIFFTABLE\u001B[33;2m (\u001B[0;33m2\u001B[2m)\u001B[m\u001B[2m |\u001B[m 2 of 2\u001B[32m ✔\u001B[m\u001B[K\r\n",
      "\u001B[2m[\u001B[0;34m49/f87a1b\u001B[0;2m] \u001B[0;2m\u001B[mNFC…OT_EXPLORATORY\u001B[33;2m (\u001B[0;33mCondition\u001B[2m)\u001B[m\u001B[2m |\u001B[m 1 of 1\u001B[32m ✔\u001B[m\u001B[K\r\n",
      "\u001B[2m[\u001B[0;34mcb/1824ec\u001B[0;2m] \u001B[0;2m\u001B[mNFC…condition_control_treated)\u001B[2m |\u001B[m 0 of 2\u001B[K\r\n",
      "\u001B[2m[\u001B[0;34m-        \u001B[0;2m] \u001B[0;2mNFC…TIALABUNDANCE:\u001B[mSHINYNGS_APP\u001B[2m |\u001B[m 0 of 1\u001B[K\r\n",
      "\u001B[2m[\u001B[0;34m-        \u001B[0;2m] \u001B[0;2mNFC…BUNDANCE:\u001B[mRMARKDOWNNOTEBOOK -\u001B[K\r\n",
      "\u001B[2m[\u001B[0;34m-        \u001B[0;2m] \u001B[0;2mNFC…UNDANCE:\u001B[mMAKE_REPORT_BUNDLE -\u001B[K\r\n",
      "\u001B[12A\r\n",
      "\u001B[2mexecutor >  local (9)\u001B[m\u001B[K\r\n",
      "\u001B[2m[\u001B[0;34m6f/d72fc0\u001B[0;2m] \u001B[0;2m\u001B[mNFC…LIDATOR\u001B[33;2m (\u001B[0;33msample_sheet.csv\u001B[2m)\u001B[m\u001B[2m |\u001B[m 1 of 1\u001B[32m ✔\u001B[m\u001B[K\r\n",
      "\u001B[2m[\u001B[0;34me8/1acfa3\u001B[0;2m] \u001B[0;2m\u001B[mNFC…_MATRIXFILTER\u001B[33;2m (\u001B[0;33m[id:study]\u001B[2m)\u001B[m\u001B[2m |\u001B[m 1 of 1\u001B[32m ✔\u001B[m\u001B[K\r\n",
      "\u001B[2m[\u001B[0;34m98/35945b\u001B[0;2m] \u001B[0;2mNFC…arget:SNI_oxy, blocking:\u001B[m])\u001B[2m |\u001B[m 1 of 1\u001B[32m ✔\u001B[m\u001B[K\r\n",
      "\u001B[2m[\u001B[0;34m65/cfc97c\u001B[0;2m] \u001B[0;2mNFC…rget:Sham_oxy, blocking:\u001B[m])\u001B[2m |\u001B[m 2 of 2\u001B[32m ✔\u001B[m\u001B[K\r\n",
      "\u001B[2m[\u001B[0;34m67/0e55a2\u001B[0;2m] \u001B[0;2mNFC…DANCE:\u001B[mFILTER_DIFFTABLE\u001B[33;2m (\u001B[0;33m2\u001B[2m)\u001B[m\u001B[2m |\u001B[m 2 of 2\u001B[32m ✔\u001B[m\u001B[K\r\n",
      "\u001B[2m[\u001B[0;34m49/f87a1b\u001B[0;2m] \u001B[0;2m\u001B[mNFC…OT_EXPLORATORY\u001B[33;2m (\u001B[0;33mCondition\u001B[2m)\u001B[m\u001B[2m |\u001B[m 1 of 1\u001B[32m ✔\u001B[m\u001B[K\r\n",
      "\u001B[2m[\u001B[0;34mcb/1824ec\u001B[0;2m] \u001B[0;2m\u001B[mNFC…condition_control_treated)\u001B[2m |\u001B[m 0 of 2\u001B[K\r\n",
      "\u001B[2m[\u001B[0;34m-        \u001B[0;2m] \u001B[0;2mNFC…TIALABUNDANCE:\u001B[mSHINYNGS_APP\u001B[2m |\u001B[m 0 of 1\u001B[K\r\n",
      "\u001B[2m[\u001B[0;34m-        \u001B[0;2m] \u001B[0;2mNFC…BUNDANCE:\u001B[mRMARKDOWNNOTEBOOK -\u001B[K\r\n",
      "\u001B[2m[\u001B[0;34m-        \u001B[0;2m] \u001B[0;2mNFC…UNDANCE:\u001B[mMAKE_REPORT_BUNDLE -\u001B[K\r\n",
      "\u001B[12A\r\n",
      "\u001B[2mexecutor >  local (10)\u001B[m\u001B[K\r\n",
      "\u001B[2m[\u001B[0;34m6f/d72fc0\u001B[0;2m] \u001B[0;2m\u001B[mNFC…LIDATOR\u001B[33;2m (\u001B[0;33msample_sheet.csv\u001B[2m)\u001B[m\u001B[2m |\u001B[m 1 of 1\u001B[32m ✔\u001B[m\u001B[K\r\n",
      "\u001B[2m[\u001B[0;34me8/1acfa3\u001B[0;2m] \u001B[0;2m\u001B[mNFC…_MATRIXFILTER\u001B[33;2m (\u001B[0;33m[id:study]\u001B[2m)\u001B[m\u001B[2m |\u001B[m 1 of 1\u001B[32m ✔\u001B[m\u001B[K\r\n",
      "\u001B[2m[\u001B[0;34m98/35945b\u001B[0;2m] \u001B[0;2mNFC…arget:SNI_oxy, blocking:\u001B[m])\u001B[2m |\u001B[m 1 of 1\u001B[32m ✔\u001B[m\u001B[K\r\n",
      "\u001B[2m[\u001B[0;34m65/cfc97c\u001B[0;2m] \u001B[0;2mNFC…rget:Sham_oxy, blocking:\u001B[m])\u001B[2m |\u001B[m 2 of 2\u001B[32m ✔\u001B[m\u001B[K\r\n",
      "\u001B[2m[\u001B[0;34m67/0e55a2\u001B[0;2m] \u001B[0;2mNFC…DANCE:\u001B[mFILTER_DIFFTABLE\u001B[33;2m (\u001B[0;33m2\u001B[2m)\u001B[m\u001B[2m |\u001B[m 2 of 2\u001B[32m ✔\u001B[m\u001B[K\r\n",
      "\u001B[2m[\u001B[0;34m49/f87a1b\u001B[0;2m] \u001B[0;2m\u001B[mNFC…OT_EXPLORATORY\u001B[33;2m (\u001B[0;33mCondition\u001B[2m)\u001B[m\u001B[2m |\u001B[m 1 of 1\u001B[32m ✔\u001B[m\u001B[K\r\n",
      "\u001B[2m[\u001B[0;34mcb/1824ec\u001B[0;2m] \u001B[0;2m\u001B[mNFC…condition_control_treated)\u001B[2m |\u001B[m 1 of 2\u001B[K\r\n",
      "\u001B[2m[\u001B[0;34m-        \u001B[0;2m] \u001B[0;2mNFC…TIALABUNDANCE:\u001B[mSHINYNGS_APP\u001B[2m |\u001B[m 0 of 1\u001B[K\r\n",
      "\u001B[2m[\u001B[0;34m-        \u001B[0;2m] \u001B[0;2mNFC…BUNDANCE:\u001B[mRMARKDOWNNOTEBOOK -\u001B[K\r\n",
      "\u001B[2m[\u001B[0;34m-        \u001B[0;2m] \u001B[0;2mNFC…UNDANCE:\u001B[mMAKE_REPORT_BUNDLE -\u001B[K\r\n",
      "\u001B[12A\r\n",
      "\u001B[2mexecutor >  local (11)\u001B[m\u001B[K\r\n",
      "\u001B[2m[\u001B[0;34m6f/d72fc0\u001B[0;2m] \u001B[0;2m\u001B[mNFC…LIDATOR\u001B[33;2m (\u001B[0;33msample_sheet.csv\u001B[2m)\u001B[m\u001B[2m |\u001B[m 1 of 1\u001B[32m ✔\u001B[m\u001B[K\r\n",
      "\u001B[2m[\u001B[0;34me8/1acfa3\u001B[0;2m] \u001B[0;2m\u001B[mNFC…_MATRIXFILTER\u001B[33;2m (\u001B[0;33m[id:study]\u001B[2m)\u001B[m\u001B[2m |\u001B[m 1 of 1\u001B[32m ✔\u001B[m\u001B[K\r\n",
      "\u001B[2m[\u001B[0;34m98/35945b\u001B[0;2m] \u001B[0;2mNFC…arget:SNI_oxy, blocking:\u001B[m])\u001B[2m |\u001B[m 1 of 1\u001B[32m ✔\u001B[m\u001B[K\r\n",
      "\u001B[2m[\u001B[0;34m65/cfc97c\u001B[0;2m] \u001B[0;2mNFC…rget:Sham_oxy, blocking:\u001B[m])\u001B[2m |\u001B[m 2 of 2\u001B[32m ✔\u001B[m\u001B[K\r\n",
      "\u001B[2m[\u001B[0;34m67/0e55a2\u001B[0;2m] \u001B[0;2mNFC…DANCE:\u001B[mFILTER_DIFFTABLE\u001B[33;2m (\u001B[0;33m2\u001B[2m)\u001B[m\u001B[2m |\u001B[m 2 of 2\u001B[32m ✔\u001B[m\u001B[K\r\n",
      "\u001B[2m[\u001B[0;34m49/f87a1b\u001B[0;2m] \u001B[0;2m\u001B[mNFC…OT_EXPLORATORY\u001B[33;2m (\u001B[0;33mCondition\u001B[2m)\u001B[m\u001B[2m |\u001B[m 1 of 1\u001B[32m ✔\u001B[m\u001B[K\r\n",
      "\u001B[2m[\u001B[0;34m68/32e9fb\u001B[0;2m] \u001B[0;2m\u001B[mNFC…tion_control_treated_test)\u001B[2m |\u001B[m 2 of 2\u001B[32m ✔\u001B[m\u001B[K\r\n",
      "\u001B[2m[\u001B[0;34m8c/18b2c7\u001B[0;2m] \u001B[0;2mNFC…DANCE:\u001B[mSHINYNGS_APP\u001B[33;2m (\u001B[0;33mstudy\u001B[2m)\u001B[m\u001B[2m |\u001B[m 0 of 1\u001B[K\r\n",
      "\u001B[2m[\u001B[0;34m-        \u001B[0;2m] \u001B[0;2mNFC…BUNDANCE:\u001B[mRMARKDOWNNOTEBOOK\u001B[2m |\u001B[m 0 of 1\u001B[K\r\n",
      "\u001B[2m[\u001B[0;34m-        \u001B[0;2m] \u001B[0;2mNFC…UNDANCE:\u001B[mMAKE_REPORT_BUNDLE -\u001B[K\r\n",
      "\u001B[12A\r\n",
      "\u001B[2mexecutor >  local (12)\u001B[m\u001B[K\r\n",
      "\u001B[2m[\u001B[0;34m6f/d72fc0\u001B[0;2m] \u001B[0;2m\u001B[mNFC…LIDATOR\u001B[33;2m (\u001B[0;33msample_sheet.csv\u001B[2m)\u001B[m\u001B[2m |\u001B[m 1 of 1\u001B[32m ✔\u001B[m\u001B[K\r\n",
      "\u001B[2m[\u001B[0;34me8/1acfa3\u001B[0;2m] \u001B[0;2m\u001B[mNFC…_MATRIXFILTER\u001B[33;2m (\u001B[0;33m[id:study]\u001B[2m)\u001B[m\u001B[2m |\u001B[m 1 of 1\u001B[32m ✔\u001B[m\u001B[K\r\n",
      "\u001B[2m[\u001B[0;34m98/35945b\u001B[0;2m] \u001B[0;2mNFC…arget:SNI_oxy, blocking:\u001B[m])\u001B[2m |\u001B[m 1 of 1\u001B[32m ✔\u001B[m\u001B[K\r\n",
      "\u001B[2m[\u001B[0;34m65/cfc97c\u001B[0;2m] \u001B[0;2mNFC…rget:Sham_oxy, blocking:\u001B[m])\u001B[2m |\u001B[m 2 of 2\u001B[32m ✔\u001B[m\u001B[K\r\n",
      "\u001B[2m[\u001B[0;34m67/0e55a2\u001B[0;2m] \u001B[0;2mNFC…DANCE:\u001B[mFILTER_DIFFTABLE\u001B[33;2m (\u001B[0;33m2\u001B[2m)\u001B[m\u001B[2m |\u001B[m 2 of 2\u001B[32m ✔\u001B[m\u001B[K\r\n",
      "\u001B[2m[\u001B[0;34m49/f87a1b\u001B[0;2m] \u001B[0;2m\u001B[mNFC…OT_EXPLORATORY\u001B[33;2m (\u001B[0;33mCondition\u001B[2m)\u001B[m\u001B[2m |\u001B[m 1 of 1\u001B[32m ✔\u001B[m\u001B[K\r\n",
      "\u001B[2m[\u001B[0;34m68/32e9fb\u001B[0;2m] \u001B[0;2m\u001B[mNFC…tion_control_treated_test)\u001B[2m |\u001B[m 2 of 2\u001B[32m ✔\u001B[m\u001B[K\r\n",
      "\u001B[2m[\u001B[0;34m8c/18b2c7\u001B[0;2m] \u001B[0;2mNFC…DANCE:\u001B[mSHINYNGS_APP\u001B[33;2m (\u001B[0;33mstudy\u001B[2m)\u001B[m\u001B[2m |\u001B[m 1 of 1\u001B[32m ✔\u001B[m\u001B[K\r\n",
      "\u001B[2m[\u001B[0;34m94/802dfa\u001B[0;2m] \u001B[0;2mNFC…:\u001B[mRMARKDOWNNOTEBOOK\u001B[33;2m (\u001B[0;33mstudy\u001B[2m)\u001B[m\u001B[2m |\u001B[m 0 of 1\u001B[K\r\n",
      "\u001B[2m[\u001B[0;34m-        \u001B[0;2m] \u001B[0;2mNFC…UNDANCE:\u001B[mMAKE_REPORT_BUNDLE -\u001B[K\r\n",
      "\u001B[12A\r\n",
      "\u001B[2mexecutor >  local (13)\u001B[m\u001B[K\r\n",
      "\u001B[2m[\u001B[0;34m6f/d72fc0\u001B[0;2m] \u001B[0;2m\u001B[mNFC…LIDATOR\u001B[33;2m (\u001B[0;33msample_sheet.csv\u001B[2m)\u001B[m\u001B[2m |\u001B[m 1 of 1\u001B[32m ✔\u001B[m\u001B[K\r\n",
      "\u001B[2m[\u001B[0;34me8/1acfa3\u001B[0;2m] \u001B[0;2m\u001B[mNFC…_MATRIXFILTER\u001B[33;2m (\u001B[0;33m[id:study]\u001B[2m)\u001B[m\u001B[2m |\u001B[m 1 of 1\u001B[32m ✔\u001B[m\u001B[K\r\n",
      "\u001B[2m[\u001B[0;34m98/35945b\u001B[0;2m] \u001B[0;2mNFC…arget:SNI_oxy, blocking:\u001B[m])\u001B[2m |\u001B[m 1 of 1\u001B[32m ✔\u001B[m\u001B[K\r\n",
      "\u001B[2m[\u001B[0;34m65/cfc97c\u001B[0;2m] \u001B[0;2mNFC…rget:Sham_oxy, blocking:\u001B[m])\u001B[2m |\u001B[m 2 of 2\u001B[32m ✔\u001B[m\u001B[K\r\n",
      "\u001B[2m[\u001B[0;34m67/0e55a2\u001B[0;2m] \u001B[0;2mNFC…DANCE:\u001B[mFILTER_DIFFTABLE\u001B[33;2m (\u001B[0;33m2\u001B[2m)\u001B[m\u001B[2m |\u001B[m 2 of 2\u001B[32m ✔\u001B[m\u001B[K\r\n",
      "\u001B[2m[\u001B[0;34m49/f87a1b\u001B[0;2m] \u001B[0;2m\u001B[mNFC…OT_EXPLORATORY\u001B[33;2m (\u001B[0;33mCondition\u001B[2m)\u001B[m\u001B[2m |\u001B[m 1 of 1\u001B[32m ✔\u001B[m\u001B[K\r\n",
      "\u001B[2m[\u001B[0;34m68/32e9fb\u001B[0;2m] \u001B[0;2m\u001B[mNFC…tion_control_treated_test)\u001B[2m |\u001B[m 2 of 2\u001B[32m ✔\u001B[m\u001B[K\r\n",
      "\u001B[2m[\u001B[0;34m8c/18b2c7\u001B[0;2m] \u001B[0;2mNFC…DANCE:\u001B[mSHINYNGS_APP\u001B[33;2m (\u001B[0;33mstudy\u001B[2m)\u001B[m\u001B[2m |\u001B[m 1 of 1\u001B[32m ✔\u001B[m\u001B[K\r\n",
      "\u001B[2m[\u001B[0;34m94/802dfa\u001B[0;2m] \u001B[0;2mNFC…:\u001B[mRMARKDOWNNOTEBOOK\u001B[33;2m (\u001B[0;33mstudy\u001B[2m)\u001B[m\u001B[2m |\u001B[m 1 of 1\u001B[32m ✔\u001B[m\u001B[K\r\n",
      "\u001B[2m[\u001B[0;34m23/3653b6\u001B[0;2m] \u001B[0;2m\u001B[mNFC…MAKE_REPORT_BUNDLE\u001B[33;2m (\u001B[0;33mstudy\u001B[2m)\u001B[m\u001B[2m |\u001B[m 0 of 1\u001B[K\r\n",
      "\u001B[12A\r\n",
      "\u001B[2mexecutor >  local (13)\u001B[m\u001B[K\r\n",
      "\u001B[2m[\u001B[0;34m6f/d72fc0\u001B[0;2m] \u001B[0;2m\u001B[mNFC…LIDATOR\u001B[33;2m (\u001B[0;33msample_sheet.csv\u001B[2m)\u001B[m\u001B[2m |\u001B[m 1 of 1\u001B[32m ✔\u001B[m\u001B[K\r\n",
      "\u001B[2m[\u001B[0;34me8/1acfa3\u001B[0;2m] \u001B[0;2m\u001B[mNFC…_MATRIXFILTER\u001B[33;2m (\u001B[0;33m[id:study]\u001B[2m)\u001B[m\u001B[2m |\u001B[m 1 of 1\u001B[32m ✔\u001B[m\u001B[K\r\n",
      "\u001B[2m[\u001B[0;34m98/35945b\u001B[0;2m] \u001B[0;2mNFC…arget:SNI_oxy, blocking:\u001B[m])\u001B[2m |\u001B[m 1 of 1\u001B[32m ✔\u001B[m\u001B[K\r\n",
      "\u001B[2m[\u001B[0;34m65/cfc97c\u001B[0;2m] \u001B[0;2mNFC…rget:Sham_oxy, blocking:\u001B[m])\u001B[2m |\u001B[m 2 of 2\u001B[32m ✔\u001B[m\u001B[K\r\n",
      "\u001B[2m[\u001B[0;34m67/0e55a2\u001B[0;2m] \u001B[0;2mNFC…DANCE:\u001B[mFILTER_DIFFTABLE\u001B[33;2m (\u001B[0;33m2\u001B[2m)\u001B[m\u001B[2m |\u001B[m 2 of 2\u001B[32m ✔\u001B[m\u001B[K\r\n",
      "\u001B[2m[\u001B[0;34m49/f87a1b\u001B[0;2m] \u001B[0;2m\u001B[mNFC…OT_EXPLORATORY\u001B[33;2m (\u001B[0;33mCondition\u001B[2m)\u001B[m\u001B[2m |\u001B[m 1 of 1\u001B[32m ✔\u001B[m\u001B[K\r\n",
      "\u001B[2m[\u001B[0;34m68/32e9fb\u001B[0;2m] \u001B[0;2m\u001B[mNFC…tion_control_treated_test)\u001B[2m |\u001B[m 2 of 2\u001B[32m ✔\u001B[m\u001B[K\r\n",
      "\u001B[2m[\u001B[0;34m8c/18b2c7\u001B[0;2m] \u001B[0;2mNFC…DANCE:\u001B[mSHINYNGS_APP\u001B[33;2m (\u001B[0;33mstudy\u001B[2m)\u001B[m\u001B[2m |\u001B[m 1 of 1\u001B[32m ✔\u001B[m\u001B[K\r\n",
      "\u001B[2m[\u001B[0;34m94/802dfa\u001B[0;2m] \u001B[0;2mNFC…:\u001B[mRMARKDOWNNOTEBOOK\u001B[33;2m (\u001B[0;33mstudy\u001B[2m)\u001B[m\u001B[2m |\u001B[m 1 of 1\u001B[32m ✔\u001B[m\u001B[K\r\n",
      "\u001B[2m[\u001B[0;34m23/3653b6\u001B[0;2m] \u001B[0;2m\u001B[mNFC…MAKE_REPORT_BUNDLE\u001B[33;2m (\u001B[0;33mstudy\u001B[2m)\u001B[m\u001B[2m |\u001B[m 0 of 1\u001B[K\r\n",
      "\u001B[12A\r\n",
      "\u001B[2mexecutor >  local (13)\u001B[m\u001B[K\r\n",
      "\u001B[2m[\u001B[0;34m6f/d72fc0\u001B[0;2m] \u001B[0;2m\u001B[mNFC…LIDATOR\u001B[33;2m (\u001B[0;33msample_sheet.csv\u001B[2m)\u001B[m\u001B[2m |\u001B[m 1 of 1\u001B[32m ✔\u001B[m\u001B[K\r\n",
      "\u001B[2m[\u001B[0;34me8/1acfa3\u001B[0;2m] \u001B[0;2m\u001B[mNFC…_MATRIXFILTER\u001B[33;2m (\u001B[0;33m[id:study]\u001B[2m)\u001B[m\u001B[2m |\u001B[m 1 of 1\u001B[32m ✔\u001B[m\u001B[K\r\n",
      "\u001B[2m[\u001B[0;34m98/35945b\u001B[0;2m] \u001B[0;2mNFC…arget:SNI_oxy, blocking:\u001B[m])\u001B[2m |\u001B[m 1 of 1\u001B[32m ✔\u001B[m\u001B[K\r\n",
      "\u001B[2m[\u001B[0;34m65/cfc97c\u001B[0;2m] \u001B[0;2mNFC…rget:Sham_oxy, blocking:\u001B[m])\u001B[2m |\u001B[m 2 of 2\u001B[32m ✔\u001B[m\u001B[K\r\n",
      "\u001B[2m[\u001B[0;34m67/0e55a2\u001B[0;2m] \u001B[0;2mNFC…DANCE:\u001B[mFILTER_DIFFTABLE\u001B[33;2m (\u001B[0;33m2\u001B[2m)\u001B[m\u001B[2m |\u001B[m 2 of 2\u001B[32m ✔\u001B[m\u001B[K\r\n",
      "\u001B[2m[\u001B[0;34m49/f87a1b\u001B[0;2m] \u001B[0;2m\u001B[mNFC…OT_EXPLORATORY\u001B[33;2m (\u001B[0;33mCondition\u001B[2m)\u001B[m\u001B[2m |\u001B[m 1 of 1\u001B[32m ✔\u001B[m\u001B[K\r\n",
      "\u001B[2m[\u001B[0;34m68/32e9fb\u001B[0;2m] \u001B[0;2m\u001B[mNFC…tion_control_treated_test)\u001B[2m |\u001B[m 2 of 2\u001B[32m ✔\u001B[m\u001B[K\r\n",
      "\u001B[2m[\u001B[0;34m8c/18b2c7\u001B[0;2m] \u001B[0;2mNFC…DANCE:\u001B[mSHINYNGS_APP\u001B[33;2m (\u001B[0;33mstudy\u001B[2m)\u001B[m\u001B[2m |\u001B[m 1 of 1\u001B[32m ✔\u001B[m\u001B[K\r\n",
      "\u001B[2m[\u001B[0;34m94/802dfa\u001B[0;2m] \u001B[0;2mNFC…:\u001B[mRMARKDOWNNOTEBOOK\u001B[33;2m (\u001B[0;33mstudy\u001B[2m)\u001B[m\u001B[2m |\u001B[m 1 of 1\u001B[32m ✔\u001B[m\u001B[K\r\n",
      "\u001B[2m[\u001B[0;34m23/3653b6\u001B[0;2m] \u001B[0;2m\u001B[mNFC…MAKE_REPORT_BUNDLE\u001B[33;2m (\u001B[0;33mstudy\u001B[2m)\u001B[m\u001B[2m |\u001B[m 1 of 1\u001B[32m ✔\u001B[m\u001B[K\r\n",
      "\u001B[12A\r\n",
      "\u001B[2mexecutor >  local (13)\u001B[m\u001B[K\r\n",
      "\u001B[2m[\u001B[0;34m6f/d72fc0\u001B[0;2m] \u001B[0;2m\u001B[mNFC…LIDATOR\u001B[33;2m (\u001B[0;33msample_sheet.csv\u001B[2m)\u001B[m\u001B[2m |\u001B[m 1 of 1\u001B[32m ✔\u001B[m\u001B[K\r\n",
      "\u001B[2m[\u001B[0;34me8/1acfa3\u001B[0;2m] \u001B[0;2m\u001B[mNFC…_MATRIXFILTER\u001B[33;2m (\u001B[0;33m[id:study]\u001B[2m)\u001B[m\u001B[2m |\u001B[m 1 of 1\u001B[32m ✔\u001B[m\u001B[K\r\n",
      "\u001B[2m[\u001B[0;34m98/35945b\u001B[0;2m] \u001B[0;2mNFC…arget:SNI_oxy, blocking:\u001B[m])\u001B[2m |\u001B[m 1 of 1\u001B[32m ✔\u001B[m\u001B[K\r\n",
      "\u001B[2m[\u001B[0;34m65/cfc97c\u001B[0;2m] \u001B[0;2mNFC…rget:Sham_oxy, blocking:\u001B[m])\u001B[2m |\u001B[m 2 of 2\u001B[32m ✔\u001B[m\u001B[K\r\n",
      "\u001B[2m[\u001B[0;34m67/0e55a2\u001B[0;2m] \u001B[0;2mNFC…DANCE:\u001B[mFILTER_DIFFTABLE\u001B[33;2m (\u001B[0;33m2\u001B[2m)\u001B[m\u001B[2m |\u001B[m 2 of 2\u001B[32m ✔\u001B[m\u001B[K\r\n",
      "\u001B[2m[\u001B[0;34m49/f87a1b\u001B[0;2m] \u001B[0;2m\u001B[mNFC…OT_EXPLORATORY\u001B[33;2m (\u001B[0;33mCondition\u001B[2m)\u001B[m\u001B[2m |\u001B[m 1 of 1\u001B[32m ✔\u001B[m\u001B[K\r\n",
      "\u001B[2m[\u001B[0;34m68/32e9fb\u001B[0;2m] \u001B[0;2m\u001B[mNFC…tion_control_treated_test)\u001B[2m |\u001B[m 2 of 2\u001B[32m ✔\u001B[m\u001B[K\r\n",
      "\u001B[2m[\u001B[0;34m8c/18b2c7\u001B[0;2m] \u001B[0;2mNFC…DANCE:\u001B[mSHINYNGS_APP\u001B[33;2m (\u001B[0;33mstudy\u001B[2m)\u001B[m\u001B[2m |\u001B[m 1 of 1\u001B[32m ✔\u001B[m\u001B[K\r\n",
      "\u001B[2m[\u001B[0;34m94/802dfa\u001B[0;2m] \u001B[0;2mNFC…:\u001B[mRMARKDOWNNOTEBOOK\u001B[33;2m (\u001B[0;33mstudy\u001B[2m)\u001B[m\u001B[2m |\u001B[m 1 of 1\u001B[32m ✔\u001B[m\u001B[K\r\n",
      "\u001B[2m[\u001B[0;34m23/3653b6\u001B[0;2m] \u001B[0;2m\u001B[mNFC…MAKE_REPORT_BUNDLE\u001B[33;2m (\u001B[0;33mstudy\u001B[2m)\u001B[m\u001B[2m |\u001B[m 1 of 1\u001B[32m ✔\u001B[m\u001B[K\r\n",
      "\u001B[32;1mCompleted at: 01-Oct-2025 10:54:53\r\n",
      "Duration    : 2m 24s\r\n",
      "CPU hours   : 0.1\r\n",
      "Succeeded   : 13\r\n",
      "\u001B[22;39m\u001B[K\r\n",
      "\r\n"
     ]
    }
   ],
   "execution_count": 15
  },
  {
   "cell_type": "markdown",
   "metadata": {},
   "source": [
    "Explain all the parameters you set and why you set them in this way. If you used or created additional files as input, explain what they are used for."
   ]
  },
  {
   "cell_type": "markdown",
   "metadata": {},
   "source": [
    "input, contrasts, and matrix specify samples, comparisons to be performed and raw data respectively.\n",
    "Outdir specifies the output directory. Profile rnaseq is used with input data coming from rnaseq experiments, docker runs the pipeline in containers and arm is used to run properly on apple arm architecture."
   ]
  },
  {
   "cell_type": "markdown",
   "metadata": {},
   "source": [
    "What were the outputs of the pipeline?"
   ]
  },
  {
   "cell_type": "markdown",
   "metadata": {},
   "source": [
    "Plots, tables and a report both as a shiny app as well as .html file.\n",
    "Additionally pipeline info is collected."
   ]
  },
  {
   "cell_type": "markdown",
   "metadata": {},
   "source": [
    "Would you exclude any samples? If yes, which and why?"
   ]
  },
  {
   "cell_type": "markdown",
   "metadata": {},
   "source": "SNI_SAL4 and SNI_SAL_2, they are strong outliers in the PCA"
  },
  {
   "metadata": {
    "ExecuteTime": {
     "end_time": "2025-10-17T13:17:39.453861Z",
     "start_time": "2025-10-17T13:17:39.449911Z"
    }
   },
   "cell_type": "code",
   "source": [
    "from IPython.display import Image\n",
    "\n",
    "Image('differentialabundance_out/plots/exploratory/Condition/png/pca2d.png')"
   ],
   "outputs": [
    {
     "data": {
      "image/png": "[encoded data removed]",
      "text/plain": [
       "<IPython.core.display.Image object>"
      ]
     },
     "execution_count": 3,
     "metadata": {},
     "output_type": "execute_result"
    }
   ],
   "execution_count": 3
  },
  {
   "cell_type": "markdown",
   "metadata": {},
   "source": [
    "How many genes were differentially expressed in each contrast? Does this confirm what the paper mentions?"
   ]
  },
  {
   "cell_type": "markdown",
   "metadata": {},
   "source": "18 for SNI_oxy vs SNI_sal and 7 for sham_oxy vs sham_sal"
  },
  {
   "cell_type": "markdown",
   "metadata": {},
   "source": [
    "The paper mentions differentially expressed genes in three brain regions : the NAc, mPFC and VTA. Briefly explain what these 3 regions are."
   ]
  },
  {
   "cell_type": "markdown",
   "metadata": {},
   "source": [
    "NAc: nucleus accumbens, part of the reward centre and dopaminergic pathways.\n",
    "\n",
    "mPFC: medial prefrontal cortex, involved in decision making and higher order functions of the brain.\n",
    "\n",
    "VTA: ventral tegmental area: origin of dopaminergic pathways, involved in drug and reward processes."
   ]
  },
  {
   "cell_type": "markdown",
   "metadata": {},
   "source": [
    "Is there anyway from the paper and the material and methods for us to know which genes are included in these regions?"
   ]
  },
  {
   "cell_type": "markdown",
   "metadata": {},
   "source": "No, no list of DEGs is provided in supplementary data only final analysis."
  },
  {
   "cell_type": "markdown",
   "metadata": {},
   "source": [
    "Once you have your list of differentially expressed genes, do you think just communicating those to the biologists would be sufficient? What does the publication state?"
   ]
  },
  {
   "metadata": {},
   "cell_type": "markdown",
   "source": "This is not sufficient, Gene Ontology Analysis and Ingenuity Pathway Analysis was performed to get a functional view of the diferrentially expressed genes."
  },
  {
   "cell_type": "markdown",
   "metadata": {},
   "source": "Please reproduce the Venn Diagram from Figure 3, not taking into account the brain regions but just the contrasts mentioned."
  },
  {
   "metadata": {
    "ExecuteTime": {
     "end_time": "2025-10-22T06:26:29.772395Z",
     "start_time": "2025-10-22T06:26:29.762386Z"
    }
   },
   "cell_type": "code",
   "source": [
    "import pandas as pd\n",
    "import matplotlib.pyplot as plt\n",
    "from matplotlib_venn import venn2\n",
    "\n",
    "treated_degs = set(pd.read_csv('differentialabundance_out/tables/differential/condition_control_treated.deseq2.results_filtered.tsv', sep='\\t')['gene_id'])\n",
    "control_degs = set(pd.read_csv('differentialabundance_out/tables/differential/condition_control_treated_test.deseq2.results_filtered.tsv', sep='\\t')['gene_id'])"
   ],
   "outputs": [],
   "execution_count": 19
  },
  {
   "metadata": {
    "ExecuteTime": {
     "end_time": "2025-10-22T06:26:30.304807Z",
     "start_time": "2025-10-22T06:26:30.267049Z"
    }
   },
   "cell_type": "code",
   "source": [
    "plt.figure()\n",
    "venn2([treated_degs, control_degs], ('Treated', 'Control'))\n",
    "plt.title(\"Differentially expressed genes for control and treated\")\n",
    "plt.show()"
   ],
   "outputs": [
    {
     "data": {
      "text/plain": [
       "<Figure size 640x480 with 1 Axes>"
      ],
      "image/png": "[encoded data removed]"
     },
     "metadata": {},
     "output_type": "display_data"
    }
   ],
   "execution_count": 20
  },
  {
   "metadata": {},
   "cell_type": "code",
   "outputs": [],
   "execution_count": null,
   "source": ""
  }
 ],
 "metadata": {
  "kernelspec": {
   "display_name": "work",
   "language": "python",
   "name": "python3"
  },
  "language_info": {
   "codemirror_mode": {
    "name": "ipython",
    "version": 3
   },
   "file_extension": ".py",
   "mimetype": "text/x-python",
   "name": "python",
   "nbconvert_exporter": "python",
   "pygments_lexer": "ipython3",
   "version": "3.10.13"
  }
 },
 "nbformat": 4,
 "nbformat_minor": 2
}
