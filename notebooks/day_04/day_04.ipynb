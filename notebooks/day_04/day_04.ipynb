{
 "cells": [
  {
   "cell_type": "markdown",
   "metadata": {},
   "source": [
    "# Day 6 - Nextflow Basics: Introduction to channels and operators"
   ]
  },
  {
   "cell_type": "markdown",
   "metadata": {},
   "source": [
    "Today, we will begin exploring Nextflow, the programming language that powers the advanced nf-core pipelines you worked with last week. Your task is to dive into the core concepts and syntax of Nextflow, understanding how this language enables the development of scalable and reproducible workflows.\n",
    "\n",
    "Nextflow works quite differently from traditional programming languages like Python or Java that you may already be familiar with. To get started, it is essential to understand the foundational concepts that set Nextflow apart."
   ]
  },
  {
   "cell_type": "markdown",
   "metadata": {},
   "source": [
    "### 1. Describe the concept of Workflows, Processes and Channels we deal with in Nextflow"
   ]
  },
  {
   "cell_type": "markdown",
   "metadata": {},
   "source": [
    "Workflows:\n",
    "\n",
    "The combined set of processes, channels and operators which serves to analyze or process data in a predefined manner\n",
    "\n",
    "\n",
    "\n",
    "Processes:\n",
    "\n",
    "an individual data processing step consisting of data input, transformation by some tool and output\n",
    "\n",
    "\n",
    "\n",
    "\n",
    "Channels:\n",
    "data transfer structure between processes, dependencies in those determine flow of process executions"
   ]
  },
  {
   "cell_type": "markdown",
   "metadata": {},
   "source": [
    "## Introduction to channels\n",
    "\n",
    "Please refer to the file  $\\texttt{channels\\_intro.nf}$ for the next exercises. Then run the code with the respective flag here below. "
   ]
  },
  {
   "cell_type": "code",
   "metadata": {
    "ExecuteTime": {
     "end_time": "2025-10-02T09:04:17.589229Z",
     "start_time": "2025-10-02T09:04:16.172791Z"
    }
   },
   "source": [
    "# Task 1 - Create a channel that enumerates the numbers from 1 to 10\n",
    "!nextflow run channels_intro.nf --step 1"
   ],
   "outputs": [
    {
     "name": "stdout",
     "output_type": "stream",
     "text": [
      "\r\n",
      "\u001B[1m\u001B[38;5;232m\u001B[48;5;43m N E X T F L O W \u001B[0;2m  ~  \u001B[mversion 25.04.7\u001B[m\r\n",
      "\u001B[K\r\n",
      "Launching\u001B[35m `channels_intro.nf` \u001B[0;2m[\u001B[0;1;36mromantic_crick\u001B[0;2m] DSL2 - \u001B[36mrevision: \u001B[0;36md289cf05b8\u001B[m\r\n",
      "\u001B[K\r\n",
      "1\r\n",
      "2\r\n",
      "3\r\n",
      "4\r\n",
      "5\r\n",
      "6\r\n",
      "7\r\n",
      "8\r\n",
      "9\r\n",
      "10\r\n"
     ]
    }
   ],
   "execution_count": 23
  },
  {
   "cell_type": "code",
   "metadata": {
    "ExecuteTime": {
     "end_time": "2025-10-02T09:04:18.970192Z",
     "start_time": "2025-10-02T09:04:17.597461Z"
    }
   },
   "source": [
    "# Task 2 - Create a channel that gives out the entire alphabet\n",
    "!nextflow run channels_intro.nf --step 2"
   ],
   "outputs": [
    {
     "name": "stdout",
     "output_type": "stream",
     "text": [
      "\r\n",
      "\u001B[1m\u001B[38;5;232m\u001B[48;5;43m N E X T F L O W \u001B[0;2m  ~  \u001B[mversion 25.04.7\u001B[m\r\n",
      "\u001B[K\r\n",
      "Launching\u001B[35m `channels_intro.nf` \u001B[0;2m[\u001B[0;1;36mtender_brenner\u001B[0;2m] DSL2 - \u001B[36mrevision: \u001B[0;36md289cf05b8\u001B[m\r\n",
      "\u001B[K\r\n",
      "a\r\n",
      "b\r\n",
      "c\r\n",
      "d\r\n",
      "e\r\n",
      "f\r\n",
      "g\r\n",
      "h\r\n",
      "i\r\n",
      "j\r\n",
      "k\r\n",
      "l\r\n",
      "m\r\n",
      "n\r\n",
      "o\r\n",
      "p\r\n",
      "q\r\n",
      "r\r\n",
      "s\r\n",
      "t\r\n",
      "u\r\n",
      "v\r\n",
      "w\r\n",
      "x\r\n",
      "y\r\n",
      "z\r\n"
     ]
    }
   ],
   "execution_count": 24
  },
  {
   "cell_type": "code",
   "metadata": {
    "ExecuteTime": {
     "end_time": "2025-10-02T09:04:20.379956Z",
     "start_time": "2025-10-02T09:04:18.980100Z"
    }
   },
   "source": [
    "# Task 3 - Create a channel that includes all files in the \"files_dir\" directory\n",
    "!nextflow run channels_intro.nf --step 3\n"
   ],
   "outputs": [
    {
     "name": "stdout",
     "output_type": "stream",
     "text": [
      "\r\n",
      "\u001B[1m\u001B[38;5;232m\u001B[48;5;43m N E X T F L O W \u001B[0;2m  ~  \u001B[mversion 25.04.7\u001B[m\r\n",
      "\u001B[K\r\n",
      "Launching\u001B[35m `channels_intro.nf` \u001B[0;2m[\u001B[0;1;36mhungry_minsky\u001B[0;2m] DSL2 - \u001B[36mrevision: \u001B[0;36md289cf05b8\u001B[m\r\n",
      "\u001B[K\r\n",
      "/Users/patrick/Studium_Local/3.Sem/computational-workflows-2025/notebooks/day_04/files_dir/SRR5_2.fq\r\n",
      "/Users/patrick/Studium_Local/3.Sem/computational-workflows-2025/notebooks/day_04/files_dir/fastq5_2.fq\r\n",
      "/Users/patrick/Studium_Local/3.Sem/computational-workflows-2025/notebooks/day_04/files_dir/file_4.txt\r\n",
      "/Users/patrick/Studium_Local/3.Sem/computational-workflows-2025/notebooks/day_04/files_dir/file_5.txt\r\n",
      "/Users/patrick/Studium_Local/3.Sem/computational-workflows-2025/notebooks/day_04/files_dir/file_1.txt\r\n",
      "/Users/patrick/Studium_Local/3.Sem/computational-workflows-2025/notebooks/day_04/files_dir/file_2.txt\r\n",
      "/Users/patrick/Studium_Local/3.Sem/computational-workflows-2025/notebooks/day_04/files_dir/fastq.fq\r\n",
      "/Users/patrick/Studium_Local/3.Sem/computational-workflows-2025/notebooks/day_04/files_dir/fastq4_2.fq\r\n",
      "/Users/patrick/Studium_Local/3.Sem/computational-workflows-2025/notebooks/day_04/files_dir/SRR4_2.fq\r\n",
      "/Users/patrick/Studium_Local/3.Sem/computational-workflows-2025/notebooks/day_04/files_dir/file_3.txt\r\n",
      "/Users/patrick/Studium_Local/3.Sem/computational-workflows-2025/notebooks/day_04/files_dir/SRR.fq\r\n",
      "/Users/patrick/Studium_Local/3.Sem/computational-workflows-2025/notebooks/day_04/files_dir/SRR3_2.fq\r\n",
      "/Users/patrick/Studium_Local/3.Sem/computational-workflows-2025/notebooks/day_04/files_dir/fastq3_2.fq\r\n",
      "/Users/patrick/Studium_Local/3.Sem/computational-workflows-2025/notebooks/day_04/files_dir/fastq_1.fq\r\n",
      "/Users/patrick/Studium_Local/3.Sem/computational-workflows-2025/notebooks/day_04/files_dir/fastq2_2.fq\r\n",
      "/Users/patrick/Studium_Local/3.Sem/computational-workflows-2025/notebooks/day_04/files_dir/SRR2_2.fq\r\n",
      "/Users/patrick/Studium_Local/3.Sem/computational-workflows-2025/notebooks/day_04/files_dir/fastq1_1.fq\r\n",
      "/Users/patrick/Studium_Local/3.Sem/computational-workflows-2025/notebooks/day_04/files_dir/SRR1_1.fq\r\n",
      "/Users/patrick/Studium_Local/3.Sem/computational-workflows-2025/notebooks/day_04/files_dir/fastq_2.fq\r\n",
      "/Users/patrick/Studium_Local/3.Sem/computational-workflows-2025/notebooks/day_04/files_dir/fastq2_1.fq\r\n",
      "/Users/patrick/Studium_Local/3.Sem/computational-workflows-2025/notebooks/day_04/files_dir/SRR2_1.fq\r\n",
      "/Users/patrick/Studium_Local/3.Sem/computational-workflows-2025/notebooks/day_04/files_dir/fastq1_2.fq\r\n",
      "/Users/patrick/Studium_Local/3.Sem/computational-workflows-2025/notebooks/day_04/files_dir/SRR1_2.fq\r\n",
      "/Users/patrick/Studium_Local/3.Sem/computational-workflows-2025/notebooks/day_04/files_dir/SRR3_1.fq\r\n",
      "/Users/patrick/Studium_Local/3.Sem/computational-workflows-2025/notebooks/day_04/files_dir/fastq3_1.fq\r\n",
      "/Users/patrick/Studium_Local/3.Sem/computational-workflows-2025/notebooks/day_04/files_dir/fastq4_1.fq\r\n",
      "/Users/patrick/Studium_Local/3.Sem/computational-workflows-2025/notebooks/day_04/files_dir/SRR4_1.fq\r\n",
      "/Users/patrick/Studium_Local/3.Sem/computational-workflows-2025/notebooks/day_04/files_dir/SRR5_1.fq\r\n",
      "/Users/patrick/Studium_Local/3.Sem/computational-workflows-2025/notebooks/day_04/files_dir/fastq5_1.fq\r\n"
     ]
    }
   ],
   "execution_count": 25
  },
  {
   "cell_type": "code",
   "metadata": {
    "ExecuteTime": {
     "end_time": "2025-10-02T09:04:21.804302Z",
     "start_time": "2025-10-02T09:04:20.387889Z"
    }
   },
   "source": [
    "# Task 4 - Create a channel that includes all TXT files in the \"files_dir\" directory\n",
    "!nextflow run channels_intro.nf --step 4"
   ],
   "outputs": [
    {
     "name": "stdout",
     "output_type": "stream",
     "text": [
      "\r\n",
      "\u001B[1m\u001B[38;5;232m\u001B[48;5;43m N E X T F L O W \u001B[0;2m  ~  \u001B[mversion 25.04.7\u001B[m\r\n",
      "\u001B[K\r\n",
      "Launching\u001B[35m `channels_intro.nf` \u001B[0;2m[\u001B[0;1;36mfabulous_nightingale\u001B[0;2m] DSL2 - \u001B[36mrevision: \u001B[0;36md289cf05b8\u001B[m\r\n",
      "\u001B[K\r\n",
      "/Users/patrick/Studium_Local/3.Sem/computational-workflows-2025/notebooks/day_04/files_dir/file_4.txt\r\n",
      "/Users/patrick/Studium_Local/3.Sem/computational-workflows-2025/notebooks/day_04/files_dir/file_5.txt\r\n",
      "/Users/patrick/Studium_Local/3.Sem/computational-workflows-2025/notebooks/day_04/files_dir/file_1.txt\r\n",
      "/Users/patrick/Studium_Local/3.Sem/computational-workflows-2025/notebooks/day_04/files_dir/file_2.txt\r\n",
      "/Users/patrick/Studium_Local/3.Sem/computational-workflows-2025/notebooks/day_04/files_dir/file_3.txt\r\n"
     ]
    }
   ],
   "execution_count": 26
  },
  {
   "cell_type": "code",
   "metadata": {
    "ExecuteTime": {
     "end_time": "2025-10-02T09:04:23.274948Z",
     "start_time": "2025-10-02T09:04:21.812359Z"
    }
   },
   "source": [
    "# Task 5 - Create a channel that includes the files \"fastq_1.fq\" and \"fastq_2.fq\" in the \"files_dir\" directory\n",
    "!nextflow run channels_intro.nf --step 5"
   ],
   "outputs": [
    {
     "name": "stdout",
     "output_type": "stream",
     "text": [
      "\r\n",
      "\u001B[1m\u001B[38;5;232m\u001B[48;5;43m N E X T F L O W \u001B[0;2m  ~  \u001B[mversion 25.04.7\u001B[m\r\n",
      "\u001B[K\r\n",
      "Launching\u001B[35m `channels_intro.nf` \u001B[0;2m[\u001B[0;1;36mdeadly_koch\u001B[0;2m] DSL2 - \u001B[36mrevision: \u001B[0;36md289cf05b8\u001B[m\r\n",
      "\u001B[K\r\n",
      "/Users/patrick/Studium_Local/3.Sem/computational-workflows-2025/notebooks/day_04/files_dir/fastq_1.fq\r\n",
      "/Users/patrick/Studium_Local/3.Sem/computational-workflows-2025/notebooks/day_04/files_dir/fastq_2.fq\r\n"
     ]
    }
   ],
   "execution_count": 27
  },
  {
   "cell_type": "code",
   "metadata": {
    "ExecuteTime": {
     "end_time": "2025-10-02T09:04:24.743041Z",
     "start_time": "2025-10-02T09:04:23.281865Z"
    }
   },
   "source": [
    "# Task 6 - go back to the time when you included all files. Are you sure that really ALL files are included? If not, how can you include them?\n",
    "!nextflow run channels_intro.nf --step 6"
   ],
   "outputs": [
    {
     "name": "stdout",
     "output_type": "stream",
     "text": [
      "\r\n",
      "\u001B[1m\u001B[38;5;232m\u001B[48;5;43m N E X T F L O W \u001B[0;2m  ~  \u001B[mversion 25.04.7\u001B[m\r\n",
      "\u001B[K\r\n",
      "Launching\u001B[35m `channels_intro.nf` \u001B[0;2m[\u001B[0;1;36mcranky_goodall\u001B[0;2m] DSL2 - \u001B[36mrevision: \u001B[0;36md289cf05b8\u001B[m\r\n",
      "\u001B[K\r\n",
      "/Users/patrick/Studium_Local/3.Sem/computational-workflows-2025/notebooks/day_04/files_dir/SRR5_2.fq\r\n",
      "/Users/patrick/Studium_Local/3.Sem/computational-workflows-2025/notebooks/day_04/files_dir/fastq5_2.fq\r\n",
      "/Users/patrick/Studium_Local/3.Sem/computational-workflows-2025/notebooks/day_04/files_dir/file_4.txt\r\n",
      "/Users/patrick/Studium_Local/3.Sem/computational-workflows-2025/notebooks/day_04/files_dir/file_5.txt\r\n",
      "/Users/patrick/Studium_Local/3.Sem/computational-workflows-2025/notebooks/day_04/files_dir/file_1.txt\r\n",
      "/Users/patrick/Studium_Local/3.Sem/computational-workflows-2025/notebooks/day_04/files_dir/.hidden_2.txt\r\n",
      "/Users/patrick/Studium_Local/3.Sem/computational-workflows-2025/notebooks/day_04/files_dir/file_2.txt\r\n",
      "/Users/patrick/Studium_Local/3.Sem/computational-workflows-2025/notebooks/day_04/files_dir/fastq.fq\r\n",
      "/Users/patrick/Studium_Local/3.Sem/computational-workflows-2025/notebooks/day_04/files_dir/fastq4_2.fq\r\n",
      "/Users/patrick/Studium_Local/3.Sem/computational-workflows-2025/notebooks/day_04/files_dir/SRR4_2.fq\r\n",
      "/Users/patrick/Studium_Local/3.Sem/computational-workflows-2025/notebooks/day_04/files_dir/file_3.txt\r\n",
      "/Users/patrick/Studium_Local/3.Sem/computational-workflows-2025/notebooks/day_04/files_dir/.hidden_1.txt\r\n",
      "/Users/patrick/Studium_Local/3.Sem/computational-workflows-2025/notebooks/day_04/files_dir/SRR.fq\r\n",
      "/Users/patrick/Studium_Local/3.Sem/computational-workflows-2025/notebooks/day_04/files_dir/SRR3_2.fq\r\n",
      "/Users/patrick/Studium_Local/3.Sem/computational-workflows-2025/notebooks/day_04/files_dir/fastq3_2.fq\r\n",
      "/Users/patrick/Studium_Local/3.Sem/computational-workflows-2025/notebooks/day_04/files_dir/fastq_1.fq\r\n",
      "/Users/patrick/Studium_Local/3.Sem/computational-workflows-2025/notebooks/day_04/files_dir/fastq2_2.fq\r\n",
      "/Users/patrick/Studium_Local/3.Sem/computational-workflows-2025/notebooks/day_04/files_dir/SRR2_2.fq\r\n",
      "/Users/patrick/Studium_Local/3.Sem/computational-workflows-2025/notebooks/day_04/files_dir/fastq1_1.fq\r\n",
      "/Users/patrick/Studium_Local/3.Sem/computational-workflows-2025/notebooks/day_04/files_dir/SRR1_1.fq\r\n",
      "/Users/patrick/Studium_Local/3.Sem/computational-workflows-2025/notebooks/day_04/files_dir/fastq_2.fq\r\n",
      "/Users/patrick/Studium_Local/3.Sem/computational-workflows-2025/notebooks/day_04/files_dir/fastq2_1.fq\r\n",
      "/Users/patrick/Studium_Local/3.Sem/computational-workflows-2025/notebooks/day_04/files_dir/SRR2_1.fq\r\n",
      "/Users/patrick/Studium_Local/3.Sem/computational-workflows-2025/notebooks/day_04/files_dir/fastq1_2.fq\r\n",
      "/Users/patrick/Studium_Local/3.Sem/computational-workflows-2025/notebooks/day_04/files_dir/SRR1_2.fq\r\n",
      "/Users/patrick/Studium_Local/3.Sem/computational-workflows-2025/notebooks/day_04/files_dir/SRR3_1.fq\r\n",
      "/Users/patrick/Studium_Local/3.Sem/computational-workflows-2025/notebooks/day_04/files_dir/fastq3_1.fq\r\n",
      "/Users/patrick/Studium_Local/3.Sem/computational-workflows-2025/notebooks/day_04/files_dir/fastq4_1.fq\r\n",
      "/Users/patrick/Studium_Local/3.Sem/computational-workflows-2025/notebooks/day_04/files_dir/SRR4_1.fq\r\n",
      "/Users/patrick/Studium_Local/3.Sem/computational-workflows-2025/notebooks/day_04/files_dir/SRR5_1.fq\r\n",
      "/Users/patrick/Studium_Local/3.Sem/computational-workflows-2025/notebooks/day_04/files_dir/fastq5_1.fq\r\n"
     ]
    }
   ],
   "execution_count": 28
  },
  {
   "cell_type": "code",
   "metadata": {
    "ExecuteTime": {
     "end_time": "2025-10-02T09:05:55.490164Z",
     "start_time": "2025-10-02T09:05:53.944689Z"
    }
   },
   "source": [
    "# Task 7 - get all filepairs in the \"files_dir\" directory\n",
    "!nextflow run channels_intro.nf --step 7\n"
   ],
   "outputs": [
    {
     "name": "stdout",
     "output_type": "stream",
     "text": [
      "\r\n",
      "\u001B[1m\u001B[38;5;232m\u001B[48;5;43m N E X T F L O W \u001B[0;2m  ~  \u001B[mversion 25.04.7\u001B[m\r\n",
      "\u001B[K\r\n",
      "Launching\u001B[35m `channels_intro.nf` \u001B[0;2m[\u001B[0;1;36mloquacious_mayer\u001B[0;2m] DSL2 - \u001B[36mrevision: \u001B[0;36m94e295c853\u001B[m\r\n",
      "\u001B[K\r\n",
      "[fastq, [/Users/patrick/Studium_Local/3.Sem/computational-workflows-2025/notebooks/day_04/files_dir/fastq_1.fq, /Users/patrick/Studium_Local/3.Sem/computational-workflows-2025/notebooks/day_04/files_dir/fastq_2.fq]]\r\n",
      "[fastq2, [/Users/patrick/Studium_Local/3.Sem/computational-workflows-2025/notebooks/day_04/files_dir/fastq2_1.fq, /Users/patrick/Studium_Local/3.Sem/computational-workflows-2025/notebooks/day_04/files_dir/fastq2_2.fq]]\r\n",
      "[SRR2, [/Users/patrick/Studium_Local/3.Sem/computational-workflows-2025/notebooks/day_04/files_dir/SRR2_1.fq, /Users/patrick/Studium_Local/3.Sem/computational-workflows-2025/notebooks/day_04/files_dir/SRR2_2.fq]]\r\n",
      "[fastq1, [/Users/patrick/Studium_Local/3.Sem/computational-workflows-2025/notebooks/day_04/files_dir/fastq1_1.fq, /Users/patrick/Studium_Local/3.Sem/computational-workflows-2025/notebooks/day_04/files_dir/fastq1_2.fq]]\r\n",
      "[SRR1, [/Users/patrick/Studium_Local/3.Sem/computational-workflows-2025/notebooks/day_04/files_dir/SRR1_1.fq, /Users/patrick/Studium_Local/3.Sem/computational-workflows-2025/notebooks/day_04/files_dir/SRR1_2.fq]]\r\n",
      "[SRR3, [/Users/patrick/Studium_Local/3.Sem/computational-workflows-2025/notebooks/day_04/files_dir/SRR3_1.fq, /Users/patrick/Studium_Local/3.Sem/computational-workflows-2025/notebooks/day_04/files_dir/SRR3_2.fq]]\r\n",
      "[fastq3, [/Users/patrick/Studium_Local/3.Sem/computational-workflows-2025/notebooks/day_04/files_dir/fastq3_1.fq, /Users/patrick/Studium_Local/3.Sem/computational-workflows-2025/notebooks/day_04/files_dir/fastq3_2.fq]]\r\n",
      "[fastq4, [/Users/patrick/Studium_Local/3.Sem/computational-workflows-2025/notebooks/day_04/files_dir/fastq4_1.fq, /Users/patrick/Studium_Local/3.Sem/computational-workflows-2025/notebooks/day_04/files_dir/fastq4_2.fq]]\r\n",
      "[SRR4, [/Users/patrick/Studium_Local/3.Sem/computational-workflows-2025/notebooks/day_04/files_dir/SRR4_1.fq, /Users/patrick/Studium_Local/3.Sem/computational-workflows-2025/notebooks/day_04/files_dir/SRR4_2.fq]]\r\n",
      "[SRR5, [/Users/patrick/Studium_Local/3.Sem/computational-workflows-2025/notebooks/day_04/files_dir/SRR5_1.fq, /Users/patrick/Studium_Local/3.Sem/computational-workflows-2025/notebooks/day_04/files_dir/SRR5_2.fq]]\r\n",
      "[fastq5, [/Users/patrick/Studium_Local/3.Sem/computational-workflows-2025/notebooks/day_04/files_dir/fastq5_1.fq, /Users/patrick/Studium_Local/3.Sem/computational-workflows-2025/notebooks/day_04/files_dir/fastq5_2.fq]]\r\n"
     ]
    }
   ],
   "execution_count": 29
  },
  {
   "cell_type": "markdown",
   "metadata": {},
   "source": [
    "## Now that you have a solid understanding of the basic concepts of channels in Nextflow, it’s time to experiment and see how they work in practice."
   ]
  },
  {
   "cell_type": "markdown",
   "metadata": {},
   "source": [
    "To do so, Nextflow has the concept of Operators to give and pass information inbetween channels.\n",
    "\n",
    "Please answer the questions in $\\texttt{basic\\_channel\\_operations.nf}$ and run the code here. "
   ]
  },
  {
   "cell_type": "code",
   "metadata": {
    "ExecuteTime": {
     "end_time": "2025-10-02T09:12:31.745524Z",
     "start_time": "2025-10-02T09:12:30.375173Z"
    }
   },
   "source": [
    "# Task 1 - Extract the first item from the channel\n",
    "!nextflow run basic_channel_operations.nf --step 1"
   ],
   "outputs": [
    {
     "name": "stdout",
     "output_type": "stream",
     "text": [
      "\r\n",
      "\u001B[1m\u001B[38;5;232m\u001B[48;5;43m N E X T F L O W \u001B[0;2m  ~  \u001B[mversion 25.04.7\u001B[m\r\n",
      "\u001B[K\r\n",
      "Launching\u001B[35m `basic_channel_operations.nf` \u001B[0;2m[\u001B[0;1;36mgigantic_mccarthy\u001B[0;2m] DSL2 - \u001B[36mrevision: \u001B[0;36m8c300bc316\u001B[m\r\n",
      "\u001B[K\r\n",
      "1\r\n"
     ]
    }
   ],
   "execution_count": 33
  },
  {
   "cell_type": "code",
   "metadata": {
    "ExecuteTime": {
     "end_time": "2025-10-02T09:13:14.404676Z",
     "start_time": "2025-10-02T09:13:12.891476Z"
    }
   },
   "source": [
    "# Task 2 - Extract the last item from the channel\n",
    "!nextflow run basic_channel_operations.nf --step 2"
   ],
   "outputs": [
    {
     "name": "stdout",
     "output_type": "stream",
     "text": [
      "\r\n",
      "\u001B[1m\u001B[38;5;232m\u001B[48;5;43m N E X T F L O W \u001B[0;2m  ~  \u001B[mversion 25.04.7\u001B[m\r\n",
      "\u001B[K\r\n",
      "Launching\u001B[35m `basic_channel_operations.nf` \u001B[0;2m[\u001B[0;1;36mscruffy_jennings\u001B[0;2m] DSL2 - \u001B[36mrevision: \u001B[0;36mf031886286\u001B[m\r\n",
      "\u001B[K\r\n",
      "3\r\n"
     ]
    }
   ],
   "execution_count": 35
  },
  {
   "cell_type": "code",
   "metadata": {
    "ExecuteTime": {
     "end_time": "2025-10-02T09:15:08.352503Z",
     "start_time": "2025-10-02T09:15:06.872769Z"
    }
   },
   "source": [
    "# Task 3 - Use an operator to extract the first two items from the channel\n",
    "!nextflow run basic_channel_operations.nf --step 3\n"
   ],
   "outputs": [
    {
     "name": "stdout",
     "output_type": "stream",
     "text": [
      "\r\n",
      "\u001B[1m\u001B[38;5;232m\u001B[48;5;43m N E X T F L O W \u001B[0;2m  ~  \u001B[mversion 25.04.7\u001B[m\r\n",
      "\u001B[K\r\n",
      "Launching\u001B[35m `basic_channel_operations.nf` \u001B[0;2m[\u001B[0;1;36mfabulous_sanger\u001B[0;2m] DSL2 - \u001B[36mrevision: \u001B[0;36m57463eb59f\u001B[m\r\n",
      "\u001B[K\r\n",
      "1\r\n",
      "2\r\n"
     ]
    }
   ],
   "execution_count": 36
  },
  {
   "cell_type": "code",
   "metadata": {
    "ExecuteTime": {
     "end_time": "2025-10-02T09:16:10.493987Z",
     "start_time": "2025-10-02T09:16:08.858934Z"
    }
   },
   "source": [
    "# Task 4 - Return the squared values of the channel\n",
    "!nextflow run basic_channel_operations.nf --step 4"
   ],
   "outputs": [
    {
     "name": "stdout",
     "output_type": "stream",
     "text": [
      "\r\n",
      "\u001B[1m\u001B[38;5;232m\u001B[48;5;43m N E X T F L O W \u001B[0;2m  ~  \u001B[mversion 25.04.7\u001B[m\r\n",
      "\u001B[K\r\n",
      "Launching\u001B[35m `basic_channel_operations.nf` \u001B[0;2m[\u001B[0;1;36mgoofy_shannon\u001B[0;2m] DSL2 - \u001B[36mrevision: \u001B[0;36m99a6d0f71e\u001B[m\r\n",
      "\u001B[K\r\n",
      "4\r\n",
      "9\r\n",
      "16\r\n"
     ]
    }
   ],
   "execution_count": 37
  },
  {
   "cell_type": "code",
   "metadata": {
    "ExecuteTime": {
     "end_time": "2025-10-02T09:16:50.688600Z",
     "start_time": "2025-10-02T09:16:49.280208Z"
    }
   },
   "source": [
    "# Task 5 - Remember the previous task where you squared the values of the channel. Now, extract the first two items from the squared channel\n",
    "!nextflow run basic_channel_operations.nf --step 5"
   ],
   "outputs": [
    {
     "name": "stdout",
     "output_type": "stream",
     "text": [
      "\r\n",
      "\u001B[1m\u001B[38;5;232m\u001B[48;5;43m N E X T F L O W \u001B[0;2m  ~  \u001B[mversion 25.04.7\u001B[m\r\n",
      "\u001B[K\r\n",
      "Launching\u001B[35m `basic_channel_operations.nf` \u001B[0;2m[\u001B[0;1;36mcheeky_pesquet\u001B[0;2m] DSL2 - \u001B[36mrevision: \u001B[0;36mf8ee71afbc\u001B[m\r\n",
      "\u001B[K\r\n",
      "4\r\n",
      "9\r\n"
     ]
    }
   ],
   "execution_count": 38
  },
  {
   "cell_type": "code",
   "metadata": {
    "ExecuteTime": {
     "end_time": "2025-10-02T09:19:00.157615Z",
     "start_time": "2025-10-02T09:18:58.730291Z"
    }
   },
   "source": [
    "# Task 6 - Remember when you used bash to reverse the output? Try to use map and Groovy to reverse the output\n",
    "!nextflow run basic_channel_operations.nf --step 6"
   ],
   "outputs": [
    {
     "name": "stdout",
     "output_type": "stream",
     "text": [
      "\r\n",
      "\u001B[1m\u001B[38;5;232m\u001B[48;5;43m N E X T F L O W \u001B[0;2m  ~  \u001B[mversion 25.04.7\u001B[m\r\n",
      "\u001B[K\r\n",
      "Launching\u001B[35m `basic_channel_operations.nf` \u001B[0;2m[\u001B[0;1;36mzen_plateau\u001B[0;2m] DSL2 - \u001B[36mrevision: \u001B[0;36mfa2e7c9f93\u001B[m\r\n",
      "\u001B[K\r\n",
      "rolyaT\r\n",
      "tfiwS\r\n"
     ]
    }
   ],
   "execution_count": 40
  },
  {
   "cell_type": "code",
   "metadata": {
    "ExecuteTime": {
     "end_time": "2025-10-02T09:21:02.812113Z",
     "start_time": "2025-10-02T09:21:01.234284Z"
    }
   },
   "source": [
    "# Task 7 - Use fromPath to include all fastq files in the \"files_dir\" directory, then use map to return a pair containing the file name and the file path (Hint: include groovy code)\n",
    "!nextflow run basic_channel_operations.nf --step 7"
   ],
   "outputs": [
    {
     "name": "stdout",
     "output_type": "stream",
     "text": [
      "\r\n",
      "\u001B[1m\u001B[38;5;232m\u001B[48;5;43m N E X T F L O W \u001B[0;2m  ~  \u001B[mversion 25.04.7\u001B[m\r\n",
      "\u001B[K\r\n",
      "Launching\u001B[35m `basic_channel_operations.nf` \u001B[0;2m[\u001B[0;1;36mfestering_stonebraker\u001B[0;2m] DSL2 - \u001B[36mrevision: \u001B[0;36me9d15306f9\u001B[m\r\n",
      "\u001B[K\r\n",
      "[SRR5_2.fq, /Users/patrick/Studium_Local/3.Sem/computational-workflows-2025/notebooks/day_04/files_dir/SRR5_2.fq]\r\n"
     ]
    }
   ],
   "execution_count": 41
  },
  {
   "cell_type": "code",
   "metadata": {
    "ExecuteTime": {
     "end_time": "2025-10-02T09:23:46.951006Z",
     "start_time": "2025-10-02T09:23:45.442510Z"
    }
   },
   "source": [
    "# Task 8 - Combine the items from the two channels into a single channel\n",
    "!nextflow run basic_channel_operations.nf --step 8"
   ],
   "outputs": [
    {
     "name": "stdout",
     "output_type": "stream",
     "text": [
      "\r\n",
      "\u001B[1m\u001B[38;5;232m\u001B[48;5;43m N E X T F L O W \u001B[0;2m  ~  \u001B[mversion 25.04.7\u001B[m\r\n",
      "\u001B[K\r\n",
      "Launching\u001B[35m `basic_channel_operations.nf` \u001B[0;2m[\u001B[0;1;36mtrusting_lamarck\u001B[0;2m] DSL2 - \u001B[36mrevision: \u001B[0;36m77e3f2615b\u001B[m\r\n",
      "\u001B[K\r\n",
      "1\r\n",
      "2\r\n",
      "3\r\n",
      "4\r\n",
      "5\r\n",
      "6\r\n"
     ]
    }
   ],
   "execution_count": 44
  },
  {
   "cell_type": "code",
   "metadata": {
    "ExecuteTime": {
     "end_time": "2025-10-02T09:23:51.396856Z",
     "start_time": "2025-10-02T09:23:49.994868Z"
    }
   },
   "source": [
    "# Task 9 - Flatten the list in the channel\n",
    "!nextflow run basic_channel_operations.nf --step 9"
   ],
   "outputs": [
    {
     "name": "stdout",
     "output_type": "stream",
     "text": [
      "\r\n",
      "\u001B[1m\u001B[38;5;232m\u001B[48;5;43m N E X T F L O W \u001B[0;2m  ~  \u001B[mversion 25.04.7\u001B[m\r\n",
      "\u001B[K\r\n",
      "Launching\u001B[35m `basic_channel_operations.nf` \u001B[0;2m[\u001B[0;1;36mreverent_lumiere\u001B[0;2m] DSL2 - \u001B[36mrevision: \u001B[0;36m77e3f2615b\u001B[m\r\n",
      "\u001B[K\r\n",
      "1\r\n",
      "2\r\n",
      "3\r\n",
      "4\r\n",
      "5\r\n",
      "6\r\n"
     ]
    }
   ],
   "execution_count": 45
  },
  {
   "cell_type": "code",
   "metadata": {
    "ExecuteTime": {
     "end_time": "2025-10-02T09:25:26.555325Z",
     "start_time": "2025-10-02T09:25:25.116947Z"
    }
   },
   "source": [
    "# Task 10 - Collect the items of a channel into a list. What kind of channel is the output channel?\n",
    "!nextflow run basic_channel_operations.nf --step 10"
   ],
   "outputs": [
    {
     "name": "stdout",
     "output_type": "stream",
     "text": [
      "\r\n",
      "\u001B[1m\u001B[38;5;232m\u001B[48;5;43m N E X T F L O W \u001B[0;2m  ~  \u001B[mversion 25.04.7\u001B[m\r\n",
      "\u001B[K\r\n",
      "Launching\u001B[35m `basic_channel_operations.nf` \u001B[0;2m[\u001B[0;1;36mbackstabbing_wright\u001B[0;2m] DSL2 - \u001B[36mrevision: \u001B[0;36m0e13879a65\u001B[m\r\n",
      "\u001B[K\r\n",
      "[1, 2, 3]\r\n"
     ]
    }
   ],
   "execution_count": 47
  },
  {
   "cell_type": "markdown",
   "metadata": {},
   "source": [
    "What kind of channel is the output channel?"
   ]
  },
  {
   "cell_type": "code",
   "metadata": {
    "ExecuteTime": {
     "end_time": "2025-10-02T09:27:23.059008Z",
     "start_time": "2025-10-02T09:27:21.648999Z"
    }
   },
   "source": [
    "# Task 11 -  From the input channel, create lists where each first item in the list of lists is the first item in the output channel, followed by a list of all the items its paired with\n",
    "!nextflow run basic_channel_operations.nf --step 11"
   ],
   "outputs": [
    {
     "name": "stdout",
     "output_type": "stream",
     "text": [
      "\r\n",
      "\u001B[1m\u001B[38;5;232m\u001B[48;5;43m N E X T F L O W \u001B[0;2m  ~  \u001B[mversion 25.04.7\u001B[m\r\n",
      "\u001B[K\r\n",
      "Launching\u001B[35m `basic_channel_operations.nf` \u001B[0;2m[\u001B[0;1;36mserene_carlsson\u001B[0;2m] DSL2 - \u001B[36mrevision: \u001B[0;36m0add6c105d\u001B[m\r\n",
      "\u001B[K\r\n",
      "[1, [V, f, B]]\r\n",
      "[3, [M, G, 33]]\r\n",
      "[2, [O, L, E]]\r\n"
     ]
    }
   ],
   "execution_count": 50
  },
  {
   "cell_type": "code",
   "metadata": {
    "ExecuteTime": {
     "end_time": "2025-10-02T09:27:16.116384Z",
     "start_time": "2025-10-02T09:27:14.454747Z"
    }
   },
   "source": [
    "# Task 12 - Create a channel that joins the input to the output channel. What do you notice?\n",
    "!nextflow run basic_channel_operations.nf --step 12"
   ],
   "outputs": [
    {
     "name": "stdout",
     "output_type": "stream",
     "text": [
      "\r\n",
      "\u001B[1m\u001B[38;5;232m\u001B[48;5;43m N E X T F L O W \u001B[0;2m  ~  \u001B[mversion 25.04.7\u001B[m\r\n",
      "\u001B[K\r\n",
      "Launching\u001B[35m `basic_channel_operations.nf` \u001B[0;2m[\u001B[0;1;36mdetermined_raman\u001B[0;2m] DSL2 - \u001B[36mrevision: \u001B[0;36m0add6c105d\u001B[m\r\n",
      "\u001B[K\r\n",
      "[1, V, f]\r\n",
      "[3, M, G]\r\n",
      "[2, O, L]\r\n"
     ]
    }
   ],
   "execution_count": 49
  },
  {
   "cell_type": "markdown",
   "metadata": {},
   "source": [
    "Task 12 - What do you notice compared to Task 11?"
   ]
  },
  {
   "cell_type": "code",
   "metadata": {
    "ExecuteTime": {
     "end_time": "2025-10-02T11:12:04.617089Z",
     "start_time": "2025-10-02T11:12:02.932604Z"
    }
   },
   "source": [
    "# Task 13 - Split the input channel into two channels, one of all the even numbers and the other of all the odd numbers.\n",
    "#           Write them to stdout including information about which is which\n",
    "!nextflow run basic_channel_operations.nf --step 13 -dump-channels"
   ],
   "outputs": [
    {
     "name": "stdout",
     "output_type": "stream",
     "text": [
      "\r\n",
      "\u001B[1m\u001B[38;5;232m\u001B[48;5;43m N E X T F L O W \u001B[0;2m  ~  \u001B[mversion 25.04.7\u001B[m\r\n",
      "\u001B[K\r\n",
      "Launching\u001B[35m `basic_channel_operations.nf` \u001B[0;2m[\u001B[0;1;36madmiring_spence\u001B[0;2m] DSL2 - \u001B[36mrevision: \u001B[0;36ma0095d941a\u001B[m\r\n",
      "\u001B[K\r\n",
      "even numbers: [2, 4, 6, 8, 10]\r\n",
      "[1, 2, 3, 4, 5, 6, 7, 8, 9, 10]\r\n",
      "odd numbers: [1, 3, 5, 7, 9]\r\n"
     ]
    }
   ],
   "execution_count": 72
  },
  {
   "cell_type": "code",
   "metadata": {
    "ExecuteTime": {
     "end_time": "2025-10-02T12:01:05.914846Z",
     "start_time": "2025-10-02T12:01:04.002664Z"
    }
   },
   "source": [
    "# Task 14 - Nextflow has the concept of maps. Write the names in the maps in this channel to a file called \"names.txt\". Each name should be on a new line. \n",
    "#           Store the file in the \"results\" directory under the name \"names.txt\"\n",
    "\n",
    "!nextflow run basic_channel_operations.nf --step 14\n",
    "\n",
    "!cat results/names.txt\n"
   ],
   "outputs": [
    {
     "name": "stdout",
     "output_type": "stream",
     "text": [
      "\r\n",
      "\u001B[1m\u001B[38;5;232m\u001B[48;5;43m N E X T F L O W \u001B[0;2m  ~  \u001B[mversion 25.04.7\u001B[m\r\n",
      "\u001B[K\r\n",
      "Launching\u001B[35m `basic_channel_operations.nf` \u001B[0;2m[\u001B[0;1;36mreverent_blackwell\u001B[0;2m] DSL2 - \u001B[36mrevision: \u001B[0;36m3b2427749c\u001B[m\r\n",
      "\u001B[K\r\n",
      "['Harry', 'Ron', 'Hermione', 'Albus', 'Snape', 'Hagrid', 'Dobby']\r\n",
      "Harry,Ron,Hermione,Albus,Snape,Hagrid,Dobby\r\n"
     ]
    }
   ],
   "execution_count": 78
  },
  {
   "cell_type": "markdown",
   "metadata": {},
   "source": [
    "## Now that we learned about Channels and Operators to deal with them, let's focus on Processes that make use of these channels."
   ]
  },
  {
   "cell_type": "markdown",
   "metadata": {},
   "source": [
    "Please answer the questions in $\\texttt{basics\\_processes.nf}$ and run the code here. "
   ]
  },
  {
   "cell_type": "code",
   "metadata": {
    "ExecuteTime": {
     "end_time": "2025-10-02T12:02:35.585521Z",
     "start_time": "2025-10-02T12:02:33.413861Z"
    }
   },
   "source": [
    "# Task 1 - create a process that says Hello World! (add debug true to the process right after initializing to be sable to print the output to the console)\n",
    "!nextflow run basics_processes.nf --step 1"
   ],
   "outputs": [
    {
     "name": "stdout",
     "output_type": "stream",
     "text": [
      "\r\n",
      "\u001B[1m\u001B[38;5;232m\u001B[48;5;43m N E X T F L O W \u001B[0;2m  ~  \u001B[mversion 25.04.7\u001B[m\r\n",
      "\u001B[K\r\n",
      "Launching\u001B[35m `basics_processes.nf` \u001B[0;2m[\u001B[0;1;36mastonishing_plateau\u001B[0;2m] DSL2 - \u001B[36mrevision: \u001B[0;36m5991742f1a\u001B[m\r\n",
      "\u001B[K\r\n",
      "\u001B[2mexecutor >  local (1)\u001B[m\u001B[K\r\n",
      "\u001B[2m[\u001B[0;34mb5/a5182d\u001B[0;2m] \u001B[0;2m\u001B[mSAYHELLO\u001B[2m |\u001B[m 0 of 1\u001B[K\r\n",
      "\u001B[3A\r\n",
      "\u001B[2mexecutor >  local (1)\u001B[m\u001B[K\r\n",
      "\u001B[2m[\u001B[0;34mb5/a5182d\u001B[0;2m] \u001B[0;2m\u001B[mSAYHELLO\u001B[2m |\u001B[m 0 of 1\u001B[K\r\n",
      "\u001B[3A\r\n",
      "\u001B[2mexecutor >  local (1)\u001B[m\u001B[K\r\n",
      "\u001B[2m[\u001B[0;34mb5/a5182d\u001B[0;2m] \u001B[0;2m\u001B[mSAYHELLO\u001B[2m |\u001B[m 1 of 1\u001B[32m ✔\u001B[m\u001B[K\r\n",
      "Hello World!\u001B[K\r\n",
      "\u001B[K\r\n",
      "\r\n"
     ]
    }
   ],
   "execution_count": 79
  },
  {
   "cell_type": "code",
   "metadata": {
    "ExecuteTime": {
     "end_time": "2025-10-02T12:04:06.540655Z",
     "start_time": "2025-10-02T12:04:04.902202Z"
    }
   },
   "source": [
    "# Task 2 - create a process that says Hello World! using Python\n",
    "!nextflow run basics_processes.nf --step 2"
   ],
   "outputs": [
    {
     "name": "stdout",
     "output_type": "stream",
     "text": [
      "\r\n",
      "\u001B[1m\u001B[38;5;232m\u001B[48;5;43m N E X T F L O W \u001B[0;2m  ~  \u001B[mversion 25.04.7\u001B[m\r\n",
      "\u001B[K\r\n",
      "Launching\u001B[35m `basics_processes.nf` \u001B[0;2m[\u001B[0;1;36mhigh_ampere\u001B[0;2m] DSL2 - \u001B[36mrevision: \u001B[0;36m3a005eb91d\u001B[m\r\n",
      "\u001B[K\r\n",
      "\u001B[2mexecutor >  local (1)\u001B[m\u001B[K\r\n",
      "\u001B[2m[\u001B[0;34m9f/3ad6d4\u001B[0;2m] \u001B[0;2m\u001B[mSAYHELLO_PYTHON\u001B[2m |\u001B[m 0 of 1\u001B[K\r\n",
      "\u001B[3A\r\n",
      "\u001B[2mexecutor >  local (1)\u001B[m\u001B[K\r\n",
      "\u001B[2m[\u001B[0;34m9f/3ad6d4\u001B[0;2m] \u001B[0;2m\u001B[mSAYHELLO_PYTHON\u001B[2m |\u001B[m 1 of 1\u001B[32m ✔\u001B[m\u001B[K\r\n",
      "Hello World!\u001B[K\r\n",
      "\u001B[K\r\n",
      "\r\n"
     ]
    }
   ],
   "execution_count": 82
  },
  {
   "cell_type": "code",
   "metadata": {
    "ExecuteTime": {
     "end_time": "2025-10-02T12:06:19.508515Z",
     "start_time": "2025-10-02T12:06:17.905651Z"
    }
   },
   "source": [
    "# Task 3 - create a process that reads in the string \"Hello world!\" from a channel and write it to command line\n",
    "!nextflow run basics_processes.nf --step 3"
   ],
   "outputs": [
    {
     "name": "stdout",
     "output_type": "stream",
     "text": [
      "\r\n",
      "\u001B[1m\u001B[38;5;232m\u001B[48;5;43m N E X T F L O W \u001B[0;2m  ~  \u001B[mversion 25.04.7\u001B[m\r\n",
      "\u001B[K\r\n",
      "Launching\u001B[35m `basics_processes.nf` \u001B[0;2m[\u001B[0;1;36mwise_jones\u001B[0;2m] DSL2 - \u001B[36mrevision: \u001B[0;36m5ccbd56768\u001B[m\r\n",
      "\u001B[K\r\n",
      "\u001B[2mexecutor >  local (1)\u001B[m\u001B[K\r\n",
      "\u001B[2m[\u001B[0;34mf5/0134dc\u001B[0;2m] \u001B[0;2m\u001B[mSAYHELLO_PARAM\u001B[33;2m (\u001B[0;33m1\u001B[2m)\u001B[m\u001B[2m |\u001B[m 0 of 1\u001B[K\r\n",
      "\u001B[3A\r\n",
      "\u001B[2mexecutor >  local (1)\u001B[m\u001B[K\r\n",
      "\u001B[2m[\u001B[0;34mf5/0134dc\u001B[0;2m] \u001B[0;2m\u001B[mSAYHELLO_PARAM\u001B[33;2m (\u001B[0;33m1\u001B[2m)\u001B[m\u001B[2m |\u001B[m 1 of 1\u001B[32m ✔\u001B[m\u001B[K\r\n",
      "Hello world!\u001B[K\r\n",
      "\u001B[K\r\n",
      "\r\n"
     ]
    }
   ],
   "execution_count": 84
  },
  {
   "cell_type": "code",
   "metadata": {
    "ExecuteTime": {
     "end_time": "2025-10-02T12:07:20.645411Z",
     "start_time": "2025-10-02T12:07:18.748522Z"
    }
   },
   "source": [
    "# Task 4 - create a process that reads in the string \"Hello world!\" from a channel and write it to a file. \n",
    "!nextflow run basics_processes.nf --step 4"
   ],
   "outputs": [
    {
     "name": "stdout",
     "output_type": "stream",
     "text": [
      "\r\n",
      "\u001B[1m\u001B[38;5;232m\u001B[48;5;43m N E X T F L O W \u001B[0;2m  ~  \u001B[mversion 25.04.7\u001B[m\r\n",
      "\u001B[K\r\n",
      "Launching\u001B[35m `basics_processes.nf` \u001B[0;2m[\u001B[0;1;36mnostalgic_heisenberg\u001B[0;2m] DSL2 - \u001B[36mrevision: \u001B[0;36m91eed3fd8f\u001B[m\r\n",
      "\u001B[K\r\n",
      "\u001B[2m[\u001B[0;34m-        \u001B[0;2m] \u001B[0;2m\u001B[mSAYHELLO_FILE\u001B[2m |\u001B[m 0 of 1\u001B[K\r\n",
      "\u001B[2A\r\n",
      "\u001B[2mexecutor >  local (1)\u001B[m\u001B[K\r\n",
      "\u001B[2m[\u001B[0;34mf8/ad9798\u001B[0;2m] \u001B[0;2m\u001B[mSAYHELLO_FILE\u001B[33;2m (\u001B[0;33m1\u001B[2m)\u001B[m\u001B[2m |\u001B[m 1 of 1\u001B[32m ✔\u001B[m\u001B[K\r\n",
      "\r\n"
     ]
    }
   ],
   "execution_count": 85
  },
  {
   "cell_type": "markdown",
   "metadata": {},
   "source": [
    "It might be that you created the file but it doesnt appear in the directory. Use the work folder and the output on the command line to find the file.\n",
    "\n",
    "located in `/Users/patrick/Studium_Local/3.Sem/computational-workflows-2025/notebooks/day_04/work/f8/ad9798a402eb056b5b0553088b3cb6`"
   ]
  },
  {
   "cell_type": "code",
   "metadata": {
    "ExecuteTime": {
     "end_time": "2025-10-02T12:14:21.941102Z",
     "start_time": "2025-10-02T12:14:20.301528Z"
    }
   },
   "source": [
    "# Task 5 - create a process that reads in a string and converts it to uppercase and saves it to a file as output. View the path to the file in the console\n",
    "!nextflow run basics_processes.nf --step 5"
   ],
   "outputs": [
    {
     "name": "stdout",
     "output_type": "stream",
     "text": [
      "\r\n",
      "\u001B[1m\u001B[38;5;232m\u001B[48;5;43m N E X T F L O W \u001B[0;2m  ~  \u001B[mversion 25.04.7\u001B[m\r\n",
      "\u001B[K\r\n",
      "Launching\u001B[35m `basics_processes.nf` \u001B[0;2m[\u001B[0;1;36msick_kay\u001B[0;2m] DSL2 - \u001B[36mrevision: \u001B[0;36m24cdf13e76\u001B[m\r\n",
      "\u001B[K\r\n",
      "\u001B[2m[\u001B[0;34m-        \u001B[0;2m] \u001B[0;2m\u001B[mUPPERCASE -\u001B[K\r\n",
      "\u001B[2A\r\n",
      "\u001B[2mexecutor >  local (1)\u001B[m\u001B[K\r\n",
      "\u001B[2m[\u001B[0;34md9/a33ba5\u001B[0;2m] \u001B[0;2m\u001B[mUPPERCASE\u001B[33;2m (\u001B[0;33m1\u001B[2m)\u001B[m\u001B[2m |\u001B[m 1 of 1\u001B[32m ✔\u001B[m\u001B[K\r\n",
      "/Users/patrick/Studium_Local/3.Sem/computational-workflows-2025/notebooks/day_04/work/d9/a33ba5e09c832866ecc699a690b8c3/uppercase.txt\u001B[K\r\n",
      "\r\n"
     ]
    }
   ],
   "execution_count": 87
  },
  {
   "cell_type": "code",
   "metadata": {
    "ExecuteTime": {
     "end_time": "2025-10-02T12:17:24.113683Z",
     "start_time": "2025-10-02T12:17:22.464461Z"
    }
   },
   "source": [
    "# Task 6 - add another process that reads in the resulting file from UPPERCASE and print the content to the console (debug true).\n",
    "!nextflow run basics_processes.nf --step 6"
   ],
   "outputs": [
    {
     "name": "stdout",
     "output_type": "stream",
     "text": [
      "\r\n",
      "\u001B[1m\u001B[38;5;232m\u001B[48;5;43m N E X T F L O W \u001B[0;2m  ~  \u001B[mversion 25.04.7\u001B[m\r\n",
      "\u001B[K\r\n",
      "Launching\u001B[35m `basics_processes.nf` \u001B[0;2m[\u001B[0;1;36msilly_lavoisier\u001B[0;2m] DSL2 - \u001B[36mrevision: \u001B[0;36m76aa26fb82\u001B[m\r\n",
      "\u001B[K\r\n",
      "\u001B[2m[\u001B[0;34m-        \u001B[0;2m] \u001B[0;2m\u001B[mUPPERCASE  -\u001B[K\r\n",
      "\u001B[2m[\u001B[0;34m-        \u001B[0;2m] \u001B[0;2m\u001B[mPRINTUPPER -\u001B[K\r\n",
      "\u001B[3A\r\n",
      "\u001B[2mexecutor >  local (2)\u001B[m\u001B[K\r\n",
      "\u001B[2m[\u001B[0;34m4b/90b332\u001B[0;2m] \u001B[0;2m\u001B[mUPPERCASE\u001B[33;2m (\u001B[0;33m1\u001B[2m)\u001B[m \u001B[2m |\u001B[m 1 of 1\u001B[32m ✔\u001B[m\u001B[K\r\n",
      "\u001B[2m[\u001B[0;34m45/978eed\u001B[0;2m] \u001B[0;2m\u001B[mPRINTUPPER\u001B[33;2m (\u001B[0;33m1\u001B[2m)\u001B[m\u001B[2m |\u001B[m 1 of 1\u001B[32m ✔\u001B[m\u001B[K\r\n",
      "HELLO WORLD!\u001B[K\r\n",
      "\u001B[K\r\n",
      "\r\n"
     ]
    }
   ],
   "execution_count": 90
  },
  {
   "cell_type": "markdown",
   "metadata": {},
   "source": [
    "Comared to all the other runs. What changed in the output here and why?"
   ]
  },
  {
   "cell_type": "code",
   "metadata": {
    "ExecuteTime": {
     "end_time": "2025-10-02T12:21:32.341261Z",
     "start_time": "2025-10-02T12:21:30.694695Z"
    }
   },
   "source": [
    "# Task 7 - based on the paramater \"zip\" (see at the head of the file), create a process that zips the file created in the UPPERCASE process either in \"zip\", \"gzip\" OR \"bzip2\" format.\n",
    "#          Print out the path to the zipped file in the console\n",
    "!nextflow run basics_processes.nf --step 7"
   ],
   "outputs": [
    {
     "name": "stdout",
     "output_type": "stream",
     "text": [
      "\r\n",
      "\u001B[1m\u001B[38;5;232m\u001B[48;5;43m N E X T F L O W \u001B[0;2m  ~  \u001B[mversion 25.04.7\u001B[m\r\n",
      "\u001B[K\r\n",
      "Launching\u001B[35m `basics_processes.nf` \u001B[0;2m[\u001B[0;1;36msilly_curry\u001B[0;2m] DSL2 - \u001B[36mrevision: \u001B[0;36m7bdbead805\u001B[m\r\n",
      "\u001B[K\r\n",
      "\u001B[2m[\u001B[0;34m-        \u001B[0;2m] \u001B[0;2m\u001B[mUPPERCASE -\u001B[K\r\n",
      "\u001B[2m[\u001B[0;34m-        \u001B[0;2m] \u001B[0;2m\u001B[mZIP_FILE  -\u001B[K\r\n",
      "\u001B[3A\r\n",
      "\u001B[2mexecutor >  local (2)\u001B[m\u001B[K\r\n",
      "\u001B[2m[\u001B[0;34m85/0033ee\u001B[0;2m] \u001B[0;2m\u001B[mUPPERCASE\u001B[33;2m (\u001B[0;33m1\u001B[2m)\u001B[m\u001B[2m |\u001B[m 1 of 1\u001B[32m ✔\u001B[m\u001B[K\r\n",
      "\u001B[2m[\u001B[0;34me7/ee4e5f\u001B[0;2m] \u001B[0;2m\u001B[mZIP_FILE\u001B[33;2m (\u001B[0;33m1\u001B[2m)\u001B[m \u001B[2m |\u001B[m 1 of 1\u001B[32m ✔\u001B[m\u001B[K\r\n",
      "/Users/patrick/Studium_Local/3.Sem/computational-workflows-2025/notebooks/day_04/work/e7/ee4e5f811294f939ca544d45374c89/uppercase.txt.zip\u001B[K\r\n",
      "\r\n"
     ]
    }
   ],
   "execution_count": 95
  },
  {
   "cell_type": "code",
   "metadata": {
    "ExecuteTime": {
     "end_time": "2025-10-02T12:28:27.610226Z",
     "start_time": "2025-10-02T12:28:25.600061Z"
    }
   },
   "source": [
    "# Task 8 - Create a process that zips the file created in the UPPERCASE process in \"zip\", \"gzip\" AND \"bzip2\" format. Print out the paths to the zipped files in the console\n",
    "!nextflow run basics_processes.nf --step 8"
   ],
   "outputs": [
    {
     "name": "stdout",
     "output_type": "stream",
     "text": [
      "\r\n",
      "\u001B[1m\u001B[38;5;232m\u001B[48;5;43m N E X T F L O W \u001B[0;2m  ~  \u001B[mversion 25.04.7\u001B[m\r\n",
      "\u001B[K\r\n",
      "Launching\u001B[35m `basics_processes.nf` \u001B[0;2m[\u001B[0;1;36mspontaneous_planck\u001B[0;2m] DSL2 - \u001B[36mrevision: \u001B[0;36mbc54bf2f16\u001B[m\r\n",
      "\u001B[K\r\n",
      "\u001B[2m[\u001B[0;34m-        \u001B[0;2m] \u001B[0;2m\u001B[mUPPERCASE       -\u001B[K\r\n",
      "\u001B[2m[\u001B[0;34m-        \u001B[0;2m] \u001B[0;2m\u001B[mZIP_ALL_FORMATS -\u001B[K\r\n",
      "\u001B[3A\r\n",
      "\u001B[2mexecutor >  local (2)\u001B[m\u001B[K\r\n",
      "\u001B[2m[\u001B[0;34m38/3d2125\u001B[0;2m] \u001B[0;2m\u001B[mUPPERCASE\u001B[33;2m (\u001B[0;33m1\u001B[2m)\u001B[m      \u001B[2m |\u001B[m 1 of 1\u001B[32m ✔\u001B[m\u001B[K\r\n",
      "\u001B[2m[\u001B[0;34m74/223c1e\u001B[0;2m] \u001B[0;2m\u001B[mZIP_ALL_FORMATS\u001B[33;2m (\u001B[0;33m1\u001B[2m)\u001B[m\u001B[2m |\u001B[m 0 of 1\u001B[K\r\n",
      "\u001B[4A\r\n",
      "\u001B[2mexecutor >  local (2)\u001B[m\u001B[K\r\n",
      "\u001B[2m[\u001B[0;34m38/3d2125\u001B[0;2m] \u001B[0;2m\u001B[mUPPERCASE\u001B[33;2m (\u001B[0;33m1\u001B[2m)\u001B[m      \u001B[2m |\u001B[m 1 of 1\u001B[32m ✔\u001B[m\u001B[K\r\n",
      "\u001B[2m[\u001B[0;34m74/223c1e\u001B[0;2m] \u001B[0;2m\u001B[mZIP_ALL_FORMATS\u001B[33;2m (\u001B[0;33m1\u001B[2m)\u001B[m\u001B[2m |\u001B[m 1 of 1\u001B[32m ✔\u001B[m\u001B[K\r\n",
      "[/Users/patrick/Studium_Local/3.Sem/computational-workflows-2025/notebooks/day_04/work/74/223c1e15fffb31b33781b8e0e93d77/uppercase.txt.zip, /Users/patrick/Studium_Local/3.Sem/computational-workflows-2025/notebooks/day_04/work/74/223c1e15fffb31b33781b8e0e93d77/uppercase.txt.gz, /Users/patrick/Studium_Local/3.Sem/computational-workflows-2025/notebooks/day_04/work/74/223c1e15fffb31b33781b8e0e93d77/uppercase.txt.bz2]\u001B[K\r\n",
      "\r\n"
     ]
    }
   ],
   "execution_count": 101
  },
  {
   "cell_type": "code",
   "metadata": {
    "ExecuteTime": {
     "end_time": "2025-10-02T12:45:47.022307Z",
     "start_time": "2025-10-02T12:45:45.076596Z"
    }
   },
   "source": [
    " # Task 9 - Create a process that reads in a list of names and titles from a channel and writes them to a file.\n",
    "#           Store the file in the \"results\" directory under the name \"names.tsv\"\n",
    "!nextflow run basics_processes.nf --step 9"
   ],
   "outputs": [
    {
     "name": "stdout",
     "output_type": "stream",
     "text": [
      "\r\n",
      "\u001B[1m\u001B[38;5;232m\u001B[48;5;43m N E X T F L O W \u001B[0;2m  ~  \u001B[mversion 25.04.7\u001B[m\r\n",
      "\u001B[K\r\n",
      "Launching\u001B[35m `basics_processes.nf` \u001B[0;2m[\u001B[0;1;36mcompassionate_venter\u001B[0;2m] DSL2 - \u001B[36mrevision: \u001B[0;36m4ed3aea9c4\u001B[m\r\n",
      "\u001B[K\r\n",
      "\u001B[2m[\u001B[0;34m-        \u001B[0;2m] \u001B[0;2m\u001B[mWRITE_NAMES_TSV -\u001B[K\r\n",
      "\u001B[2A\r\n",
      "\u001B[2mexecutor >  local (7)\u001B[m\u001B[K\r\n",
      "\u001B[2m[\u001B[0;34mc4/21f1e1\u001B[0;2m] \u001B[0;2m\u001B[mWRITE_NAMES_TSV\u001B[33;2m (\u001B[0;33m7\u001B[2m)\u001B[m\u001B[2m |\u001B[m 7 of 7\u001B[32m ✔\u001B[m\u001B[K\r\n",
      "\u001B[3A\r\n",
      "\u001B[2mexecutor >  local (7)\u001B[m\u001B[K\r\n",
      "\u001B[2m[\u001B[0;34mc4/21f1e1\u001B[0;2m] \u001B[0;2m\u001B[mWRITE_NAMES_TSV\u001B[33;2m (\u001B[0;33m7\u001B[2m)\u001B[m\u001B[2m |\u001B[m 7 of 7\u001B[32m ✔\u001B[m\u001B[K\r\n",
      "\r\n"
     ]
    }
   ],
   "execution_count": 116
  },
  {
   "cell_type": "code",
   "metadata": {
    "ExecuteTime": {
     "end_time": "2025-10-06T07:22:56.937776Z",
     "start_time": "2025-10-06T07:22:56.906308Z"
    }
   },
   "source": [
    "import pandas as pd\n",
    "\n",
    "df = pd.read_csv(\"results/names.tsv\", sep=\"\\t\")\n",
    "df"
   ],
   "outputs": [
    {
     "data": {
      "text/plain": [
       "Empty DataFrame\n",
       "Columns: [Harry, Ron, Hermione, Albus, Snape, Hagrid, Dobby]\n",
       "Index: []"
      ],
      "text/html": [
       "<div>\n",
       "<style scoped>\n",
       "    .dataframe tbody tr th:only-of-type {\n",
       "        vertical-align: middle;\n",
       "    }\n",
       "\n",
       "    .dataframe tbody tr th {\n",
       "        vertical-align: top;\n",
       "    }\n",
       "\n",
       "    .dataframe thead th {\n",
       "        text-align: right;\n",
       "    }\n",
       "</style>\n",
       "<table border=\"1\" class=\"dataframe\">\n",
       "  <thead>\n",
       "    <tr style=\"text-align: right;\">\n",
       "      <th></th>\n",
       "      <th>Harry</th>\n",
       "      <th>Ron</th>\n",
       "      <th>Hermione</th>\n",
       "      <th>Albus</th>\n",
       "      <th>Snape</th>\n",
       "      <th>Hagrid</th>\n",
       "      <th>Dobby</th>\n",
       "    </tr>\n",
       "  </thead>\n",
       "  <tbody>\n",
       "  </tbody>\n",
       "</table>\n",
       "</div>"
      ]
     },
     "execution_count": 120,
     "metadata": {},
     "output_type": "execute_result"
    }
   ],
   "execution_count": 120
  },
  {
   "cell_type": "markdown",
   "metadata": {},
   "source": [
    "## Now, let's try some more advanced Operators"
   ]
  },
  {
   "cell_type": "markdown",
   "metadata": {},
   "source": [
    "Please answer the questions in $\\texttt{advanced\\_channel\\_operations.nf}$ and run the code here. "
   ]
  },
  {
   "cell_type": "markdown",
   "metadata": {},
   "source": [
    "To come closer to actual pipelines, we introduce the concept of \"meta-maps\" which you can imagine as dictionaries that are passed with data via channels containing crucial metadata on the sample. \n",
    "\n",
    "Also, we will come back to samplesheets which you should remember from last week."
   ]
  },
  {
   "cell_type": "code",
   "metadata": {
    "ExecuteTime": {
     "end_time": "2025-10-06T07:33:31.970704Z",
     "start_time": "2025-10-06T07:33:30.329843Z"
    }
   },
   "source": [
    "# Task 1 - Read in the samplesheet.\n",
    "\n",
    "!nextflow run advanced_channel_operations.nf --step 1"
   ],
   "outputs": [
    {
     "name": "stdout",
     "output_type": "stream",
     "text": [
      "\r\n",
      "\u001B[1m\u001B[38;5;232m\u001B[48;5;43m N E X T F L O W \u001B[0;2m  ~  \u001B[mversion 25.04.7\u001B[m\r\n",
      "\u001B[K\r\n",
      "Launching\u001B[35m `advanced_channel_operations.nf` \u001B[0;2m[\u001B[0;1;36mextravagant_saha\u001B[0;2m] DSL2 - \u001B[36mrevision: \u001B[0;36m67fb257db9\u001B[m\r\n",
      "\u001B[K\r\n",
      "[sample:CONTROL_REP1, fastq_1:fq_1_R1.fastq.gz, fastq_2:fq_1_R2.fastq.gz, strandedness:auto]\r\n",
      "[sample:CONTROL_REP2, fastq_1:fq_2_R1.fastq.gz, fastq_2:fq_2_R2.fastq.gz, strandedness:forward]\r\n",
      "[sample:CONTROL_REP3, fastq_1:fq_3_R1.fastq.gz, fastq_2:fq_3_R2.fastq.gz, strandedness:reverse]\r\n",
      "[sample:CONTROL_REP1, fastq_1:fq_4_R1.fastq.gz, fastq_2:fq_4_R2.fastq.gz, strandedness:auto]\r\n"
     ]
    }
   ],
   "execution_count": 126
  },
  {
   "cell_type": "code",
   "metadata": {
    "ExecuteTime": {
     "end_time": "2025-10-06T07:37:05.045045Z",
     "start_time": "2025-10-06T07:37:03.579542Z"
    }
   },
   "source": [
    "# Task 2 - Read in the samplesheet and create a meta-map with all metadata and another list with the filenames ([[metadata_1 : metadata_1, ...], [fastq_1, fastq_2]]).\n",
    "#          Set the output to a new channel \"in_ch\" and view the channel. YOU WILL NEED TO COPY AND PASTE THIS CODE INTO SOME OF THE FOLLOWING TASKS (sorry for that).\n",
    "\n",
    "!nextflow run advanced_channel_operations.nf --step 2"
   ],
   "outputs": [
    {
     "name": "stdout",
     "output_type": "stream",
     "text": [
      "\r\n",
      "\u001B[1m\u001B[38;5;232m\u001B[48;5;43m N E X T F L O W \u001B[0;2m  ~  \u001B[mversion 25.04.7\u001B[m\r\n",
      "\u001B[K\r\n",
      "Launching\u001B[35m `advanced_channel_operations.nf` \u001B[0;2m[\u001B[0;1;36mfestering_brenner\u001B[0;2m] DSL2 - \u001B[36mrevision: \u001B[0;36m6290c3cf76\u001B[m\r\n",
      "\u001B[K\r\n",
      "[[sample:CONTROL_REP1, strandedness:auto], [fq_1_R1.fastq.gz, fq_1_R2.fastq.gz]]\r\n",
      "[[sample:CONTROL_REP2, strandedness:forward], [fq_2_R1.fastq.gz, fq_2_R2.fastq.gz]]\r\n",
      "[[sample:CONTROL_REP3, strandedness:reverse], [fq_3_R1.fastq.gz, fq_3_R2.fastq.gz]]\r\n",
      "[[sample:CONTROL_REP1, strandedness:auto], [fq_4_R1.fastq.gz, fq_4_R2.fastq.gz]]\r\n"
     ]
    }
   ],
   "execution_count": 132
  },
  {
   "cell_type": "code",
   "metadata": {
    "ExecuteTime": {
     "end_time": "2025-10-06T07:59:55.501665Z",
     "start_time": "2025-10-06T07:59:54.081148Z"
    }
   },
   "source": [
    "# Task 3 - Now we assume that we want to handle different \"strandedness\" values differently. \n",
    "#          Split the channel into the right amount of channels and write them all to stdout so that we can understand which is which.\n",
    "\n",
    "!nextflow run advanced_channel_operations.nf --step 3 -dump-channels"
   ],
   "outputs": [
    {
     "name": "stdout",
     "output_type": "stream",
     "text": [
      "\r\n",
      "\u001B[1m\u001B[38;5;232m\u001B[48;5;43m N E X T F L O W \u001B[0;2m  ~  \u001B[mversion 25.04.7\u001B[m\r\n",
      "\u001B[K\r\n",
      "Launching\u001B[35m `advanced_channel_operations.nf` \u001B[0;2m[\u001B[0;1;36mawesome_pike\u001B[0;2m] DSL2 - \u001B[36mrevision: \u001B[0;36m80eac83d2a\u001B[m\r\n",
      "\u001B[K\r\n",
      "Strandedness=auto | meta=[CONTROL_REP1, CONTROL_REP1] | fastqs=[[fq_1_R1.fastq.gz, fq_1_R2.fastq.gz], [fq_4_R1.fastq.gz, fq_4_R2.fastq.gz]]\r\n",
      "Strandedness=forward | meta=[CONTROL_REP2] | fastqs=[[fq_2_R1.fastq.gz, fq_2_R2.fastq.gz]]\r\n",
      "Strandedness=reverse | meta=[CONTROL_REP3] | fastqs=[[fq_3_R1.fastq.gz, fq_3_R2.fastq.gz]]\r\n"
     ]
    }
   ],
   "execution_count": 156
  },
  {
   "cell_type": "code",
   "metadata": {
    "ExecuteTime": {
     "end_time": "2025-10-06T08:02:57.310767Z",
     "start_time": "2025-10-06T08:02:55.806038Z"
    }
   },
   "source": [
    "# Task 4 - Group together all files with the same sample-id and strandedness value.\n",
    "\n",
    "!nextflow run advanced_channel_operations.nf --step 4"
   ],
   "outputs": [
    {
     "name": "stdout",
     "output_type": "stream",
     "text": [
      "\r\n",
      "\u001B[1m\u001B[38;5;232m\u001B[48;5;43m N E X T F L O W \u001B[0;2m  ~  \u001B[mversion 25.04.7\u001B[m\r\n",
      "\u001B[K\r\n",
      "Launching\u001B[35m `advanced_channel_operations.nf` \u001B[0;2m[\u001B[0;1;36mconfident_ritchie\u001B[0;2m] DSL2 - \u001B[36mrevision: \u001B[0;36mc2c0d54224\u001B[m\r\n",
      "\u001B[K\r\n",
      "Strandedness=auto | meta=CONTROL_REP1 | fastqs=[[fq_1_R1.fastq.gz, fq_1_R2.fastq.gz], [fq_4_R1.fastq.gz, fq_4_R2.fastq.gz]]\r\n",
      "Strandedness=forward | meta=CONTROL_REP2 | fastqs=[[fq_2_R1.fastq.gz, fq_2_R2.fastq.gz]]\r\n",
      "Strandedness=reverse | meta=CONTROL_REP3 | fastqs=[[fq_3_R1.fastq.gz, fq_3_R2.fastq.gz]]\r\n"
     ]
    }
   ],
   "execution_count": 157
  },
  {
   "cell_type": "markdown",
   "metadata": {},
   "source": [
    "## It's finally time to link processes and channels with each other"
   ]
  },
  {
   "cell_type": "markdown",
   "metadata": {},
   "source": [
    "Please go to the file $\\texttt{link\\_p\\_c.nf}$"
   ]
  },
  {
   "cell_type": "code",
   "metadata": {
    "ExecuteTime": {
     "end_time": "2025-10-21T12:29:42.173246Z",
     "start_time": "2025-10-21T12:29:38.620210Z"
    }
   },
   "source": [
    "!nextflow run link_p_c.nf"
   ],
   "outputs": [
    {
     "name": "stdout",
     "output_type": "stream",
     "text": [
      "\u001B[33mNextflow 25.04.8 is available - Please consider updating your version to it\u001B[m\r\n",
      "\r\n",
      "\u001B[1m\u001B[38;5;232m\u001B[48;5;43m N E X T F L O W \u001B[0;2m  ~  \u001B[mversion 25.04.7\u001B[m\r\n",
      "\u001B[K\r\n",
      "Launching\u001B[35m `link_p_c.nf` \u001B[0;2m[\u001B[0;1;36mfestering_ochoa\u001B[0;2m] DSL2 - \u001B[36mrevision: \u001B[0;36m63550b7645\u001B[m\r\n",
      "\u001B[K\r\n",
      "\u001B[2m[\u001B[0;34m-        \u001B[0;2m] \u001B[0;2m\u001B[mSPLITLETTERS   -\u001B[K\r\n",
      "\u001B[2m[\u001B[0;34m-        \u001B[0;2m] \u001B[0;2m\u001B[mCONVERTTOUPPER -\u001B[K\r\n",
      "\u001B[3A\r\n",
      "\u001B[2mexecutor >  local (2)\u001B[m\u001B[K\r\n",
      "\u001B[2m[\u001B[0;34mbf/87a730\u001B[0;2m] \u001B[0;2m\u001B[mSPLITLETTERS\u001B[33;2m (\u001B[0;33m2\u001B[2m)\u001B[m\u001B[2m |\u001B[m 0 of 2\u001B[K\r\n",
      "\u001B[2m[\u001B[0;34m-        \u001B[0;2m] \u001B[0;2m\u001B[mCONVERTTOUPPER   -\u001B[K\r\n",
      "\u001B[4A\r\n",
      "\u001B[2mexecutor >  local (4)\u001B[m\u001B[K\r\n",
      "\u001B[2m[\u001B[0;34mbf/87a730\u001B[0;2m] \u001B[0;2m\u001B[mSPLITLETTERS\u001B[33;2m (\u001B[0;33m2\u001B[2m)\u001B[m  \u001B[2m |\u001B[m 2 of 2\u001B[32m ✔\u001B[m\u001B[K\r\n",
      "\u001B[2m[\u001B[0;34md8/bce0d1\u001B[0;2m] \u001B[0;2m\u001B[mCONVERTTOUPPER\u001B[33;2m (\u001B[0;33m2\u001B[2m)\u001B[m\u001B[2m |\u001B[m 0 of 2\u001B[K\r\n",
      "/Users/patrick/Studium_Local/3.Sem/computational-workflows-2025/notebooks/day_04/work/65/8f20183a191487e8a9784cf2582304/chunks/h_w_1.txt\u001B[K\r\n",
      "/Users/patrick/Studium_Local/3.Sem/computational-workflows-2025/notebooks/day_04/work/65/8f20183a191487e8a9784cf2582304/chunks/h_w_2.txt\u001B[K\r\n",
      "/Users/patrick/Studium_Local/3.Sem/computational-workflows-2025/notebooks/day_04/work/65/8f20183a191487e8a9784cf2582304/chunks/h_w_3.txt\u001B[K\r\n",
      "/Users/patrick/Studium_Local/3.Sem/computational-workflows-2025/notebooks/day_04/work/bf/87a730f7e3b18b1fb4704857b569bf/chunks/c_w_1.txt\u001B[K\r\n",
      "/Users/patrick/Studium_Local/3.Sem/computational-workflows-2025/notebooks/day_04/work/bf/87a730f7e3b18b1fb4704857b569bf/chunks/c_w_2.txt\u001B[K\r\n",
      "/Users/patrick/Studium_Local/3.Sem/computational-workflows-2025/notebooks/day_04/work/bf/87a730f7e3b18b1fb4704857b569bf/chunks/c_w_3.txt\u001B[K\r\n",
      "/Users/patrick/Studium_Local/3.Sem/computational-workflows-2025/notebooks/day_04/work/bf/87a730f7e3b18b1fb4704857b569bf/chunks/c_w_4.txt\u001B[K\r\n",
      "/Users/patrick/Studium_Local/3.Sem/computational-workflows-2025/notebooks/day_04/work/bf/87a730f7e3b18b1fb4704857b569bf/chunks/c_w_5.txt\u001B[K\r\n",
      "/Users/patrick/Studium_Local/3.Sem/computational-workflows-2025/notebooks/day_04/work/bf/87a730f7e3b18b1fb4704857b569bf/chunks/c_w_6.txt\u001B[K\r\n",
      "/Users/patrick/Studium_Local/3.Sem/computational-workflows-2025/notebooks/day_04/work/bf/87a730f7e3b18b1fb4704857b569bf/chunks/c_w_7.txt\u001B[K\r\n",
      "/Users/patrick/Studium_Local/3.Sem/computational-workflows-2025/notebooks/day_04/work/bf/87a730f7e3b18b1fb4704857b569bf/chunks/c_w_8.txt\u001B[K\r\n",
      "\u001B[15A\r\n",
      "\u001B[2mexecutor >  local (4)\u001B[m\u001B[K\r\n",
      "\u001B[2m[\u001B[0;34mbf/87a730\u001B[0;2m] \u001B[0;2m\u001B[mSPLITLETTERS\u001B[33;2m (\u001B[0;33m2\u001B[2m)\u001B[m  \u001B[2m |\u001B[m 2 of 2\u001B[32m ✔\u001B[m\u001B[K\r\n",
      "\u001B[2m[\u001B[0;34md8/bce0d1\u001B[0;2m] \u001B[0;2m\u001B[mCONVERTTOUPPER\u001B[33;2m (\u001B[0;33m2\u001B[2m)\u001B[m\u001B[2m |\u001B[m 2 of 2\u001B[32m ✔\u001B[m\u001B[K\r\n",
      "/Users/patrick/Studium_Local/3.Sem/computational-workflows-2025/notebooks/day_04/work/65/8f20183a191487e8a9784cf2582304/chunks/h_w_1.txt\u001B[K\r\n",
      "/Users/patrick/Studium_Local/3.Sem/computational-workflows-2025/notebooks/day_04/work/65/8f20183a191487e8a9784cf2582304/chunks/h_w_2.txt\u001B[K\r\n",
      "/Users/patrick/Studium_Local/3.Sem/computational-workflows-2025/notebooks/day_04/work/65/8f20183a191487e8a9784cf2582304/chunks/h_w_3.txt\u001B[K\r\n",
      "/Users/patrick/Studium_Local/3.Sem/computational-workflows-2025/notebooks/day_04/work/bf/87a730f7e3b18b1fb4704857b569bf/chunks/c_w_1.txt\u001B[K\r\n",
      "/Users/patrick/Studium_Local/3.Sem/computational-workflows-2025/notebooks/day_04/work/bf/87a730f7e3b18b1fb4704857b569bf/chunks/c_w_2.txt\u001B[K\r\n",
      "/Users/patrick/Studium_Local/3.Sem/computational-workflows-2025/notebooks/day_04/work/bf/87a730f7e3b18b1fb4704857b569bf/chunks/c_w_3.txt\u001B[K\r\n",
      "/Users/patrick/Studium_Local/3.Sem/computational-workflows-2025/notebooks/day_04/work/bf/87a730f7e3b18b1fb4704857b569bf/chunks/c_w_4.txt\u001B[K\r\n",
      "/Users/patrick/Studium_Local/3.Sem/computational-workflows-2025/notebooks/day_04/work/bf/87a730f7e3b18b1fb4704857b569bf/chunks/c_w_5.txt\u001B[K\r\n",
      "/Users/patrick/Studium_Local/3.Sem/computational-workflows-2025/notebooks/day_04/work/bf/87a730f7e3b18b1fb4704857b569bf/chunks/c_w_6.txt\u001B[K\r\n",
      "/Users/patrick/Studium_Local/3.Sem/computational-workflows-2025/notebooks/day_04/work/bf/87a730f7e3b18b1fb4704857b569bf/chunks/c_w_7.txt\u001B[K\r\n",
      "/Users/patrick/Studium_Local/3.Sem/computational-workflows-2025/notebooks/day_04/work/bf/87a730f7e3b18b1fb4704857b569bf/chunks/c_w_8.txt\u001B[K\r\n",
      "HELL\u001B[K\r\n",
      "O WO\u001B[K\r\n",
      "RLD\u001B[K\r\n",
      "\u001B[K\r\n",
      "COM\u001B[K\r\n",
      "PUT\u001B[K\r\n",
      "ATI\u001B[K\r\n",
      "ONA\u001B[K\r\n",
      "L W\u001B[K\r\n",
      "ORK\u001B[K\r\n",
      "FLO\u001B[K\r\n",
      "WS\u001B[K\r\n",
      "\u001B[K\r\n",
      "\r\n"
     ]
    }
   ],
   "execution_count": 1
  },
  {
   "cell_type": "markdown",
   "metadata": {},
   "source": [
    "### Give a list with the paths to the chunk files"
   ]
  },
  {
   "metadata": {},
   "cell_type": "markdown",
   "source": [
    "```/Users/patrick/Studium_Local/3.Sem/computational-workflows-2025/notebooks/day_04/work/d6/69c2c9226d25581496a80c7db9aa8c/chunks/c_w_1.txt\n",
    "/Users/patrick/Studium_Local/3.Sem/computational-workflows-2025/notebooks/day_04/work/d6/69c2c9226d25581496a80c7db9aa8c/chunks/c_w_2.txt\n",
    "/Users/patrick/Studium_Local/3.Sem/computational-workflows-2025/notebooks/day_04/work/d6/69c2c9226d25581496a80c7db9aa8c/chunks/c_w_3.txt\n",
    "/Users/patrick/Studium_Local/3.Sem/computational-workflows-2025/notebooks/day_04/work/d6/69c2c9226d25581496a80c7db9aa8c/chunks/c_w_4.txt\n",
    "/Users/patrick/Studium_Local/3.Sem/computational-workflows-2025/notebooks/day_04/work/d6/69c2c9226d25581496a80c7db9aa8c/chunks/c_w_5.txt\n",
    "/Users/patrick/Studium_Local/3.Sem/computational-workflows-2025/notebooks/day_04/work/d6/69c2c9226d25581496a80c7db9aa8c/chunks/c_w_6.txt\n",
    "/Users/patrick/Studium_Local/3.Sem/computational-workflows-2025/notebooks/day_04/work/d6/69c2c9226d25581496a80c7db9aa8c/chunks/c_w_7.txt\n",
    "/Users/patrick/Studium_Local/3.Sem/computational-workflows-2025/notebooks/day_04/work/d6/69c2c9226d25581496a80c7db9aa8c/chunks/c_w_8.txt\n",
    "/Users/patrick/Studium_Local/3.Sem/computational-workflows-2025/notebooks/day_04/work/26/6f7aae6cb4d37de37f269590efb8fb/chunks/h_w_1.txt\n",
    "/Users/patrick/Studium_Local/3.Sem/computational-workflows-2025/notebooks/day_04/work/26/6f7aae6cb4d37de37f269590efb8fb/chunks/h_w_2.txt\n",
    "/Users/patrick/Studium_Local/3.Sem/computational-workflows-2025/notebooks/day_04/work/26/6f7aae6cb4d37de37f269590efb8fb/chunks/h_w_3.txt```"
   ]
  },
  {
   "cell_type": "markdown",
   "metadata": {},
   "source": [
    "### Why was CONVERTTOUPPER run so often?"
   ]
  },
  {
   "metadata": {},
   "cell_type": "markdown",
   "source": "it was run once for each of the csv lines"
  }
 ],
 "metadata": {
  "kernelspec": {
   "display_name": "work",
   "language": "python",
   "name": "python3"
  },
  "language_info": {
   "codemirror_mode": {
    "name": "ipython",
    "version": 3
   },
   "file_extension": ".py",
   "mimetype": "text/x-python",
   "name": "python",
   "nbconvert_exporter": "python",
   "pygments_lexer": "ipython3",
   "version": "3.10.13"
  }
 },
 "nbformat": 4,
 "nbformat_minor": 2
}
