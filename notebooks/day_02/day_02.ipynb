{
 "cells": [
  {
   "cell_type": "markdown",
   "metadata": {},
   "source": [
    "# Day 2\n",
    "\n",
    "Today, we will start using nf-core pipelines to find differentially abundant genes in our dataset. \n",
    "We are using data from the following paper: https://www.nature.com/articles/s41593-023-01350-3#Sec10"
   ]
  },
  {
   "cell_type": "markdown",
   "metadata": {
    "vscode": {
     "languageId": "plaintext"
    }
   },
   "source": [
    "1. Please take some time to read through the paper and understand their approach, hypotheses and goals."
   ]
  },
  {
   "cell_type": "markdown",
   "metadata": {
    "vscode": {
     "languageId": "plaintext"
    }
   },
   "source": [
    "What was the objective of the study?"
   ]
  },
  {
   "metadata": {},
   "cell_type": "markdown",
   "source": "Investigate the effects of oxycodone withdrawal during absence / presence of chronic pain with additional treatment by HDAC1/2 inhibition by RBC1HI. Exploration of novel treatments for patients with opioid dependence to lessen withdrawal symptoms and aid transition to non-opioid drugs."
  },
  {
   "cell_type": "markdown",
   "metadata": {
    "vscode": {
     "languageId": "plaintext"
    }
   },
   "source": [
    "What do the conditions mean?"
   ]
  },
  {
   "cell_type": "markdown",
   "metadata": {},
   "source": [
    "oxy: oxycodone administered\n",
    "\n",
    "\n",
    "sal: saline administered in place of oxycodone"
   ]
  },
  {
   "cell_type": "markdown",
   "metadata": {},
   "source": [
    "What do the genotypes mean?"
   ]
  },
  {
   "cell_type": "markdown",
   "metadata": {},
   "source": [
    "SNI:spared nerve injury, mice were given surgery to induce chronic pain\n",
    "\n",
    "\n",
    "Sham: no chronic pain but sham surgery was performed to normalize for surgical stress"
   ]
  },
  {
   "cell_type": "markdown",
   "metadata": {},
   "source": [
    "**Imagine you are the bioinformatician in the group who conducted this study. They hand you the raw files and ask you to analyze them.**\n",
    "\n",
    "What would you do? organize files by treatment conditions in the four possible combinations given in the matrix below:\n",
    "\n",
    "|          | Oxy        | Sal        |\n",
    "|----------|------------|------------|\n",
    "| **Sham** | Sham - Oxy | Sham - Sal |\n",
    "| **SNI**  | SNI - Oxy  | SNI - Sal  |\n",
    "\n",
    "**Which groups would you compare to each other?**\n",
    "\n",
    "compare those sharing at least one condition, i.e. horizontally and vertically across the treatment matrix above such that one of two variables is always constant and controlled for\n",
    "\n",
    "**Please also mention which outcome you would expect to see from each comparison.**\n",
    "\n",
    "Sham surgery should lead to lessened addiction as no chronic pain is present, saline injected mice should not be addicted as no opioids were present"
   ]
  },
  {
   "cell_type": "markdown",
   "metadata": {},
   "source": [
    "Your group gave you a very suboptimal excel sheet (conditions_runs_oxy_project.xlsx) to get the information you need for each run they uploaded to the SRA.<br>\n",
    "So, instead of directly diving into downloading the data and starting the analysis, you first need to sort the lazy table.<br>\n",
    "Use Python and Pandas to get the table into a more sensible order.<br>\n",
    "Then, perform some overview analysis and plot the results\n",
    "1. How many samples do you have per condition?\n",
    "2. How many samples do you have per genotype?\n",
    "3. How often do you have each condition per genotype?"
   ]
  },
  {
   "cell_type": "code",
   "metadata": {
    "ExecuteTime": {
     "end_time": "2025-09-30T07:58:23.076080Z",
     "start_time": "2025-09-30T07:58:23.064103Z"
    }
   },
   "source": [
    "import pandas as pd\n",
    "conditions = pd.read_excel('conditions_runs_oxy_project.xlsx', index_col='Run').drop(columns='Patient').notna()\n",
    "conditions.columns = conditions.columns.str.lower() # make column names uniform"
   ],
   "outputs": [],
   "execution_count": 16
  },
  {
   "cell_type": "code",
   "metadata": {
    "ExecuteTime": {
     "end_time": "2025-09-30T07:58:30.642267Z",
     "start_time": "2025-09-30T07:58:30.640172Z"
    }
   },
   "source": [
    "\n",
    "print(f'Oxycodone True count: {conditions['condition: oxy'].sum()}')\n",
    "print(f'Saline True count: {conditions['condition: sal'].sum()}')"
   ],
   "outputs": [
    {
     "name": "stdout",
     "output_type": "stream",
     "text": [
      "Oxycodone True count: 8\n",
      "Saline True count: 8\n"
     ]
    }
   ],
   "execution_count": 17
  },
  {
   "cell_type": "code",
   "metadata": {
    "ExecuteTime": {
     "end_time": "2025-09-30T08:00:35.217653Z",
     "start_time": "2025-09-30T08:00:35.213670Z"
    }
   },
   "source": [
    "print(f'SNI-Oxy Count: {conditions[conditions['condition: oxy']]['genotype: sni'].sum()}')\n",
    "print(f'SNI-Saline Count: {conditions[conditions['condition: sal']]['genotype: sni'].sum()}')\n",
    "print(f'SHAM-Oxy Count: {conditions[conditions['condition: oxy']]['genotype: sham'].sum()}')\n",
    "print(f'SHAM-Saline Count: {conditions[conditions['condition: sal']]['genotype: sham'].sum()}')"
   ],
   "outputs": [
    {
     "name": "stdout",
     "output_type": "stream",
     "text": [
      "SNI-Oxy Count: 4\n",
      "SNI-Saline Count: 4\n",
      "SHAM-Oxy Count: 4\n",
      "SHAM-Saline Count: 4\n"
     ]
    }
   ],
   "execution_count": 21
  },
  {
   "cell_type": "markdown",
   "metadata": {},
   "source": [
    "pThey were so kind to also provide you with the information of the number of bases per run, so that you can know how much space the data will take on your Cluster.<br>\n",
    "Add a new column to your fancy table with this information (base_counts.csv) and sort your dataframe according to this information and the condition.\n",
    "\n",
    "Then select the 2 smallest runs from your dataset and download them from SRA (maybe an nf-core pipeline can help here?...)"
   ]
  },
  {
   "cell_type": "code",
   "metadata": {
    "ExecuteTime": {
     "end_time": "2025-09-30T08:01:23.399801Z",
     "start_time": "2025-09-30T08:01:23.384204Z"
    }
   },
   "source": "conditions['base_counts'] = pd.read_csv('base_counts.csv', index_col='Run')",
   "outputs": [],
   "execution_count": 22
  },
  {
   "cell_type": "code",
   "metadata": {
    "ExecuteTime": {
     "end_time": "2025-09-30T08:03:15.073714Z",
     "start_time": "2025-09-30T08:03:15.068184Z"
    }
   },
   "source": "print(conditions.sort_values('base_counts', ascending=True).head(2))",
   "outputs": [
    {
     "name": "stdout",
     "output_type": "stream",
     "text": [
      "             rna-seq  dna-seq  condition: sal  condition: oxy  genotype: sni  \\\n",
      "Run                                                                            \n",
      "SRR23195516     True    False           False            True           True   \n",
      "SRR23195511     True    False           False            True          False   \n",
      "\n",
      "             genotype: sham  base_counts  \n",
      "Run                                       \n",
      "SRR23195516           False   6203117700  \n",
      "SRR23195511            True   6456390900  \n"
     ]
    }
   ],
   "execution_count": 24
  },
  {
   "cell_type": "code",
   "metadata": {
    "ExecuteTime": {
     "end_time": "2025-09-30T08:07:05.875615Z",
     "start_time": "2025-09-30T08:07:05.870787Z"
    }
   },
   "source": "conditions.sort_values('base_counts', ascending=True).head(2).index.to_series().to_csv('fetch_runs.csv', index=False, header=False)",
   "outputs": [],
   "execution_count": 28
  },
  {
   "metadata": {
    "ExecuteTime": {
     "end_time": "2025-09-30T08:20:22.904626Z",
     "start_time": "2025-09-30T08:10:46.009851Z"
    }
   },
   "cell_type": "code",
   "source": [
    "!nextflow run nf-core/fetchngs \\\n",
    "   -profile docker \\\n",
    "   --input fetch_runs.csv \\\n",
    "   --outdir fetch_out"
   ],
   "outputs": [
    {
     "name": "stdout",
     "output_type": "stream",
     "text": [
      "\r\n",
      "\u001B[1m\u001B[38;5;232m\u001B[48;5;43m N E X T F L O W \u001B[0;2m  ~  \u001B[mversion 25.04.7\u001B[m\r\n",
      "\u001B[K\r\n",
      "Launching\u001B[35m `https://github.com/nf-core/fetchngs` \u001B[0;2m[\u001B[0;1;36mhappy_jepsen\u001B[0;2m] DSL2 - \u001B[36mrevision: \u001B[0;36m8ec2d934f9 [master]\u001B[m\r\n",
      "\u001B[K\r\n",
      "\u001B[33mWARN: Access to undefined parameter `monochromeLogs` -- Initialise it to a default value eg. `params.monochromeLogs = some_value`\u001B[39m\u001B[K\r\n",
      "\r\n",
      "\r\n",
      "-\u001B[2m----------------------------------------------------\u001B[0m-\r\n",
      "                                        \u001B[0;32m,--.\u001B[0;30m/\u001B[0;32m,-.\u001B[0m\r\n",
      "\u001B[0;34m        ___     __   __   __   ___     \u001B[0;32m/,-._.--~'\u001B[0m\r\n",
      "\u001B[0;34m  |\\ | |__  __ /  ` /  \\ |__) |__         \u001B[0;33m}  {\u001B[0m\r\n",
      "\u001B[0;34m  | \\| |       \\__, \\__/ |  \\ |___     \u001B[0;32m\\`-._,-`-,\u001B[0m\r\n",
      "                                        \u001B[0;32m`._,._,'\u001B[0m\r\n",
      "\u001B[0;35m  nf-core/fetchngs v1.12.0-g8ec2d93\u001B[0m\r\n",
      "-\u001B[2m----------------------------------------------------\u001B[0m-\r\n",
      "\u001B[1mCore Nextflow options\u001B[0m\r\n",
      "  \u001B[0;34mrevision       : \u001B[0;32mmaster\u001B[0m\r\n",
      "  \u001B[0;34mrunName        : \u001B[0;32mhappy_jepsen\u001B[0m\r\n",
      "  \u001B[0;34mcontainerEngine: \u001B[0;32mdocker\u001B[0m\r\n",
      "  \u001B[0;34mlaunchDir      : \u001B[0;32m/Users/patrick/Studium_Local/3.Sem/computational-workflows-2025/notebooks/day_02\u001B[0m\r\n",
      "  \u001B[0;34mworkDir        : \u001B[0;32m/Users/patrick/Studium_Local/3.Sem/computational-workflows-2025/notebooks/day_02/work\u001B[0m\r\n",
      "  \u001B[0;34mprojectDir     : \u001B[0;32m/Users/patrick/.nextflow/assets/nf-core/fetchngs\u001B[0m\r\n",
      "  \u001B[0;34muserName       : \u001B[0;32mpatrick\u001B[0m\r\n",
      "  \u001B[0;34mprofile        : \u001B[0;32mdocker\u001B[0m\r\n",
      "  \u001B[0;34mconfigFiles    : \u001B[0;32m\u001B[0m\r\n",
      "\r\n",
      "\u001B[1mInput/output options\u001B[0m\r\n",
      "  \u001B[0;34minput          : \u001B[0;32mfetch_runs.csv\u001B[0m\r\n",
      "  \u001B[0;34moutdir         : \u001B[0;32mfetch_out\u001B[0m\r\n",
      "\r\n",
      "!! Only displaying parameters that differ from the pipeline defaults !!\r\n",
      "-\u001B[2m----------------------------------------------------\u001B[0m-\r\n",
      "If you use nf-core/fetchngs for your analysis please cite:\r\n",
      "\r\n",
      "* The pipeline\r\n",
      "  https://doi.org/10.5281/zenodo.5070524\r\n",
      "\r\n",
      "* The nf-core framework\r\n",
      "  https://doi.org/10.1038/s41587-020-0439-x\r\n",
      "\r\n",
      "* Software dependencies\r\n",
      "  https://github.com/nf-core/fetchngs/blob/master/CITATIONS.md\r\n",
      "-\u001B[2m----------------------------------------------------\u001B[0m-\r\n",
      "\u001B[2mexecutor >  local (2)\u001B[m\u001B[K\r\n",
      "\u001B[2m[\u001B[0;34m00/08e30c\u001B[0;2m] \u001B[0;2m\u001B[mNFC…S_TO_RUNINFO\u001B[33;2m (\u001B[0;33mSRR23195511\u001B[2m)\u001B[m\u001B[2m |\u001B[m 0 of 2\u001B[K\r\n",
      "\u001B[2m[\u001B[0;34m-        \u001B[0;2m] \u001B[0;2mNFC…NGS:SRA:\u001B[mSRA_RUNINFO_TO_FTP -\u001B[K\r\n",
      "\u001B[2m[\u001B[0;34m-        \u001B[0;2m] \u001B[0;2mNFC…FETCHNGS:SRA:\u001B[mSRA_FASTQ_FTP -\u001B[K\r\n",
      "\u001B[2m[\u001B[0;34m-        \u001B[0;2m] \u001B[0;2m\u001B[mNFC…USTOM_SRATOOLSNCBISETTINGS -\u001B[K\r\n",
      "\u001B[2m[\u001B[0;34m-        \u001B[0;2m] \u001B[0;2mNFC…SRATOOLS:\u001B[mSRATOOLS_PREFETCH -\u001B[K\r\n",
      "\u001B[2m[\u001B[0;34m-        \u001B[0;2m] \u001B[0;2mNFC…TOOLS:\u001B[mSRATOOLS_FASTERQDUMP -\u001B[K\r\n",
      "\u001B[2m[\u001B[0;34m-        \u001B[0;2m] \u001B[0;2mNFCORE_FETCHNGS:SRA:\u001B[mASPERA_CLI -\u001B[K\r\n",
      "\u001B[2m[\u001B[0;34m-        \u001B[0;2m] \u001B[0;2mNFC…NGS:SRA:\u001B[mSRA_TO_SAMPLESHEET -\u001B[K\r\n",
      "\u001B[2m[\u001B[0;34m-        \u001B[0;2m] \u001B[0;2mNFC…RA:\u001B[mMULTIQC_MAPPINGS_CONFIG -\u001B[K\r\n",
      "\u001B[11A\r\n",
      "\u001B[2mexecutor >  local (2)\u001B[m\u001B[K\r\n",
      "\u001B[2m[\u001B[0;34m00/08e30c\u001B[0;2m] \u001B[0;2m\u001B[mNFC…S_TO_RUNINFO\u001B[33;2m (\u001B[0;33mSRR23195511\u001B[2m)\u001B[m\u001B[2m |\u001B[m 0 of 2\u001B[K\r\n",
      "\u001B[2m[\u001B[0;34m-        \u001B[0;2m] \u001B[0;2mNFC…NGS:SRA:\u001B[mSRA_RUNINFO_TO_FTP -\u001B[K\r\n",
      "\u001B[2m[\u001B[0;34m-        \u001B[0;2m] \u001B[0;2mNFC…FETCHNGS:SRA:\u001B[mSRA_FASTQ_FTP -\u001B[K\r\n",
      "\u001B[2m[\u001B[0;34m-        \u001B[0;2m] \u001B[0;2m\u001B[mNFC…USTOM_SRATOOLSNCBISETTINGS -\u001B[K\r\n",
      "\u001B[2m[\u001B[0;34m-        \u001B[0;2m] \u001B[0;2mNFC…SRATOOLS:\u001B[mSRATOOLS_PREFETCH -\u001B[K\r\n",
      "\u001B[2m[\u001B[0;34m-        \u001B[0;2m] \u001B[0;2mNFC…TOOLS:\u001B[mSRATOOLS_FASTERQDUMP -\u001B[K\r\n",
      "\u001B[2m[\u001B[0;34m-        \u001B[0;2m] \u001B[0;2mNFCORE_FETCHNGS:SRA:\u001B[mASPERA_CLI -\u001B[K\r\n",
      "\u001B[2m[\u001B[0;34m-        \u001B[0;2m] \u001B[0;2mNFC…NGS:SRA:\u001B[mSRA_TO_SAMPLESHEET -\u001B[K\r\n",
      "\u001B[2m[\u001B[0;34m-        \u001B[0;2m] \u001B[0;2mNFC…RA:\u001B[mMULTIQC_MAPPINGS_CONFIG -\u001B[K\r\n",
      "\u001B[11A\r\n",
      "\u001B[2mexecutor >  local (3)\u001B[m\u001B[K\r\n",
      "\u001B[2m[\u001B[0;34mbb/85164d\u001B[0;2m] \u001B[0;2m\u001B[mNFC…S_TO_RUNINFO\u001B[33;2m (\u001B[0;33mSRR23195516\u001B[2m)\u001B[m\u001B[2m |\u001B[m 1 of 2\u001B[K\r\n",
      "\u001B[2m[\u001B[0;34m69/ff86ea\u001B[0;2m] \u001B[0;2mNFC…SRA:\u001B[mSRA_RUNINFO_TO_FTP\u001B[33;2m (\u001B[0;33m1\u001B[2m)\u001B[m\u001B[2m |\u001B[m 0 of 1\u001B[K\r\n",
      "\u001B[2m[\u001B[0;34m-        \u001B[0;2m] \u001B[0;2mNFC…FETCHNGS:SRA:\u001B[mSRA_FASTQ_FTP -\u001B[K\r\n",
      "\u001B[2m[\u001B[0;34m-        \u001B[0;2m] \u001B[0;2m\u001B[mNFC…USTOM_SRATOOLSNCBISETTINGS -\u001B[K\r\n",
      "\u001B[2m[\u001B[0;34m-        \u001B[0;2m] \u001B[0;2mNFC…SRATOOLS:\u001B[mSRATOOLS_PREFETCH -\u001B[K\r\n",
      "\u001B[2m[\u001B[0;34m-        \u001B[0;2m] \u001B[0;2mNFC…TOOLS:\u001B[mSRATOOLS_FASTERQDUMP -\u001B[K\r\n",
      "\u001B[2m[\u001B[0;34m-        \u001B[0;2m] \u001B[0;2mNFCORE_FETCHNGS:SRA:\u001B[mASPERA_CLI -\u001B[K\r\n",
      "\u001B[2m[\u001B[0;34m-        \u001B[0;2m] \u001B[0;2mNFC…NGS:SRA:\u001B[mSRA_TO_SAMPLESHEET -\u001B[K\r\n",
      "\u001B[2m[\u001B[0;34m-        \u001B[0;2m] \u001B[0;2mNFC…RA:\u001B[mMULTIQC_MAPPINGS_CONFIG -\u001B[K\r\n",
      "\u001B[11A\r\n",
      "\u001B[2mexecutor >  local (4)\u001B[m\u001B[K\r\n",
      "\u001B[2m[\u001B[0;34m00/08e30c\u001B[0;2m] \u001B[0;2m\u001B[mNFC…S_TO_RUNINFO\u001B[33;2m (\u001B[0;33mSRR23195511\u001B[2m)\u001B[m\u001B[2m |\u001B[m 2 of 2\u001B[32m ✔\u001B[m\u001B[K\r\n",
      "\u001B[2m[\u001B[0;34m56/52b517\u001B[0;2m] \u001B[0;2mNFC…SRA:\u001B[mSRA_RUNINFO_TO_FTP\u001B[33;2m (\u001B[0;33m2\u001B[2m)\u001B[m\u001B[2m |\u001B[m 0 of 2\u001B[K\r\n",
      "\u001B[2m[\u001B[0;34m-        \u001B[0;2m] \u001B[0;2mNFC…FETCHNGS:SRA:\u001B[mSRA_FASTQ_FTP -\u001B[K\r\n",
      "\u001B[2m[\u001B[0;34m-        \u001B[0;2m] \u001B[0;2m\u001B[mNFC…USTOM_SRATOOLSNCBISETTINGS -\u001B[K\r\n",
      "\u001B[2m[\u001B[0;34m-        \u001B[0;2m] \u001B[0;2mNFC…SRATOOLS:\u001B[mSRATOOLS_PREFETCH -\u001B[K\r\n",
      "\u001B[2m[\u001B[0;34m-        \u001B[0;2m] \u001B[0;2mNFC…TOOLS:\u001B[mSRATOOLS_FASTERQDUMP -\u001B[K\r\n",
      "\u001B[2m[\u001B[0;34m-        \u001B[0;2m] \u001B[0;2mNFCORE_FETCHNGS:SRA:\u001B[mASPERA_CLI -\u001B[K\r\n",
      "\u001B[2m[\u001B[0;34m-        \u001B[0;2m] \u001B[0;2mNFC…NGS:SRA:\u001B[mSRA_TO_SAMPLESHEET -\u001B[K\r\n",
      "\u001B[2m[\u001B[0;34m-        \u001B[0;2m] \u001B[0;2mNFC…RA:\u001B[mMULTIQC_MAPPINGS_CONFIG -\u001B[K\r\n",
      "\u001B[11A\r\n",
      "\u001B[2mexecutor >  local (5)\u001B[m\u001B[K\r\n",
      "\u001B[2m[\u001B[0;34m00/08e30c\u001B[0;2m] \u001B[0;2m\u001B[mNFC…S_TO_RUNINFO\u001B[33;2m (\u001B[0;33mSRR23195511\u001B[2m)\u001B[m\u001B[2m |\u001B[m 2 of 2\u001B[32m ✔\u001B[m\u001B[K\r\n",
      "\u001B[2m[\u001B[0;34m69/ff86ea\u001B[0;2m] \u001B[0;2mNFC…SRA:\u001B[mSRA_RUNINFO_TO_FTP\u001B[33;2m (\u001B[0;33m1\u001B[2m)\u001B[m\u001B[2m |\u001B[m 2 of 2\u001B[32m ✔\u001B[m\u001B[K\r\n",
      "\u001B[2m[\u001B[0;34m63/25d24f\u001B[0;2m] \u001B[0;2m\u001B[mNFC…\u001B[33;2m (\u001B[0;33mSRX19144486_SRR23195516\u001B[2m)\u001B[m\u001B[2m |\u001B[m 0 of 2\u001B[K\r\n",
      "\u001B[2m[\u001B[0;34m-        \u001B[0;2m] \u001B[0;2m\u001B[mNFC…USTOM_SRATOOLSNCBISETTINGS -\u001B[K\r\n",
      "\u001B[2m[\u001B[0;34m-        \u001B[0;2m] \u001B[0;2mNFC…SRATOOLS:\u001B[mSRATOOLS_PREFETCH -\u001B[K\r\n",
      "\u001B[2m[\u001B[0;34m-        \u001B[0;2m] \u001B[0;2mNFC…TOOLS:\u001B[mSRATOOLS_FASTERQDUMP -\u001B[K\r\n",
      "\u001B[2m[\u001B[0;34m-        \u001B[0;2m] \u001B[0;2mNFCORE_FETCHNGS:SRA:\u001B[mASPERA_CLI -\u001B[K\r\n",
      "\u001B[2m[\u001B[0;34m-        \u001B[0;2m] \u001B[0;2mNFC…NGS:SRA:\u001B[mSRA_TO_SAMPLESHEET -\u001B[K\r\n",
      "\u001B[2m[\u001B[0;34m-        \u001B[0;2m] \u001B[0;2mNFC…RA:\u001B[mMULTIQC_MAPPINGS_CONFIG -\u001B[K\r\n",
      "\u001B[11A\r\n",
      "\u001B[2mexecutor >  local (6)\u001B[m\u001B[K\r\n",
      "\u001B[2m[\u001B[0;34m00/08e30c\u001B[0;2m] \u001B[0;2m\u001B[mNFC…S_TO_RUNINFO\u001B[33;2m (\u001B[0;33mSRR23195511\u001B[2m)\u001B[m\u001B[2m |\u001B[m 2 of 2\u001B[32m ✔\u001B[m\u001B[K\r\n",
      "\u001B[2m[\u001B[0;34m69/ff86ea\u001B[0;2m] \u001B[0;2mNFC…SRA:\u001B[mSRA_RUNINFO_TO_FTP\u001B[33;2m (\u001B[0;33m1\u001B[2m)\u001B[m\u001B[2m |\u001B[m 2 of 2\u001B[32m ✔\u001B[m\u001B[K\r\n",
      "\u001B[2m[\u001B[0;34m86/134bd3\u001B[0;2m] \u001B[0;2m\u001B[mNFC…\u001B[33;2m (\u001B[0;33mSRX19144488_SRR23195511\u001B[2m)\u001B[m\u001B[2m |\u001B[m 0 of 2\u001B[K\r\n",
      "\u001B[2m[\u001B[0;34m-        \u001B[0;2m] \u001B[0;2m\u001B[mNFC…USTOM_SRATOOLSNCBISETTINGS -\u001B[K\r\n",
      "\u001B[2m[\u001B[0;34m-        \u001B[0;2m] \u001B[0;2mNFC…SRATOOLS:\u001B[mSRATOOLS_PREFETCH -\u001B[K\r\n",
      "\u001B[2m[\u001B[0;34m-        \u001B[0;2m] \u001B[0;2mNFC…TOOLS:\u001B[mSRATOOLS_FASTERQDUMP -\u001B[K\r\n",
      "\u001B[2m[\u001B[0;34m-        \u001B[0;2m] \u001B[0;2mNFCORE_FETCHNGS:SRA:\u001B[mASPERA_CLI -\u001B[K\r\n",
      "\u001B[2m[\u001B[0;34m-        \u001B[0;2m] \u001B[0;2mNFC…NGS:SRA:\u001B[mSRA_TO_SAMPLESHEET -\u001B[K\r\n",
      "\u001B[2m[\u001B[0;34m-        \u001B[0;2m] \u001B[0;2mNFC…RA:\u001B[mMULTIQC_MAPPINGS_CONFIG -\u001B[K\r\n",
      "\u001B[11A\r\n",
      "\u001B[2mexecutor >  local (7)\u001B[m\u001B[K\r\n",
      "\u001B[2m[\u001B[0;34m00/08e30c\u001B[0;2m] \u001B[0;2m\u001B[mNFC…S_TO_RUNINFO\u001B[33;2m (\u001B[0;33mSRR23195511\u001B[2m)\u001B[m\u001B[2m |\u001B[m 2 of 2\u001B[32m ✔\u001B[m\u001B[K\r\n",
      "\u001B[2m[\u001B[0;34m69/ff86ea\u001B[0;2m] \u001B[0;2mNFC…SRA:\u001B[mSRA_RUNINFO_TO_FTP\u001B[33;2m (\u001B[0;33m1\u001B[2m)\u001B[m\u001B[2m |\u001B[m 2 of 2\u001B[32m ✔\u001B[m\u001B[K\r\n",
      "\u001B[2m[\u001B[0;34m63/25d24f\u001B[0;2m] \u001B[0;2m\u001B[mNFC…\u001B[33;2m (\u001B[0;33mSRX19144486_SRR23195516\u001B[2m)\u001B[m\u001B[2m |\u001B[m 1 of 2\u001B[K\r\n",
      "\u001B[2m[\u001B[0;34m-        \u001B[0;2m] \u001B[0;2m\u001B[mNFC…USTOM_SRATOOLSNCBISETTINGS -\u001B[K\r\n",
      "\u001B[2m[\u001B[0;34m-        \u001B[0;2m] \u001B[0;2mNFC…SRATOOLS:\u001B[mSRATOOLS_PREFETCH -\u001B[K\r\n",
      "\u001B[2m[\u001B[0;34m-        \u001B[0;2m] \u001B[0;2mNFC…TOOLS:\u001B[mSRATOOLS_FASTERQDUMP -\u001B[K\r\n",
      "\u001B[2m[\u001B[0;34m-        \u001B[0;2m] \u001B[0;2mNFCORE_FETCHNGS:SRA:\u001B[mASPERA_CLI -\u001B[K\r\n",
      "\u001B[2m[\u001B[0;34mf4/dc9576\u001B[0;2m] \u001B[0;2m\u001B[mNFC…\u001B[33;2m (\u001B[0;33mSRX19144486_SRR23195516\u001B[2m)\u001B[m\u001B[2m |\u001B[m 1 of 1\u001B[K\r\n",
      "\u001B[2m[\u001B[0;34m-        \u001B[0;2m] \u001B[0;2mNFC…RA:\u001B[mMULTIQC_MAPPINGS_CONFIG -\u001B[K\r\n",
      "\u001B[11A\r\n",
      "\u001B[2mexecutor >  local (8)\u001B[m\u001B[K\r\n",
      "\u001B[2m[\u001B[0;34m00/08e30c\u001B[0;2m] \u001B[0;2m\u001B[mNFC…S_TO_RUNINFO\u001B[33;2m (\u001B[0;33mSRR23195511\u001B[2m)\u001B[m\u001B[2m |\u001B[m 2 of 2\u001B[32m ✔\u001B[m\u001B[K\r\n",
      "\u001B[2m[\u001B[0;34m69/ff86ea\u001B[0;2m] \u001B[0;2mNFC…SRA:\u001B[mSRA_RUNINFO_TO_FTP\u001B[33;2m (\u001B[0;33m1\u001B[2m)\u001B[m\u001B[2m |\u001B[m 2 of 2\u001B[32m ✔\u001B[m\u001B[K\r\n",
      "\u001B[2m[\u001B[0;34m86/134bd3\u001B[0;2m] \u001B[0;2m\u001B[mNFC…\u001B[33;2m (\u001B[0;33mSRX19144488_SRR23195511\u001B[2m)\u001B[m\u001B[2m |\u001B[m 2 of 2\u001B[32m ✔\u001B[m\u001B[K\r\n",
      "\u001B[2m[\u001B[0;34m-        \u001B[0;2m] \u001B[0;2m\u001B[mNFC…USTOM_SRATOOLSNCBISETTINGS -\u001B[K\r\n",
      "\u001B[2m[\u001B[0;34m-        \u001B[0;2m] \u001B[0;2mNFC…SRATOOLS:\u001B[mSRATOOLS_PREFETCH -\u001B[K\r\n",
      "\u001B[2m[\u001B[0;34m-        \u001B[0;2m] \u001B[0;2mNFC…TOOLS:\u001B[mSRATOOLS_FASTERQDUMP -\u001B[K\r\n",
      "\u001B[2m[\u001B[0;34m-        \u001B[0;2m] \u001B[0;2mNFCORE_FETCHNGS:SRA:\u001B[mASPERA_CLI -\u001B[K\r\n",
      "\u001B[2m[\u001B[0;34m62/3ad6ae\u001B[0;2m] \u001B[0;2m\u001B[mNFC…\u001B[33;2m (\u001B[0;33mSRX19144488_SRR23195511\u001B[2m)\u001B[m\u001B[2m |\u001B[m 2 of 2\u001B[32m ✔\u001B[m\u001B[K\r\n",
      "\u001B[2m[\u001B[0;34m-        \u001B[0;2m] \u001B[0;2mNFC…RA:\u001B[mMULTIQC_MAPPINGS_CONFIG -\u001B[K\r\n",
      "\u001B[11A\r\n",
      "\u001B[2mexecutor >  local (9)\u001B[m\u001B[K\r\n",
      "\u001B[2m[\u001B[0;34m00/08e30c\u001B[0;2m] \u001B[0;2m\u001B[mNFC…S_TO_RUNINFO\u001B[33;2m (\u001B[0;33mSRR23195511\u001B[2m)\u001B[m\u001B[2m |\u001B[m 2 of 2\u001B[32m ✔\u001B[m\u001B[K\r\n",
      "\u001B[2m[\u001B[0;34m69/ff86ea\u001B[0;2m] \u001B[0;2mNFC…SRA:\u001B[mSRA_RUNINFO_TO_FTP\u001B[33;2m (\u001B[0;33m1\u001B[2m)\u001B[m\u001B[2m |\u001B[m 2 of 2\u001B[32m ✔\u001B[m\u001B[K\r\n",
      "\u001B[2m[\u001B[0;34m86/134bd3\u001B[0;2m] \u001B[0;2m\u001B[mNFC…\u001B[33;2m (\u001B[0;33mSRX19144488_SRR23195511\u001B[2m)\u001B[m\u001B[2m |\u001B[m 2 of 2\u001B[32m ✔\u001B[m\u001B[K\r\n",
      "\u001B[2m[\u001B[0;34m-        \u001B[0;2m] \u001B[0;2m\u001B[mNFC…USTOM_SRATOOLSNCBISETTINGS -\u001B[K\r\n",
      "\u001B[2m[\u001B[0;34m-        \u001B[0;2m] \u001B[0;2mNFC…SRATOOLS:\u001B[mSRATOOLS_PREFETCH -\u001B[K\r\n",
      "\u001B[2m[\u001B[0;34m-        \u001B[0;2m] \u001B[0;2mNFC…TOOLS:\u001B[mSRATOOLS_FASTERQDUMP -\u001B[K\r\n",
      "\u001B[2m[\u001B[0;34m-        \u001B[0;2m] \u001B[0;2mNFCORE_FETCHNGS:SRA:\u001B[mASPERA_CLI -\u001B[K\r\n",
      "\u001B[2m[\u001B[0;34m62/3ad6ae\u001B[0;2m] \u001B[0;2m\u001B[mNFC…\u001B[33;2m (\u001B[0;33mSRX19144488_SRR23195511\u001B[2m)\u001B[m\u001B[2m |\u001B[m 2 of 2\u001B[32m ✔\u001B[m\u001B[K\r\n",
      "\u001B[2m[\u001B[0;34ma5/6bb1f3\u001B[0;2m] \u001B[0;2m\u001B[mNFC…ULTIQC_MAPPINGS_CONFIG\u001B[33;2m (\u001B[0;33m1\u001B[2m)\u001B[m\u001B[2m |\u001B[m 0 of 1\u001B[K\r\n",
      "\u001B[11A\r\n",
      "\u001B[2mexecutor >  local (9)\u001B[m\u001B[K\r\n",
      "\u001B[2m[\u001B[0;34m00/08e30c\u001B[0;2m] \u001B[0;2m\u001B[mNFC…S_TO_RUNINFO\u001B[33;2m (\u001B[0;33mSRR23195511\u001B[2m)\u001B[m\u001B[2m |\u001B[m 2 of 2\u001B[32m ✔\u001B[m\u001B[K\r\n",
      "\u001B[2m[\u001B[0;34m69/ff86ea\u001B[0;2m] \u001B[0;2mNFC…SRA:\u001B[mSRA_RUNINFO_TO_FTP\u001B[33;2m (\u001B[0;33m1\u001B[2m)\u001B[m\u001B[2m |\u001B[m 2 of 2\u001B[32m ✔\u001B[m\u001B[K\r\n",
      "\u001B[2m[\u001B[0;34m86/134bd3\u001B[0;2m] \u001B[0;2m\u001B[mNFC…\u001B[33;2m (\u001B[0;33mSRX19144488_SRR23195511\u001B[2m)\u001B[m\u001B[2m |\u001B[m 2 of 2\u001B[32m ✔\u001B[m\u001B[K\r\n",
      "\u001B[2m[\u001B[0;34m-        \u001B[0;2m] \u001B[0;2m\u001B[mNFC…USTOM_SRATOOLSNCBISETTINGS -\u001B[K\r\n",
      "\u001B[2m[\u001B[0;34m-        \u001B[0;2m] \u001B[0;2mNFC…SRATOOLS:\u001B[mSRATOOLS_PREFETCH -\u001B[K\r\n",
      "\u001B[2m[\u001B[0;34m-        \u001B[0;2m] \u001B[0;2mNFC…TOOLS:\u001B[mSRATOOLS_FASTERQDUMP -\u001B[K\r\n",
      "\u001B[2m[\u001B[0;34m-        \u001B[0;2m] \u001B[0;2mNFCORE_FETCHNGS:SRA:\u001B[mASPERA_CLI -\u001B[K\r\n",
      "\u001B[2m[\u001B[0;34m62/3ad6ae\u001B[0;2m] \u001B[0;2m\u001B[mNFC…\u001B[33;2m (\u001B[0;33mSRX19144488_SRR23195511\u001B[2m)\u001B[m\u001B[2m |\u001B[m 2 of 2\u001B[32m ✔\u001B[m\u001B[K\r\n",
      "\u001B[2m[\u001B[0;34ma5/6bb1f3\u001B[0;2m] \u001B[0;2m\u001B[mNFC…ULTIQC_MAPPINGS_CONFIG\u001B[33;2m (\u001B[0;33m1\u001B[2m)\u001B[m\u001B[2m |\u001B[m 1 of 1\u001B[32m ✔\u001B[m\u001B[K\r\n",
      "\u001B[11A\r\n",
      "\u001B[2mexecutor >  local (9)\u001B[m\u001B[K\r\n",
      "\u001B[2m[\u001B[0;34m00/08e30c\u001B[0;2m] \u001B[0;2m\u001B[mNFC…S_TO_RUNINFO\u001B[33;2m (\u001B[0;33mSRR23195511\u001B[2m)\u001B[m\u001B[2m |\u001B[m 2 of 2\u001B[32m ✔\u001B[m\u001B[K\r\n",
      "\u001B[2m[\u001B[0;34m69/ff86ea\u001B[0;2m] \u001B[0;2mNFC…SRA:\u001B[mSRA_RUNINFO_TO_FTP\u001B[33;2m (\u001B[0;33m1\u001B[2m)\u001B[m\u001B[2m |\u001B[m 2 of 2\u001B[32m ✔\u001B[m\u001B[K\r\n",
      "\u001B[2m[\u001B[0;34m86/134bd3\u001B[0;2m] \u001B[0;2m\u001B[mNFC…\u001B[33;2m (\u001B[0;33mSRX19144488_SRR23195511\u001B[2m)\u001B[m\u001B[2m |\u001B[m 2 of 2\u001B[32m ✔\u001B[m\u001B[K\r\n",
      "\u001B[2m[\u001B[0;34m-        \u001B[0;2m] \u001B[0;2m\u001B[mNFC…USTOM_SRATOOLSNCBISETTINGS -\u001B[K\r\n",
      "\u001B[2m[\u001B[0;34m-        \u001B[0;2m] \u001B[0;2mNFC…SRATOOLS:\u001B[mSRATOOLS_PREFETCH -\u001B[K\r\n",
      "\u001B[2m[\u001B[0;34m-        \u001B[0;2m] \u001B[0;2mNFC…TOOLS:\u001B[mSRATOOLS_FASTERQDUMP -\u001B[K\r\n",
      "\u001B[2m[\u001B[0;34m-        \u001B[0;2m] \u001B[0;2mNFCORE_FETCHNGS:SRA:\u001B[mASPERA_CLI -\u001B[K\r\n",
      "\u001B[2m[\u001B[0;34m62/3ad6ae\u001B[0;2m] \u001B[0;2m\u001B[mNFC…\u001B[33;2m (\u001B[0;33mSRX19144488_SRR23195511\u001B[2m)\u001B[m\u001B[2m |\u001B[m 2 of 2\u001B[32m ✔\u001B[m\u001B[K\r\n",
      "\u001B[2m[\u001B[0;34ma5/6bb1f3\u001B[0;2m] \u001B[0;2m\u001B[mNFC…ULTIQC_MAPPINGS_CONFIG\u001B[33;2m (\u001B[0;33m1\u001B[2m)\u001B[m\u001B[2m |\u001B[m 1 of 1\u001B[32m ✔\u001B[m\u001B[K\r\n",
      "-\u001B[0;35m[nf-core/fetchngs]\u001B[0;32m Pipeline completed successfully\u001B[0m-\u001B[K\r\n",
      "\u001B[33mWARN: =============================================================================\u001B[K\r\n",
      "  Please double-check the samplesheet that has been auto-created by the pipeline.\u001B[K\r\n",
      "\u001B[K\r\n",
      "  Public databases don't reliably hold information such as strandedness\u001B[K\r\n",
      "  information, controls etc\u001B[K\r\n",
      "\u001B[K\r\n",
      "  All of the sample metadata obtained from the ENA has been appended\u001B[K\r\n",
      "  as additional columns to help you manually curate the samplesheet before\u001B[K\r\n",
      "  running nf-core/other pipelines.\u001B[K\r\n",
      "===================================================================================\u001B[39m\u001B[K\r\n",
      "\u001B[22A\r\n",
      "\u001B[2mexecutor >  local (9)\u001B[m\u001B[K\r\n",
      "\u001B[2m[\u001B[0;34m00/08e30c\u001B[0;2m] \u001B[0;2m\u001B[mNFC…S_TO_RUNINFO\u001B[33;2m (\u001B[0;33mSRR23195511\u001B[2m)\u001B[m\u001B[2m |\u001B[m 2 of 2\u001B[32m ✔\u001B[m\u001B[K\r\n",
      "\u001B[2m[\u001B[0;34m69/ff86ea\u001B[0;2m] \u001B[0;2mNFC…SRA:\u001B[mSRA_RUNINFO_TO_FTP\u001B[33;2m (\u001B[0;33m1\u001B[2m)\u001B[m\u001B[2m |\u001B[m 2 of 2\u001B[32m ✔\u001B[m\u001B[K\r\n",
      "\u001B[2m[\u001B[0;34m86/134bd3\u001B[0;2m] \u001B[0;2m\u001B[mNFC…\u001B[33;2m (\u001B[0;33mSRX19144488_SRR23195511\u001B[2m)\u001B[m\u001B[2m |\u001B[m 2 of 2\u001B[32m ✔\u001B[m\u001B[K\r\n",
      "\u001B[2m[\u001B[0;34m-        \u001B[0;2m] \u001B[0;2m\u001B[mNFC…USTOM_SRATOOLSNCBISETTINGS -\u001B[K\r\n",
      "\u001B[2m[\u001B[0;34m-        \u001B[0;2m] \u001B[0;2mNFC…SRATOOLS:\u001B[mSRATOOLS_PREFETCH -\u001B[K\r\n",
      "\u001B[2m[\u001B[0;34m-        \u001B[0;2m] \u001B[0;2mNFC…TOOLS:\u001B[mSRATOOLS_FASTERQDUMP -\u001B[K\r\n",
      "\u001B[2m[\u001B[0;34m-        \u001B[0;2m] \u001B[0;2mNFCORE_FETCHNGS:SRA:\u001B[mASPERA_CLI -\u001B[K\r\n",
      "\u001B[2m[\u001B[0;34m62/3ad6ae\u001B[0;2m] \u001B[0;2m\u001B[mNFC…\u001B[33;2m (\u001B[0;33mSRX19144488_SRR23195511\u001B[2m)\u001B[m\u001B[2m |\u001B[m 2 of 2\u001B[32m ✔\u001B[m\u001B[K\r\n",
      "\u001B[2m[\u001B[0;34ma5/6bb1f3\u001B[0;2m] \u001B[0;2m\u001B[mNFC…ULTIQC_MAPPINGS_CONFIG\u001B[33;2m (\u001B[0;33m1\u001B[2m)\u001B[m\u001B[2m |\u001B[m 1 of 1\u001B[32m ✔\u001B[m\u001B[K\r\n",
      "-\u001B[0;35m[nf-core/fetchngs]\u001B[0;32m Pipeline completed successfully\u001B[0m-\u001B[K\r\n",
      "\u001B[33mWARN: =============================================================================\u001B[K\r\n",
      "  Please double-check the samplesheet that has been auto-created by the pipeline.\u001B[K\r\n",
      "\u001B[K\r\n",
      "  Public databases don't reliably hold information such as strandedness\u001B[K\r\n",
      "  information, controls etc\u001B[K\r\n",
      "\u001B[K\r\n",
      "  All of the sample metadata obtained from the ENA has been appended\u001B[K\r\n",
      "  as additional columns to help you manually curate the samplesheet before\u001B[K\r\n",
      "  running nf-core/other pipelines.\u001B[K\r\n",
      "===================================================================================\u001B[39m\u001B[K\r\n",
      "\u001B[32;1mCompleted at: 30-Sep-2025 10:20:22\r\n",
      "Duration    : 9m 34s\r\n",
      "CPU hours   : 0.3\r\n",
      "Succeeded   : 9\r\n",
      "\u001B[22;39m\u001B[K\r\n",
      "\r\n"
     ]
    }
   ],
   "execution_count": 30
  },
  {
   "cell_type": "markdown",
   "metadata": {},
   "source": [
    "While your files are downloading, get back to the paper and explain how you would try to reproduce the analysis.<br>\n",
    "When you are done with this shout, so we can discuss the different ideas."
   ]
  },
  {
   "metadata": {},
   "cell_type": "markdown",
   "source": [
    "use the tools given in the methods sections with identical parameters and same 2x2 factorial design\n",
    "read alignment: HISAT2, read counting: HT-Seq, differential analysis: DeSEQ2, p-value cutoff < 0.05 and absolute log 2(fold change) > 0.5\n",
    "\n",
    "chain the nf-core pipelines rna-seq and differentialabundance together for analysis"
   ]
  },
  {
   "metadata": {},
   "cell_type": "code",
   "outputs": [],
   "execution_count": null,
   "source": ""
  }
 ],
 "metadata": {
  "kernelspec": {
   "display_name": "work",
   "language": "python",
   "name": "python3"
  },
  "language_info": {
   "name": "python",
   "version": "3.10.13"
  }
 },
 "nbformat": 4,
 "nbformat_minor": 2
}
